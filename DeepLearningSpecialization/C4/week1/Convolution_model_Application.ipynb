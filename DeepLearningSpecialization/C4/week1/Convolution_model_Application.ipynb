{
  "cells": [
    {
      "cell_type": "markdown",
      "metadata": {
        "id": "view-in-github",
        "colab_type": "text"
      },
      "source": [
        "<a href=\"https://colab.research.google.com/github/woongjoonchoi/Coursera_DLS/blob/main/C4/week1/Convolution_model_Application.ipynb\" target=\"_parent\"><img src=\"https://colab.research.google.com/assets/colab-badge.svg\" alt=\"Open In Colab\"/></a>"
      ]
    },
    {
      "cell_type": "markdown",
      "metadata": {
        "id": "uplpCcewQ1Sf"
      },
      "source": [
        "# Convolutional Neural Networks: Application\n",
        "\n",
        "Welcome to Course 4's second assignment! In this notebook, you will:\n",
        "\n",
        "- Create a mood classifer using the TF Keras Sequential API\n",
        "- Build a ConvNet to identify sign language digits using the TF Keras Functional API\n",
        "\n",
        "**After this assignment you will be able to:**\n",
        "\n",
        "- Build and train a ConvNet in TensorFlow for a __binary__ classification problem\n",
        "- Build and train a ConvNet in TensorFlow for a __multiclass__ classification problem\n",
        "- Explain different use cases for the Sequential and Functional APIs\n",
        "\n",
        "To complete this assignment, you should already be familiar with TensorFlow. If you are not, please refer back to the **TensorFlow Tutorial** of the third week of Course 2 (\"**Improving deep neural networks**\")."
      ]
    },
    {
      "cell_type": "markdown",
      "metadata": {
        "id": "sJx-az2TQ1Sj"
      },
      "source": [
        "## Table of Contents\n",
        "\n",
        "- [1 - Packages](#1)\n",
        "    - [1.1 - Load the Data and Split the Data into Train/Test Sets](#1-1)\n",
        "- [2 - Layers in TF Keras](#2)\n",
        "- [3 - The Sequential API](#3)\n",
        "    - [3.1 - Create the Sequential Model](#3-1)\n",
        "        - [Exercise 1 - happyModel](#ex-1)\n",
        "    - [3.2 - Train and Evaluate the Model](#3-2)\n",
        "- [4 - The Functional API](#4)\n",
        "    - [4.1 - Load the SIGNS Dataset](#4-1)\n",
        "    - [4.2 - Split the Data into Train/Test Sets](#4-2)\n",
        "    - [4.3 - Forward Propagation](#4-3)\n",
        "        - [Exercise 2 - convolutional_model](#ex-2)\n",
        "    - [4.4 - Train the Model](#4-4)\n",
        "- [5 - History Object](#5)\n",
        "- [6 - Bibliography](#6)"
      ]
    },
    {
      "cell_type": "markdown",
      "metadata": {
        "id": "o-WloPavQ1Sk"
      },
      "source": [
        "<a name='1'></a>\n",
        "## 1 - Packages\n",
        "\n",
        "As usual, begin by loading in the packages."
      ]
    },
    {
      "cell_type": "code",
      "source": [
        "from google.colab import drive\n",
        "drive.mount('/content/drive')"
      ],
      "metadata": {
        "colab": {
          "base_uri": "https://localhost:8080/"
        },
        "id": "LbxlgxE9Q49F",
        "outputId": "24f93e55-0fbc-431b-8f9f-772390568182"
      },
      "execution_count": null,
      "outputs": [
        {
          "output_type": "stream",
          "name": "stdout",
          "text": [
            "Mounted at /content/drive\n"
          ]
        }
      ]
    },
    {
      "cell_type": "code",
      "source": [
        "import os\n",
        "os.chdir('/content/drive/MyDrive/Colab Notebooks/DeepLearningSpecialization/C4/W1A2')"
      ],
      "metadata": {
        "id": "AIC-KoLWQ6W-"
      },
      "execution_count": null,
      "outputs": []
    },
    {
      "cell_type": "code",
      "execution_count": null,
      "metadata": {
        "id": "WRvzAUWyQ1Sl"
      },
      "outputs": [],
      "source": [
        "import math\n",
        "import numpy as np\n",
        "import h5py\n",
        "import matplotlib.pyplot as plt\n",
        "from matplotlib.pyplot import imread\n",
        "import scipy\n",
        "from PIL import Image\n",
        "import pandas as pd\n",
        "import tensorflow as tf\n",
        "import tensorflow.keras.layers as tfl\n",
        "from tensorflow.python.framework import ops\n",
        "from cnn_utils import *\n",
        "from test_utils import summary, comparator\n",
        "\n",
        "%matplotlib inline\n",
        "np.random.seed(1)"
      ]
    },
    {
      "cell_type": "markdown",
      "metadata": {
        "id": "uQnu2fJTQ1Sn"
      },
      "source": [
        "<a name='1-1'></a>\n",
        "### 1.1 - Load the Data and Split the Data into Train/Test Sets\n",
        "\n",
        "You'll be using the Happy House dataset for this part of the assignment, which contains images of peoples' faces. Your task will be to build a ConvNet that determines whether the people in the images are smiling or not -- because they only get to enter the house if they're smiling!  "
      ]
    },
    {
      "cell_type": "code",
      "execution_count": null,
      "metadata": {
        "colab": {
          "base_uri": "https://localhost:8080/"
        },
        "id": "oBMK0LeAQ1Sn",
        "outputId": "921a28ea-e3f6-4c3c-a7a8-7edc5ba905b4"
      },
      "outputs": [
        {
          "output_type": "stream",
          "name": "stdout",
          "text": [
            "number of training examples = 600\n",
            "number of test examples = 150\n",
            "X_train shape: (600, 64, 64, 3)\n",
            "Y_train shape: (600, 1)\n",
            "X_test shape: (150, 64, 64, 3)\n",
            "Y_test shape: (150, 1)\n"
          ]
        }
      ],
      "source": [
        "X_train_orig, Y_train_orig, X_test_orig, Y_test_orig, classes = load_happy_dataset()\n",
        "\n",
        "# Normalize image vectors\n",
        "X_train = X_train_orig/255.\n",
        "X_test = X_test_orig/255.\n",
        "\n",
        "# Reshape\n",
        "Y_train = Y_train_orig.T\n",
        "Y_test = Y_test_orig.T\n",
        "\n",
        "print (\"number of training examples = \" + str(X_train.shape[0]))\n",
        "print (\"number of test examples = \" + str(X_test.shape[0]))\n",
        "print (\"X_train shape: \" + str(X_train.shape))\n",
        "print (\"Y_train shape: \" + str(Y_train.shape))\n",
        "print (\"X_test shape: \" + str(X_test.shape))\n",
        "print (\"Y_test shape: \" + str(Y_test.shape))"
      ]
    },
    {
      "cell_type": "code",
      "source": [
        "X_train_orig, Y_train_orig, X_test_orig, Y_test_orig, classes = load_happy_dataset()\n",
        "\n",
        "print(X_train_orig.shape)\n",
        "print(Y_train_orig.shape)\n",
        "# image는 batch ,height,width, channel의 shape인거같다.\n",
        "# label은 (label, batchsize)인데 이 shape를 (batch_size, label)  로 바꿔저서\n",
        "#   computation의 이점을 얻자\n",
        "\n",
        "# # Normalize\n",
        "X_train = X_train_orig/255.\n",
        "X_test = X_test_orig/255\n",
        "\n",
        "#Reshape\n",
        "\n",
        "Y_train = Y_train_orig.T\n",
        "Y_test = Y_test_orig.T\n",
        "\n",
        "print(f\"number of training examples = {str(X_train.shape[0])}\")\n",
        "print(f\"number of test examples =  {str(X_test.shape[0])}\")\n",
        "\n",
        "print(f\"X_train shape : {str(X_train.shape)}\")\n",
        "print(f\"Y_train shape : {str(Y_train.shape)}\")\n",
        "print(f\"X_test shape : {str(X_test.shape)}\")\n",
        "print(f\"Y_test shape : {str(Y_test.shape)}\")"
      ],
      "metadata": {
        "colab": {
          "base_uri": "https://localhost:8080/"
        },
        "id": "WuWxfavnRJyF",
        "outputId": "eddf61ae-fa72-4c13-d30a-ed918c94848d"
      },
      "execution_count": null,
      "outputs": [
        {
          "output_type": "stream",
          "name": "stdout",
          "text": [
            "(600, 64, 64, 3)\n",
            "(1, 600)\n",
            "number of training examples = 600\n",
            "number of test examples =  150\n",
            "X_train shape : (600, 64, 64, 3)\n",
            "Y_train shape : (600, 1)\n",
            "X_test shape : (150, 64, 64, 3)\n",
            "Y_test shape : (150, 1)\n"
          ]
        }
      ]
    },
    {
      "cell_type": "markdown",
      "metadata": {
        "id": "xdK850YAQ1So"
      },
      "source": [
        "You can display the images contained in the dataset. Images are **64x64** pixels in RGB format (3 channels)."
      ]
    },
    {
      "cell_type": "code",
      "execution_count": null,
      "metadata": {
        "colab": {
          "base_uri": "https://localhost:8080/",
          "height": 268
        },
        "id": "AR7JWBPtQ1So",
        "outputId": "a19ce477-77a8-4bce-9605-6b60dc9f5668"
      },
      "outputs": [
        {
          "output_type": "display_data",
          "data": {
            "image/png": "[encoded data removed]",
            "text/plain": [
              "<Figure size 432x288 with 1 Axes>"
            ]
          },
          "metadata": {
            "needs_background": "light"
          }
        }
      ],
      "source": [
        "index = 124\n",
        "plt.imshow(X_train_orig[index]) #display sample training image\n",
        "plt.show()"
      ]
    },
    {
      "cell_type": "code",
      "source": [
        "index  = 64\n",
        "plt.imshow(X_train_orig[index])\n",
        "plt.show()"
      ],
      "metadata": {
        "colab": {
          "base_uri": "https://localhost:8080/",
          "height": 268
        },
        "id": "XJDvZ3kDSX6j",
        "outputId": "6dcd0765-8bf1-4809-a6ce-75f71ec534e3"
      },
      "execution_count": null,
      "outputs": [
        {
          "output_type": "display_data",
          "data": {
            "image/png": "[encoded data removed]",
            "text/plain": [
              "<Figure size 432x288 with 1 Axes>"
            ]
          },
          "metadata": {
            "needs_background": "light"
          }
        }
      ]
    },
    {
      "cell_type": "markdown",
      "metadata": {
        "id": "aOeRx_vzQ1Sp"
      },
      "source": [
        "<a name='2'></a>\n",
        "## 2 - Layers in TF Keras \n",
        "\n",
        "In the previous assignment, you created layers manually in numpy. In TF Keras, you don't have to write code directly to create layers. Rather, TF Keras has pre-defined layers you can use. \n",
        "\n",
        "When you create a layer in TF Keras, you are creating a function that takes some input and transforms it into an output you can reuse later. Nice and easy! "
      ]
    },
    {
      "cell_type": "markdown",
      "metadata": {
        "id": "x-RW544kQ1Sq"
      },
      "source": [
        "<a name='3'></a>\n",
        "## 3 - The Sequential API\n",
        "\n",
        "In the previous assignment, you built helper functions using `numpy` to understand the mechanics behind convolutional neural networks. Most practical applications of deep learning today are built using programming frameworks, which have many built-in functions you can simply call. Keras is a high-level abstraction built on top of TensorFlow, which allows for even more simplified and optimized model creation and training. \n",
        "\n",
        "For the first part of this assignment, you'll create a model using TF Keras' Sequential API, which allows you to build layer by layer, and is ideal for building models where each layer has **exactly one** input tensor and **one** output tensor. \n",
        "\n",
        "As you'll see, using the Sequential API is simple and straightforward, but is only appropriate for simpler, more straightforward tasks. Later in this notebook you'll spend some time building with a more flexible, powerful alternative: the Functional API. \n",
        " "
      ]
    },
    {
      "cell_type": "markdown",
      "metadata": {
        "id": "9a-ue6BzQ1Sq"
      },
      "source": [
        "<a name='3-1'></a>\n",
        "### 3.1 - Create the Sequential Model\n",
        "\n",
        "As mentioned earlier, the TensorFlow Keras Sequential API can be used to build simple models with layer operations that proceed in a sequential order. \n",
        "\n",
        "You can also add layers incrementally to a Sequential model with the `.add()` method, or remove them using the `.pop()` method, much like you would in a regular Python list.\n",
        "\n",
        "Actually, you can think of a Sequential model as behaving like a list of layers. Like Python lists, Sequential layers are ordered, and the order in which they are specified matters.  If your model is non-linear or contains layers with multiple inputs or outputs, a Sequential model wouldn't be the right choice!\n",
        "\n",
        "For any layer construction in Keras, you'll need to specify the input shape in advance. This is because in Keras, the shape of the weights is based on the shape of the inputs. The weights are only created when the model first sees some input data. Sequential models can be created by passing a list of layers to the Sequential constructor, like you will do in the next assignment.\n",
        "\n",
        "<a name='ex-1'></a>\n",
        "### Exercise 1 - happyModel\n",
        "\n",
        "Implement the `happyModel` function below to build the following model: `ZEROPAD2D -> CONV2D -> BATCHNORM -> RELU -> MAXPOOL -> FLATTEN -> DENSE`. Take help from [tf.keras.layers](https://www.tensorflow.org/api_docs/python/tf/keras/layers) \n",
        "\n",
        "Also, plug in the following parameters for all the steps:\n",
        "\n",
        " - [ZeroPadding2D](https://www.tensorflow.org/api_docs/python/tf/keras/layers/ZeroPadding2D): padding 3, input shape 64 x 64 x 3\n",
        " - [Conv2D](https://www.tensorflow.org/api_docs/python/tf/keras/layers/Conv2D): Use 32 7x7 filters, stride 1\n",
        " - [BatchNormalization](https://www.tensorflow.org/api_docs/python/tf/keras/layers/BatchNormalization): for axis 3\n",
        " - [ReLU](https://www.tensorflow.org/api_docs/python/tf/keras/layers/ReLU)\n",
        " - [MaxPool2D](https://www.tensorflow.org/api_docs/python/tf/keras/layers/MaxPool2D): Using default parameters\n",
        " - [Flatten](https://www.tensorflow.org/api_docs/python/tf/keras/layers/Flatten) the previous output.\n",
        " - Fully-connected ([Dense](https://www.tensorflow.org/api_docs/python/tf/keras/layers/Dense)) layer: Apply a fully connected layer with 1 neuron and a sigmoid activation. \n",
        " \n",
        " \n",
        " **Hint:**\n",
        " \n",
        " Use **tfl** as shorthand for **tensorflow.keras.layers**"
      ]
    },
    {
      "cell_type": "code",
      "execution_count": null,
      "metadata": {
        "deletable": false,
        "nbgrader": {
          "cell_type": "code",
          "checksum": "95d28b191f257bdd5b70c7b8952559d5",
          "grade": false,
          "grade_id": "cell-0e56d3fc28b69aec",
          "locked": false,
          "schema_version": 3,
          "solution": true,
          "task": false
        },
        "id": "qf0HExZsQ1Sr"
      },
      "outputs": [],
      "source": [
        "# GRADED FUNCTION: happyModel\n",
        "\n",
        "def happyModel():\n",
        "    \"\"\"\n",
        "    Implements the forward propagation for the binary classification model:\n",
        "    ZEROPAD2D -> CONV2D -> BATCHNORM -> RELU -> MAXPOOL -> FLATTEN -> DENSE\n",
        "    \n",
        "    Note that for simplicity and grading purposes, you'll hard-code all the values\n",
        "    such as the stride and kernel (filter) sizes. \n",
        "    Normally, functions should take these values as function parameters.\n",
        "    \n",
        "    Arguments:\n",
        "    None\n",
        "\n",
        "    Returns:\n",
        "    model -- TF Keras model (object containing the information for the entire training process) \n",
        "    \"\"\"\n",
        "    model = tf.keras.Sequential([\n",
        "            ## ZeroPadding2D with padding 3, input shape of 64 x 64 x 3\n",
        "            \n",
        "            ## Conv2D with 32 7x7 filters and stride of 1\n",
        "            \n",
        "            ## BatchNormalization for axis 3\n",
        "            \n",
        "            ## ReLU\n",
        "            \n",
        "            ## Max Pooling 2D with default parameters\n",
        "            \n",
        "            ## Flatten layer\n",
        "            \n",
        "            ## Dense layer with 1 unit for output & 'sigmoid' activation\n",
        "            \n",
        "            # YOUR CODE STARTS HERE\n",
        "            \n",
        "            \n",
        "            # YOUR CODE ENDS HERE\n",
        "        ])\n",
        "    \n",
        "    return model"
      ]
    },
    {
      "cell_type": "code",
      "source": [
        "# GRADED FUNCTION: happyModel\n",
        "\n",
        "def happyModel():\n",
        "    \"\"\"\n",
        "    Implements the forward propagation for the binary classification model:\n",
        "    ZEROPAD2D -> CONV2D -> BATCHNORM -> RELU -> MAXPOOL -> FLATTEN -> DENSE\n",
        "    \n",
        "    Note that for simplicity and grading purposes, you'll hard-code all the values\n",
        "    such as the stride and kernel (filter) sizes. \n",
        "    Normally, functions should take these values as function parameters.\n",
        "    \n",
        "    Arguments:\n",
        "    None\n",
        "\n",
        "    Returns:\n",
        "    model -- TF Keras model (object containing the information for the entire training process) \n",
        "    \"\"\"\n",
        "    model = tf.keras.Sequential([\n",
        "                                 tfl.InputLayer(input_shape=(64,64,3)),\n",
        "                                 tf.keras.layers.ZeroPadding2D(padding = (3,3) ) ,\n",
        "                                 tf.keras.layers.Conv2D(32,7) , \n",
        "                                 tf.keras.layers.BatchNormalization(axis=3) , \n",
        "                                 tf.keras.layers.ReLU() , \n",
        "                                 tf.keras.layers.MaxPool2D()  ,\n",
        "                                 tf.keras.layers.Flatten(  )  , \n",
        "                                 tf.keras.layers.Dense(units = 1 ,  activation = 'sigmoid') \n",
        "\n",
        "\n",
        "    ])\n",
        "    return model"
      ],
      "metadata": {
        "id": "itJNZJUuTT9y"
      },
      "execution_count": null,
      "outputs": []
    },
    {
      "cell_type": "code",
      "execution_count": null,
      "metadata": {
        "deletable": false,
        "editable": false,
        "nbgrader": {
          "cell_type": "code",
          "checksum": "8d3575c950e2e78149be2d05d671c80d",
          "grade": true,
          "grade_id": "cell-e3e1046e5c33d775",
          "locked": true,
          "points": 10,
          "schema_version": 3,
          "solution": false,
          "task": false
        },
        "colab": {
          "base_uri": "https://localhost:8080/"
        },
        "id": "k9WznRBJQ1Sr",
        "outputId": "b375e0dd-5b40-4567-8867-bcbf6b751cd1"
      },
      "outputs": [
        {
          "output_type": "stream",
          "name": "stdout",
          "text": [
            "['ZeroPadding2D', (None, 70, 70, 3), 0, ((3, 3), (3, 3))]\n",
            "['Conv2D', (None, 64, 64, 32), 4736, 'valid', 'linear', 'GlorotUniform']\n",
            "['BatchNormalization', (None, 64, 64, 32), 128]\n",
            "['ReLU', (None, 64, 64, 32), 0]\n",
            "['MaxPooling2D', (None, 32, 32, 32), 0, (2, 2), (2, 2), 'valid']\n",
            "['Flatten', (None, 32768), 0]\n",
            "['Dense', (None, 1), 32769, 'sigmoid']\n",
            "\u001b[32mAll tests passed!\u001b[0m\n"
          ]
        }
      ],
      "source": [
        "happy_model = happyModel()\n",
        "# Print a summary for each layer\n",
        "for layer in summary(happy_model):\n",
        "    print(layer)\n",
        "    \n",
        "output = [['ZeroPadding2D', (None, 70, 70, 3), 0, ((3, 3), (3, 3))],\n",
        "            ['Conv2D', (None, 64, 64, 32), 4736, 'valid', 'linear', 'GlorotUniform'],\n",
        "            ['BatchNormalization', (None, 64, 64, 32), 128],\n",
        "            ['ReLU', (None, 64, 64, 32), 0],\n",
        "            ['MaxPooling2D', (None, 32, 32, 32), 0, (2, 2), (2, 2), 'valid'],\n",
        "            ['Flatten', (None, 32768), 0],\n",
        "            ['Dense', (None, 1), 32769, 'sigmoid']]\n",
        "    \n",
        "comparator(summary(happy_model), output)"
      ]
    },
    {
      "cell_type": "markdown",
      "metadata": {
        "id": "8LcNu6KZQ1Ss"
      },
      "source": [
        "Now that your model is created, you can compile it for training with an optimizer and loss of your choice. When the string `accuracy` is specified as a metric, the type of accuracy used will be automatically converted based on the loss function used. This is one of the many optimizations built into TensorFlow that make your life easier! If you'd like to read more on how the compiler operates, check the docs [here](https://www.tensorflow.org/api_docs/python/tf/keras/Model#compile)."
      ]
    },
    {
      "cell_type": "code",
      "execution_count": null,
      "metadata": {
        "id": "TkpwPe3CQ1Ss"
      },
      "outputs": [],
      "source": [
        "happy_model.compile(optimizer='adam',\n",
        "                   loss='binary_crossentropy',\n",
        "                   metrics=['accuracy'])"
      ]
    },
    {
      "cell_type": "markdown",
      "metadata": {
        "id": "e2TbVD95Q1Ss"
      },
      "source": [
        "It's time to check your model's parameters with the `.summary()` method. This will display the types of layers you have, the shape of the outputs, and how many parameters are in each layer. "
      ]
    },
    {
      "cell_type": "code",
      "execution_count": null,
      "metadata": {
        "colab": {
          "base_uri": "https://localhost:8080/"
        },
        "id": "NDzLq8AeQ1Ss",
        "outputId": "0011cad3-3c50-4d7f-8371-8bf31f3cf73b"
      },
      "outputs": [
        {
          "output_type": "stream",
          "name": "stdout",
          "text": [
            "Model: \"sequential\"\n",
            "_________________________________________________________________\n",
            " Layer (type)                Output Shape              Param #   \n",
            "=================================================================\n",
            " zero_padding2d (ZeroPadding  (None, 70, 70, 3)        0         \n",
            " 2D)                                                             \n",
            "                                                                 \n",
            " conv2d (Conv2D)             (None, 64, 64, 32)        4736      \n",
            "                                                                 \n",
            " batch_normalization (BatchN  (None, 64, 64, 32)       128       \n",
            " ormalization)                                                   \n",
            "                                                                 \n",
            " re_lu (ReLU)                (None, 64, 64, 32)        0         \n",
            "                                                                 \n",
            " max_pooling2d (MaxPooling2D  (None, 32, 32, 32)       0         \n",
            " )                                                               \n",
            "                                                                 \n",
            " flatten (Flatten)           (None, 32768)             0         \n",
            "                                                                 \n",
            " dense (Dense)               (None, 1)                 32769     \n",
            "                                                                 \n",
            "=================================================================\n",
            "Total params: 37,633\n",
            "Trainable params: 37,569\n",
            "Non-trainable params: 64\n",
            "_________________________________________________________________\n"
          ]
        }
      ],
      "source": [
        "happy_model.summary()"
      ]
    },
    {
      "cell_type": "markdown",
      "metadata": {
        "id": "h19Gp31DQ1St"
      },
      "source": [
        "<a name='3-2'></a>\n",
        "### 3.2 - Train and Evaluate the Model\n",
        "\n",
        "After creating the model, compiling it with your choice of optimizer and loss function, and doing a sanity check on its contents, you are now ready to build! \n",
        "\n",
        "Simply call `.fit()` to train. That's it! No need for mini-batching, saving, or complex backpropagation computations. That's all been done for you, as you're using a TensorFlow dataset with the batches specified already. You do have the option to specify epoch number or minibatch size if you like (for example, in the case of an un-batched dataset)."
      ]
    },
    {
      "cell_type": "code",
      "execution_count": null,
      "metadata": {
        "id": "cpIiiuAtQ1St",
        "colab": {
          "base_uri": "https://localhost:8080/"
        },
        "outputId": "2a843e6e-097f-4426-eb4a-4f470e64067c"
      },
      "outputs": [
        {
          "output_type": "stream",
          "name": "stdout",
          "text": [
            "Epoch 1/10\n",
            "38/38 [==============================] - 5s 98ms/step - loss: 1.0862 - accuracy: 0.6800\n",
            "Epoch 2/10\n",
            "38/38 [==============================] - 4s 98ms/step - loss: 0.1869 - accuracy: 0.9417\n",
            "Epoch 3/10\n",
            "38/38 [==============================] - 4s 99ms/step - loss: 0.1513 - accuracy: 0.9433\n",
            "Epoch 4/10\n",
            "38/38 [==============================] - 4s 99ms/step - loss: 0.1635 - accuracy: 0.9400\n",
            "Epoch 5/10\n",
            "38/38 [==============================] - 4s 101ms/step - loss: 0.1175 - accuracy: 0.9550\n",
            "Epoch 6/10\n",
            "38/38 [==============================] - 4s 100ms/step - loss: 0.1804 - accuracy: 0.9300\n",
            "Epoch 7/10\n",
            "38/38 [==============================] - 4s 100ms/step - loss: 0.1053 - accuracy: 0.9600\n",
            "Epoch 8/10\n",
            "38/38 [==============================] - 4s 100ms/step - loss: 0.1359 - accuracy: 0.9517\n",
            "Epoch 9/10\n",
            "38/38 [==============================] - 4s 103ms/step - loss: 0.1367 - accuracy: 0.9450\n",
            "Epoch 10/10\n",
            "38/38 [==============================] - 4s 100ms/step - loss: 0.0826 - accuracy: 0.9750\n"
          ]
        },
        {
          "output_type": "execute_result",
          "data": {
            "text/plain": [
              "<keras.callbacks.History at 0x7f7c81d3d0d0>"
            ]
          },
          "metadata": {},
          "execution_count": 15
        }
      ],
      "source": [
        "happy_model.fit(X_train, Y_train, epochs=10, batch_size=16)"
      ]
    },
    {
      "cell_type": "markdown",
      "metadata": {
        "id": "uO4dHx_gQ1St"
      },
      "source": [
        "After that completes, just use `.evaluate()` to evaluate against your test set. This function will print the value of the loss function and the performance metrics specified during the compilation of the model. In this case, the `binary_crossentropy` and the `accuracy` respectively."
      ]
    },
    {
      "cell_type": "code",
      "execution_count": null,
      "metadata": {
        "id": "zSPQG8MKQ1St",
        "colab": {
          "base_uri": "https://localhost:8080/"
        },
        "outputId": "ed5bef29-3d7b-43f4-eac4-0273919c7a28"
      },
      "outputs": [
        {
          "output_type": "stream",
          "name": "stdout",
          "text": [
            "5/5 [==============================] - 0s 53ms/step - loss: 0.1159 - accuracy: 0.9667\n"
          ]
        },
        {
          "output_type": "execute_result",
          "data": {
            "text/plain": [
              "[0.1158968135714531, 0.9666666388511658]"
            ]
          },
          "metadata": {},
          "execution_count": 16
        }
      ],
      "source": [
        "happy_model.evaluate(X_test, Y_test)"
      ]
    },
    {
      "cell_type": "markdown",
      "metadata": {
        "id": "evVaywAyQ1Su"
      },
      "source": [
        "Easy, right? But what if you need to build a model with shared layers, branches, or multiple inputs and outputs? This is where Sequential, with its beautifully simple yet limited functionality, won't be able to help you. \n",
        "\n",
        "Next up: Enter the Functional API, your slightly more complex, highly flexible friend.  "
      ]
    },
    {
      "cell_type": "markdown",
      "metadata": {
        "id": "8i2JECXaQ1Su"
      },
      "source": [
        "<a name='4'></a>\n",
        "## 4 - The Functional API"
      ]
    },
    {
      "cell_type": "markdown",
      "metadata": {
        "id": "jn9SMbfxQ1Su"
      },
      "source": [
        "Welcome to the second half of the assignment, where you'll use Keras' flexible [Functional API](https://www.tensorflow.org/guide/keras/functional) to build a ConvNet that can differentiate between 6 sign language digits. \n",
        "\n",
        "The Functional API can handle models with non-linear topology, shared layers, as well as layers with multiple inputs or outputs. Imagine that, where the Sequential API requires the model to move in a linear fashion through its layers, the Functional API allows much more flexibility. Where Sequential is a straight line, a Functional model is a graph, where the nodes of the layers can connect in many more ways than one. \n",
        "\n",
        "In the visual example below, the one possible direction of the movement Sequential model is shown in contrast to a skip connection, which is just one of the many ways a Functional model can be constructed. A skip connection, as you might have guessed, skips some layer in the network and feeds the output to a later layer in the network. Don't worry, you'll be spending more time with skip connections very soon! "
      ]
    },
    {
      "cell_type": "markdown",
      "metadata": {
        "id": "NjIaoelsQ1Su"
      },
      "source": [
        "<img src=\"images/seq_vs_func.png\" style=\"width:350px;height:200px;\">"
      ]
    },
    {
      "cell_type": "markdown",
      "metadata": {
        "id": "DQRsibNsQ1Su"
      },
      "source": [
        "<a name='4-1'></a>\n",
        "### 4.1 - Load the SIGNS Dataset\n",
        "\n",
        "As a reminder, the SIGNS dataset is a collection of 6 signs representing numbers from 0 to 5."
      ]
    },
    {
      "cell_type": "code",
      "execution_count": null,
      "metadata": {
        "id": "iUfcY50SQ1Sv"
      },
      "outputs": [],
      "source": [
        "# Loading the data (signs)\n",
        "X_train_orig, Y_train_orig, X_test_orig, Y_test_orig, classes = load_signs_dataset()"
      ]
    },
    {
      "cell_type": "markdown",
      "metadata": {
        "id": "R0_P8uFWQ1Sv"
      },
      "source": [
        "<img src=\"images/SIGNS.png\" style=\"width:800px;height:300px;\">\n",
        "\n",
        "The next cell will show you an example of a labelled image in the dataset. Feel free to change the value of `index` below and re-run to see different examples. "
      ]
    },
    {
      "cell_type": "code",
      "execution_count": null,
      "metadata": {
        "id": "uUvkSWSJQ1Sv",
        "colab": {
          "base_uri": "https://localhost:8080/",
          "height": 286
        },
        "outputId": "a02b9d4b-645a-4891-ccf6-fa776050c55b"
      },
      "outputs": [
        {
          "output_type": "stream",
          "name": "stdout",
          "text": [
            "y = 4\n"
          ]
        },
        {
          "output_type": "display_data",
          "data": {
            "image/png": "[encoded data removed]",
            "text/plain": [
              "<Figure size 432x288 with 1 Axes>"
            ]
          },
          "metadata": {
            "needs_background": "light"
          }
        }
      ],
      "source": [
        "# Example of an image from the dataset\n",
        "index = 9\n",
        "plt.imshow(X_train_orig[index])\n",
        "print (\"y = \" + str(np.squeeze(Y_train_orig[:, index])))"
      ]
    },
    {
      "cell_type": "markdown",
      "metadata": {
        "id": "ax2jT_hZQ1Sw"
      },
      "source": [
        "<a name='4-2'></a>\n",
        "### 4.2 - Split the Data into Train/Test Sets\n",
        "\n",
        "In Course 2, you built a fully-connected network for this dataset. But since this is an image dataset, it is more natural to apply a ConvNet to it.\n",
        "\n",
        "To get started, let's examine the shapes of your data. "
      ]
    },
    {
      "cell_type": "code",
      "execution_count": null,
      "metadata": {
        "id": "32co1OtTQ1Sw",
        "colab": {
          "base_uri": "https://localhost:8080/"
        },
        "outputId": "6f2c3576-674e-4160-f63f-433313a6a7af"
      },
      "outputs": [
        {
          "output_type": "stream",
          "name": "stdout",
          "text": [
            "number of training examples = 1080\n",
            "number of test examples = 120\n",
            "X_train shape: (1080, 64, 64, 3)\n",
            "Y_train shape: (1080, 6)\n",
            "X_test shape: (120, 64, 64, 3)\n",
            "Y_test shape: (120, 6)\n"
          ]
        }
      ],
      "source": [
        "X_train = X_train_orig/255.\n",
        "X_test = X_test_orig/255.\n",
        "Y_train = convert_to_one_hot(Y_train_orig, 6).T\n",
        "Y_test = convert_to_one_hot(Y_test_orig, 6).T\n",
        "print (\"number of training examples = \" + str(X_train.shape[0]))\n",
        "print (\"number of test examples = \" + str(X_test.shape[0]))\n",
        "print (\"X_train shape: \" + str(X_train.shape))\n",
        "print (\"Y_train shape: \" + str(Y_train.shape))\n",
        "print (\"X_test shape: \" + str(X_test.shape))\n",
        "print (\"Y_test shape: \" + str(Y_test.shape))"
      ]
    },
    {
      "cell_type": "markdown",
      "metadata": {
        "id": "wxu7pD1XQ1Sw"
      },
      "source": [
        "<a name='4-3'></a>\n",
        "### 4.3 - Forward Propagation\n",
        "\n",
        "In TensorFlow, there are built-in functions that implement the convolution steps for you. By now, you should be familiar with how TensorFlow builds computational graphs. In the [Functional API](https://www.tensorflow.org/guide/keras/functional), you create a graph of layers. This is what allows such great flexibility.\n",
        "\n",
        "However, the following model could also be defined using the Sequential API since the information flow is on a single line. But don't deviate. What we want you to learn is to use the functional API.\n",
        "\n",
        "Begin building your graph of layers by creating an input node that functions as a callable object:\n",
        "\n",
        "- **input_img = tf.keras.Input(shape=input_shape):** \n",
        "\n",
        "Then, create a new node in the graph of layers by calling a layer on the `input_img` object: \n",
        "\n",
        "- **tf.keras.layers.Conv2D(filters= ... , kernel_size= ... , padding='same')(input_img):** Read the full documentation on [Conv2D](https://www.tensorflow.org/api_docs/python/tf/keras/layers/Conv2D).\n",
        "\n",
        "- **tf.keras.layers.MaxPool2D(pool_size=(f, f), strides=(s, s), padding='same'):** `MaxPool2D()` downsamples your input using a window of size (f, f) and strides of size (s, s) to carry out max pooling over each window.  For max pooling, you usually operate on a single example at a time and a single channel at a time. Read the full documentation on [MaxPool2D](https://www.tensorflow.org/api_docs/python/tf/keras/layers/MaxPool2D).\n",
        "\n",
        "- **tf.keras.layers.ReLU():** computes the elementwise ReLU of Z (which can be any shape). You can read the full documentation on [ReLU](https://www.tensorflow.org/api_docs/python/tf/keras/layers/ReLU).\n",
        "\n",
        "- **tf.keras.layers.Flatten()**: given a tensor \"P\", this function takes each training (or test) example in the batch and flattens it into a 1D vector.  \n",
        "\n",
        "    * If a tensor P has the shape (batch_size,h,w,c), it returns a flattened tensor with shape (batch_size, k), where $k=h \\times w \\times c$.  \"k\" equals the product of all the dimension sizes other than the first dimension.\n",
        "    \n",
        "    * For example, given a tensor with dimensions [100, 2, 3, 4], it flattens the tensor to be of shape [100, 24], where 24 = 2 * 3 * 4.  You can read the full documentation on [Flatten](https://www.tensorflow.org/api_docs/python/tf/keras/layers/Flatten).\n",
        "\n",
        "- **tf.keras.layers.Dense(units= ... , activation='softmax')(F):** given the flattened input F, it returns the output computed using a fully connected layer. You can read the full documentation on [Dense](https://www.tensorflow.org/api_docs/python/tf/keras/layers/Dense).\n",
        "\n",
        "In the last function above (`tf.keras.layers.Dense()`), the fully connected layer automatically initializes weights in the graph and keeps on training them as you train the model. Hence, you did not need to initialize those weights when initializing the parameters.\n",
        "\n",
        "Lastly, before creating the model, you'll need to define the output using the last of the function's compositions (in this example, a Dense layer): \n",
        "\n",
        "- **outputs = tf.keras.layers.Dense(units=6, activation='softmax')(F)**\n",
        "\n",
        "\n",
        "#### Window, kernel, filter, pool\n",
        "\n",
        "The words \"kernel\" and \"filter\" are used to refer to the same thing. The word \"filter\" accounts for the amount of \"kernels\" that will be used in a single convolution layer. \"Pool\" is the name of the operation that takes the max or average value of the kernels. \n",
        "\n",
        "This is why the parameter `pool_size` refers to `kernel_size`, and you use `(f,f)` to refer to the filter size. \n",
        "\n",
        "Pool size and kernel size refer to the same thing in different objects - They refer to the shape of the window where the operation takes place. "
      ]
    },
    {
      "cell_type": "markdown",
      "metadata": {
        "id": "SjtVnVgJQ1Sx"
      },
      "source": [
        "<a name='ex-2'></a>\n",
        "### Exercise 2 - convolutional_model\n",
        "\n",
        "Implement the `convolutional_model` function below to build the following model: `CONV2D -> RELU -> MAXPOOL -> CONV2D -> RELU -> MAXPOOL -> FLATTEN -> DENSE`. Use the functions above! \n",
        "\n",
        "Also, plug in the following parameters for all the steps:\n",
        "\n",
        " - [Conv2D](https://www.tensorflow.org/api_docs/python/tf/keras/layers/Conv2D): Use 8 4 by 4 filters, stride 1, padding is \"SAME\"\n",
        " - [ReLU](https://www.tensorflow.org/api_docs/python/tf/keras/layers/ReLU)\n",
        " - [MaxPool2D](https://www.tensorflow.org/api_docs/python/tf/keras/layers/MaxPool2D): Use an 8 by 8 filter size and an 8 by 8 stride, padding is \"SAME\"\n",
        " - **Conv2D**: Use 16 2 by 2 filters, stride 1, padding is \"SAME\"\n",
        " - **ReLU**\n",
        " - **MaxPool2D**: Use a 4 by 4 filter size and a 4 by 4 stride, padding is \"SAME\"\n",
        " - [Flatten](https://www.tensorflow.org/api_docs/python/tf/keras/layers/Flatten) the previous output.\n",
        " - Fully-connected ([Dense](https://www.tensorflow.org/api_docs/python/tf/keras/layers/Dense)) layer: Apply a fully connected layer with 6 neurons and a softmax activation. "
      ]
    },
    {
      "cell_type": "code",
      "execution_count": null,
      "metadata": {
        "deletable": false,
        "nbgrader": {
          "cell_type": "code",
          "checksum": "f58643806aa8380c96225fc8b4c5e7aa",
          "grade": false,
          "grade_id": "cell-dac51744a9e03f51",
          "locked": false,
          "schema_version": 3,
          "solution": true,
          "task": false
        },
        "id": "sVTtMQxdQ1Sx"
      },
      "outputs": [],
      "source": [
        "# GRADED FUNCTION: convolutional_model\n",
        "\n",
        "def convolutional_model(input_shape):\n",
        "    \"\"\"\n",
        "    Implements the forward propagation for the model:\n",
        "    CONV2D -> RELU -> MAXPOOL -> CONV2D -> RELU -> MAXPOOL -> FLATTEN -> DENSE\n",
        "    \n",
        "    Note that for simplicity and grading purposes, you'll hard-code some values\n",
        "    such as the stride and kernel (filter) sizes. \n",
        "    Normally, functions should take these values as function parameters.\n",
        "    \n",
        "    Arguments:\n",
        "    input_img -- input dataset, of shape (input_shape)\n",
        "\n",
        "    Returns:\n",
        "    model -- TF Keras model (object containing the information for the entire training process) \n",
        "    \"\"\"\n",
        "\n",
        "    input_img = tf.keras.Input(shape=input_shape)\n",
        "    ## CONV2D: 8 filters 4x4, stride of 1, padding 'SAME'\n",
        "    # Z1 = None\n",
        "    ## RELU\n",
        "    # A1 = None\n",
        "    ## MAXPOOL: window 8x8, stride 8, padding 'SAME'\n",
        "    # P1 = None\n",
        "    ## CONV2D: 16 filters 2x2, stride 1, padding 'SAME'\n",
        "    # Z2 = None\n",
        "    ## RELU\n",
        "    # A2 = None\n",
        "    ## MAXPOOL: window 4x4, stride 4, padding 'SAME'\n",
        "    # P2 = None\n",
        "    ## FLATTEN\n",
        "    # F = None\n",
        "    ## Dense layer\n",
        "    ## 6 neurons in output layer. Hint: one of the arguments should be \"activation='softmax'\" \n",
        "    # outputs = None\n",
        "    # YOUR CODE STARTS HERE\n",
        "    \n",
        "    \n",
        "    # YOUR CODE ENDS HERE\n",
        "    model = tf.keras.Model(inputs=input_img, outputs=outputs)\n",
        "    return model"
      ]
    },
    {
      "cell_type": "code",
      "source": [
        "# GRADED FUNCTION: convolutional_model\n",
        "\n",
        "def convolutional_model(input_shape):\n",
        "    \"\"\"\n",
        "    Implements the forward propagation for the model:\n",
        "    CONV2D -> RELU -> MAXPOOL -> CONV2D -> RELU -> MAXPOOL -> FLATTEN -> DENSE\n",
        "    \n",
        "    Note that for simplicity and grading purposes, you'll hard-code some values\n",
        "    such as the stride and kernel (filter) sizes. \n",
        "    Normally, functions should take these values as function parameters.\n",
        "    \n",
        "    Arguments:\n",
        "    input_img -- input dataset, of shape (input_shape)\n",
        "\n",
        "    Returns:\n",
        "    model -- TF Keras model (object containing the information for the entire training process) \n",
        "    \"\"\"\n",
        "    input_img = tf.keras.Input(shape=input_shape)\n",
        "    Z1 = tfl.Conv2D(8,4,padding='same')(input_img)\n",
        "    A1 = tfl.ReLU()(Z1)\n",
        "    P1 = tfl.MaxPooling2D(pool_size = 8 , strides=(8,8) , padding='same' )(A1)\n",
        "    Z2 = tfl.Conv2D(16,2,padding='same')(P1)\n",
        "    A2 = tfl.ReLU()(Z2)\n",
        "    P2 = tfl.MaxPool2D(pool_size = 4 , strides=(4,4) , padding='same')(A2)\n",
        "    Flat = tfl.Flatten()(P2)\n",
        "    outputs = tfl.Dense(units=6,activation = 'softmax')(Flat)\n",
        "\n",
        "\n",
        "\n",
        "    model = tf.keras.Model(inputs=input_img, outputs=outputs)\n",
        "    return model"
      ],
      "metadata": {
        "id": "gfZMiChxV5jd"
      },
      "execution_count": null,
      "outputs": []
    },
    {
      "cell_type": "code",
      "execution_count": null,
      "metadata": {
        "deletable": false,
        "editable": false,
        "nbgrader": {
          "cell_type": "code",
          "checksum": "483d626949930a0b0ef20997e7c6ba72",
          "grade": true,
          "grade_id": "cell-45d22e92042174c9",
          "locked": true,
          "points": 10,
          "schema_version": 3,
          "solution": false,
          "task": false
        },
        "id": "JmUgra8pQ1Sx",
        "colab": {
          "base_uri": "https://localhost:8080/"
        },
        "outputId": "2231528b-88da-487f-fd29-4caecf738a86"
      },
      "outputs": [
        {
          "output_type": "stream",
          "name": "stdout",
          "text": [
            "Model: \"model\"\n",
            "_________________________________________________________________\n",
            " Layer (type)                Output Shape              Param #   \n",
            "=================================================================\n",
            " input_5 (InputLayer)        [(None, 64, 64, 3)]       0         \n",
            "                                                                 \n",
            " conv2d_4 (Conv2D)           (None, 64, 64, 8)         392       \n",
            "                                                                 \n",
            " re_lu_4 (ReLU)              (None, 64, 64, 8)         0         \n",
            "                                                                 \n",
            " max_pooling2d_3 (MaxPooling  (None, 8, 8, 8)          0         \n",
            " 2D)                                                             \n",
            "                                                                 \n",
            " conv2d_5 (Conv2D)           (None, 8, 8, 16)          528       \n",
            "                                                                 \n",
            " re_lu_5 (ReLU)              (None, 8, 8, 16)          0         \n",
            "                                                                 \n",
            " max_pooling2d_4 (MaxPooling  (None, 2, 2, 16)         0         \n",
            " 2D)                                                             \n",
            "                                                                 \n",
            " flatten_1 (Flatten)         (None, 64)                0         \n",
            "                                                                 \n",
            " dense_1 (Dense)             (None, 6)                 390       \n",
            "                                                                 \n",
            "=================================================================\n",
            "Total params: 1,310\n",
            "Trainable params: 1,310\n",
            "Non-trainable params: 0\n",
            "_________________________________________________________________\n",
            "\u001b[32mAll tests passed!\u001b[0m\n"
          ]
        }
      ],
      "source": [
        "conv_model = convolutional_model((64, 64, 3))\n",
        "conv_model.compile(optimizer='adam',\n",
        "                  loss='categorical_crossentropy',\n",
        "                  metrics=['accuracy'])\n",
        "conv_model.summary()\n",
        "    \n",
        "output = [['InputLayer', [(None, 64, 64, 3)], 0],\n",
        "        ['Conv2D', (None, 64, 64, 8), 392, 'same', 'linear', 'GlorotUniform'],\n",
        "        ['ReLU', (None, 64, 64, 8), 0],\n",
        "        ['MaxPooling2D', (None, 8, 8, 8), 0, (8, 8), (8, 8), 'same'],\n",
        "        ['Conv2D', (None, 8, 8, 16), 528, 'same', 'linear', 'GlorotUniform'],\n",
        "        ['ReLU', (None, 8, 8, 16), 0],\n",
        "        ['MaxPooling2D', (None, 2, 2, 16), 0, (4, 4), (4, 4), 'same'],\n",
        "        ['Flatten', (None, 64), 0],\n",
        "        ['Dense', (None, 6), 390, 'softmax']]\n",
        "    \n",
        "comparator(summary(conv_model), output)"
      ]
    },
    {
      "cell_type": "markdown",
      "metadata": {
        "id": "KN0AhyL_Q1Sx"
      },
      "source": [
        "Both the Sequential and Functional APIs return a TF Keras model object. The only difference is how inputs are handled inside the object model! "
      ]
    },
    {
      "cell_type": "markdown",
      "metadata": {
        "id": "sA4RvHR6Q1Sy"
      },
      "source": [
        "<a name='4-4'></a>\n",
        "### 4.4 - Train the Model"
      ]
    },
    {
      "cell_type": "code",
      "execution_count": null,
      "metadata": {
        "id": "yxiPNOEHQ1Sy",
        "colab": {
          "base_uri": "https://localhost:8080/"
        },
        "outputId": "4e6d3e32-a7dc-4c8d-dcae-9e612db80689"
      },
      "outputs": [
        {
          "output_type": "stream",
          "name": "stdout",
          "text": [
            "Epoch 1/100\n",
            "17/17 [==============================] - 3s 187ms/step - loss: 1.8005 - accuracy: 0.1463 - val_loss: 1.7895 - val_accuracy: 0.1167\n",
            "Epoch 2/100\n",
            "17/17 [==============================] - 3s 187ms/step - loss: 1.7886 - accuracy: 0.1769 - val_loss: 1.7843 - val_accuracy: 0.2167\n",
            "Epoch 3/100\n",
            "17/17 [==============================] - 2s 102ms/step - loss: 1.7831 - accuracy: 0.2167 - val_loss: 1.7783 - val_accuracy: 0.2667\n",
            "Epoch 4/100\n",
            "17/17 [==============================] - 2s 101ms/step - loss: 1.7765 - accuracy: 0.2639 - val_loss: 1.7717 - val_accuracy: 0.2833\n",
            "Epoch 5/100\n",
            "17/17 [==============================] - 2s 102ms/step - loss: 1.7693 - accuracy: 0.2991 - val_loss: 1.7649 - val_accuracy: 0.3250\n",
            "Epoch 6/100\n",
            "17/17 [==============================] - 2s 103ms/step - loss: 1.7592 - accuracy: 0.3259 - val_loss: 1.7545 - val_accuracy: 0.3667\n",
            "Epoch 7/100\n",
            "17/17 [==============================] - 2s 103ms/step - loss: 1.7464 - accuracy: 0.3667 - val_loss: 1.7402 - val_accuracy: 0.3833\n",
            "Epoch 8/100\n",
            "17/17 [==============================] - 2s 102ms/step - loss: 1.7297 - accuracy: 0.3796 - val_loss: 1.7232 - val_accuracy: 0.4583\n",
            "Epoch 9/100\n",
            "17/17 [==============================] - 2s 103ms/step - loss: 1.7087 - accuracy: 0.3870 - val_loss: 1.7021 - val_accuracy: 0.4667\n",
            "Epoch 10/100\n",
            "17/17 [==============================] - 2s 101ms/step - loss: 1.6805 - accuracy: 0.4213 - val_loss: 1.6734 - val_accuracy: 0.4833\n",
            "Epoch 11/100\n",
            "17/17 [==============================] - 2s 103ms/step - loss: 1.6455 - accuracy: 0.4583 - val_loss: 1.6379 - val_accuracy: 0.5167\n",
            "Epoch 12/100\n",
            "17/17 [==============================] - 2s 102ms/step - loss: 1.6016 - accuracy: 0.4796 - val_loss: 1.5963 - val_accuracy: 0.5250\n",
            "Epoch 13/100\n",
            "17/17 [==============================] - 2s 102ms/step - loss: 1.5508 - accuracy: 0.4981 - val_loss: 1.5500 - val_accuracy: 0.5083\n",
            "Epoch 14/100\n",
            "17/17 [==============================] - 2s 102ms/step - loss: 1.4958 - accuracy: 0.5204 - val_loss: 1.4968 - val_accuracy: 0.5500\n",
            "Epoch 15/100\n",
            "17/17 [==============================] - 2s 102ms/step - loss: 1.4371 - accuracy: 0.5519 - val_loss: 1.4383 - val_accuracy: 0.5750\n",
            "Epoch 16/100\n",
            "17/17 [==============================] - 2s 104ms/step - loss: 1.3791 - accuracy: 0.5769 - val_loss: 1.3782 - val_accuracy: 0.5750\n",
            "Epoch 17/100\n",
            "17/17 [==============================] - 2s 103ms/step - loss: 1.3205 - accuracy: 0.5972 - val_loss: 1.3177 - val_accuracy: 0.6167\n",
            "Epoch 18/100\n",
            "17/17 [==============================] - 2s 102ms/step - loss: 1.2676 - accuracy: 0.6028 - val_loss: 1.2657 - val_accuracy: 0.6250\n",
            "Epoch 19/100\n",
            "17/17 [==============================] - 2s 140ms/step - loss: 1.2149 - accuracy: 0.6028 - val_loss: 1.2116 - val_accuracy: 0.6500\n",
            "Epoch 20/100\n",
            "17/17 [==============================] - 4s 225ms/step - loss: 1.1692 - accuracy: 0.6120 - val_loss: 1.1706 - val_accuracy: 0.6083\n",
            "Epoch 21/100\n",
            "17/17 [==============================] - 3s 204ms/step - loss: 1.1261 - accuracy: 0.6139 - val_loss: 1.1275 - val_accuracy: 0.6750\n",
            "Epoch 22/100\n",
            "17/17 [==============================] - 2s 120ms/step - loss: 1.0862 - accuracy: 0.6380 - val_loss: 1.0912 - val_accuracy: 0.6667\n",
            "Epoch 23/100\n",
            "17/17 [==============================] - 2s 103ms/step - loss: 1.0504 - accuracy: 0.6454 - val_loss: 1.0608 - val_accuracy: 0.6667\n",
            "Epoch 24/100\n",
            "17/17 [==============================] - 2s 102ms/step - loss: 1.0158 - accuracy: 0.6602 - val_loss: 1.0297 - val_accuracy: 0.6583\n",
            "Epoch 25/100\n",
            "17/17 [==============================] - 2s 103ms/step - loss: 0.9889 - accuracy: 0.6639 - val_loss: 1.0131 - val_accuracy: 0.6667\n",
            "Epoch 26/100\n",
            "17/17 [==============================] - 2s 142ms/step - loss: 0.9573 - accuracy: 0.6722 - val_loss: 0.9868 - val_accuracy: 0.6750\n",
            "Epoch 27/100\n",
            "17/17 [==============================] - 2s 103ms/step - loss: 0.9317 - accuracy: 0.6889 - val_loss: 0.9641 - val_accuracy: 0.6833\n",
            "Epoch 28/100\n",
            "17/17 [==============================] - 2s 102ms/step - loss: 0.9075 - accuracy: 0.7019 - val_loss: 0.9444 - val_accuracy: 0.7000\n",
            "Epoch 29/100\n",
            "17/17 [==============================] - 2s 104ms/step - loss: 0.8863 - accuracy: 0.7037 - val_loss: 0.9281 - val_accuracy: 0.7083\n",
            "Epoch 30/100\n",
            "17/17 [==============================] - 2s 103ms/step - loss: 0.8664 - accuracy: 0.7074 - val_loss: 0.9118 - val_accuracy: 0.7000\n",
            "Epoch 31/100\n",
            "17/17 [==============================] - 2s 102ms/step - loss: 0.8446 - accuracy: 0.7194 - val_loss: 0.8963 - val_accuracy: 0.7000\n",
            "Epoch 32/100\n",
            "17/17 [==============================] - 2s 103ms/step - loss: 0.8278 - accuracy: 0.7231 - val_loss: 0.8833 - val_accuracy: 0.6917\n",
            "Epoch 33/100\n",
            "17/17 [==============================] - 2s 105ms/step - loss: 0.8099 - accuracy: 0.7278 - val_loss: 0.8712 - val_accuracy: 0.6917\n",
            "Epoch 34/100\n",
            "17/17 [==============================] - 2s 105ms/step - loss: 0.7934 - accuracy: 0.7343 - val_loss: 0.8596 - val_accuracy: 0.7000\n",
            "Epoch 35/100\n",
            "17/17 [==============================] - 2s 104ms/step - loss: 0.7783 - accuracy: 0.7352 - val_loss: 0.8450 - val_accuracy: 0.7000\n",
            "Epoch 36/100\n",
            "17/17 [==============================] - 2s 106ms/step - loss: 0.7634 - accuracy: 0.7444 - val_loss: 0.8338 - val_accuracy: 0.7000\n",
            "Epoch 37/100\n",
            "17/17 [==============================] - 2s 103ms/step - loss: 0.7490 - accuracy: 0.7519 - val_loss: 0.8213 - val_accuracy: 0.7000\n",
            "Epoch 38/100\n",
            "17/17 [==============================] - 2s 102ms/step - loss: 0.7351 - accuracy: 0.7574 - val_loss: 0.8119 - val_accuracy: 0.7000\n",
            "Epoch 39/100\n",
            "17/17 [==============================] - 2s 101ms/step - loss: 0.7227 - accuracy: 0.7602 - val_loss: 0.8019 - val_accuracy: 0.7000\n",
            "Epoch 40/100\n",
            "17/17 [==============================] - 3s 176ms/step - loss: 0.7098 - accuracy: 0.7657 - val_loss: 0.7906 - val_accuracy: 0.7083\n",
            "Epoch 41/100\n",
            "17/17 [==============================] - 2s 101ms/step - loss: 0.6978 - accuracy: 0.7704 - val_loss: 0.7816 - val_accuracy: 0.7167\n",
            "Epoch 42/100\n",
            "17/17 [==============================] - 2s 103ms/step - loss: 0.6867 - accuracy: 0.7741 - val_loss: 0.7740 - val_accuracy: 0.7167\n",
            "Epoch 43/100\n",
            "17/17 [==============================] - 2s 103ms/step - loss: 0.6759 - accuracy: 0.7759 - val_loss: 0.7662 - val_accuracy: 0.7167\n",
            "Epoch 44/100\n",
            "17/17 [==============================] - 2s 101ms/step - loss: 0.6653 - accuracy: 0.7778 - val_loss: 0.7586 - val_accuracy: 0.7250\n",
            "Epoch 45/100\n",
            "17/17 [==============================] - 2s 103ms/step - loss: 0.6554 - accuracy: 0.7815 - val_loss: 0.7512 - val_accuracy: 0.7250\n",
            "Epoch 46/100\n",
            "17/17 [==============================] - 2s 103ms/step - loss: 0.6454 - accuracy: 0.7843 - val_loss: 0.7437 - val_accuracy: 0.7250\n",
            "Epoch 47/100\n",
            "17/17 [==============================] - 2s 102ms/step - loss: 0.6353 - accuracy: 0.7870 - val_loss: 0.7368 - val_accuracy: 0.7250\n",
            "Epoch 48/100\n",
            "17/17 [==============================] - 2s 103ms/step - loss: 0.6270 - accuracy: 0.7898 - val_loss: 0.7309 - val_accuracy: 0.7417\n",
            "Epoch 49/100\n",
            "17/17 [==============================] - 2s 101ms/step - loss: 0.6176 - accuracy: 0.7917 - val_loss: 0.7241 - val_accuracy: 0.7333\n",
            "Epoch 50/100\n",
            "17/17 [==============================] - 2s 101ms/step - loss: 0.6096 - accuracy: 0.7935 - val_loss: 0.7216 - val_accuracy: 0.7333\n",
            "Epoch 51/100\n",
            "17/17 [==============================] - 2s 103ms/step - loss: 0.6030 - accuracy: 0.8000 - val_loss: 0.7112 - val_accuracy: 0.7333\n",
            "Epoch 52/100\n",
            "17/17 [==============================] - 2s 104ms/step - loss: 0.5970 - accuracy: 0.8028 - val_loss: 0.7039 - val_accuracy: 0.7417\n",
            "Epoch 53/100\n",
            "17/17 [==============================] - 2s 103ms/step - loss: 0.5873 - accuracy: 0.8102 - val_loss: 0.6994 - val_accuracy: 0.7500\n",
            "Epoch 54/100\n",
            "17/17 [==============================] - 2s 105ms/step - loss: 0.5764 - accuracy: 0.8157 - val_loss: 0.6941 - val_accuracy: 0.7500\n",
            "Epoch 55/100\n",
            "17/17 [==============================] - 2s 104ms/step - loss: 0.5707 - accuracy: 0.8167 - val_loss: 0.6858 - val_accuracy: 0.7583\n",
            "Epoch 56/100\n",
            "17/17 [==============================] - 2s 104ms/step - loss: 0.5629 - accuracy: 0.8185 - val_loss: 0.6858 - val_accuracy: 0.7417\n",
            "Epoch 57/100\n",
            "17/17 [==============================] - 2s 105ms/step - loss: 0.5579 - accuracy: 0.8213 - val_loss: 0.6769 - val_accuracy: 0.7500\n",
            "Epoch 58/100\n",
            "17/17 [==============================] - 2s 104ms/step - loss: 0.5495 - accuracy: 0.8296 - val_loss: 0.6733 - val_accuracy: 0.7500\n",
            "Epoch 59/100\n",
            "17/17 [==============================] - 2s 104ms/step - loss: 0.5422 - accuracy: 0.8296 - val_loss: 0.6682 - val_accuracy: 0.7500\n",
            "Epoch 60/100\n",
            "17/17 [==============================] - 2s 105ms/step - loss: 0.5380 - accuracy: 0.8287 - val_loss: 0.6610 - val_accuracy: 0.7500\n",
            "Epoch 61/100\n",
            "17/17 [==============================] - 2s 105ms/step - loss: 0.5292 - accuracy: 0.8361 - val_loss: 0.6558 - val_accuracy: 0.7583\n",
            "Epoch 62/100\n",
            "17/17 [==============================] - 2s 146ms/step - loss: 0.5244 - accuracy: 0.8361 - val_loss: 0.6504 - val_accuracy: 0.7583\n",
            "Epoch 63/100\n",
            "17/17 [==============================] - 2s 103ms/step - loss: 0.5179 - accuracy: 0.8380 - val_loss: 0.6458 - val_accuracy: 0.7583\n",
            "Epoch 64/100\n",
            "17/17 [==============================] - 2s 103ms/step - loss: 0.5109 - accuracy: 0.8407 - val_loss: 0.6386 - val_accuracy: 0.7833\n",
            "Epoch 65/100\n",
            "17/17 [==============================] - 2s 103ms/step - loss: 0.5065 - accuracy: 0.8435 - val_loss: 0.6315 - val_accuracy: 0.7750\n",
            "Epoch 66/100\n",
            "17/17 [==============================] - 2s 103ms/step - loss: 0.4991 - accuracy: 0.8444 - val_loss: 0.6264 - val_accuracy: 0.7833\n",
            "Epoch 67/100\n",
            "17/17 [==============================] - 2s 103ms/step - loss: 0.4952 - accuracy: 0.8454 - val_loss: 0.6178 - val_accuracy: 0.7833\n",
            "Epoch 68/100\n",
            "17/17 [==============================] - 2s 104ms/step - loss: 0.4886 - accuracy: 0.8519 - val_loss: 0.6134 - val_accuracy: 0.7750\n",
            "Epoch 69/100\n",
            "17/17 [==============================] - 2s 104ms/step - loss: 0.4847 - accuracy: 0.8546 - val_loss: 0.6070 - val_accuracy: 0.7833\n",
            "Epoch 70/100\n",
            "17/17 [==============================] - 3s 188ms/step - loss: 0.4779 - accuracy: 0.8602 - val_loss: 0.6049 - val_accuracy: 0.7750\n",
            "Epoch 71/100\n",
            "17/17 [==============================] - 2s 103ms/step - loss: 0.4751 - accuracy: 0.8583 - val_loss: 0.5974 - val_accuracy: 0.7833\n",
            "Epoch 72/100\n",
            "17/17 [==============================] - 2s 102ms/step - loss: 0.4686 - accuracy: 0.8648 - val_loss: 0.5957 - val_accuracy: 0.7833\n",
            "Epoch 73/100\n",
            "17/17 [==============================] - 2s 102ms/step - loss: 0.4639 - accuracy: 0.8620 - val_loss: 0.5896 - val_accuracy: 0.7833\n",
            "Epoch 74/100\n",
            "17/17 [==============================] - 2s 104ms/step - loss: 0.4607 - accuracy: 0.8620 - val_loss: 0.5851 - val_accuracy: 0.7833\n",
            "Epoch 75/100\n",
            "17/17 [==============================] - 2s 102ms/step - loss: 0.4548 - accuracy: 0.8648 - val_loss: 0.5818 - val_accuracy: 0.7833\n",
            "Epoch 76/100\n",
            "17/17 [==============================] - 2s 103ms/step - loss: 0.4521 - accuracy: 0.8630 - val_loss: 0.5754 - val_accuracy: 0.7833\n",
            "Epoch 77/100\n",
            "17/17 [==============================] - 2s 103ms/step - loss: 0.4465 - accuracy: 0.8639 - val_loss: 0.5729 - val_accuracy: 0.7917\n",
            "Epoch 78/100\n",
            "17/17 [==============================] - 2s 102ms/step - loss: 0.4438 - accuracy: 0.8648 - val_loss: 0.5672 - val_accuracy: 0.7917\n",
            "Epoch 79/100\n",
            "17/17 [==============================] - 2s 103ms/step - loss: 0.4390 - accuracy: 0.8639 - val_loss: 0.5646 - val_accuracy: 0.7917\n",
            "Epoch 80/100\n",
            "17/17 [==============================] - 2s 102ms/step - loss: 0.4363 - accuracy: 0.8657 - val_loss: 0.5592 - val_accuracy: 0.7917\n",
            "Epoch 81/100\n",
            "17/17 [==============================] - 2s 104ms/step - loss: 0.4310 - accuracy: 0.8630 - val_loss: 0.5568 - val_accuracy: 0.7917\n",
            "Epoch 82/100\n",
            "17/17 [==============================] - 2s 105ms/step - loss: 0.4290 - accuracy: 0.8657 - val_loss: 0.5511 - val_accuracy: 0.8000\n",
            "Epoch 83/100\n",
            "17/17 [==============================] - 2s 104ms/step - loss: 0.4234 - accuracy: 0.8648 - val_loss: 0.5494 - val_accuracy: 0.7917\n",
            "Epoch 84/100\n",
            "17/17 [==============================] - 2s 105ms/step - loss: 0.4220 - accuracy: 0.8685 - val_loss: 0.5441 - val_accuracy: 0.8083\n",
            "Epoch 85/100\n",
            "17/17 [==============================] - 2s 105ms/step - loss: 0.4168 - accuracy: 0.8676 - val_loss: 0.5425 - val_accuracy: 0.8000\n",
            "Epoch 86/100\n",
            "17/17 [==============================] - 2s 106ms/step - loss: 0.4145 - accuracy: 0.8722 - val_loss: 0.5377 - val_accuracy: 0.8000\n",
            "Epoch 87/100\n",
            "17/17 [==============================] - 2s 105ms/step - loss: 0.4096 - accuracy: 0.8685 - val_loss: 0.5359 - val_accuracy: 0.8000\n",
            "Epoch 88/100\n",
            "17/17 [==============================] - 2s 105ms/step - loss: 0.4072 - accuracy: 0.8722 - val_loss: 0.5325 - val_accuracy: 0.8000\n",
            "Epoch 89/100\n",
            "17/17 [==============================] - 2s 102ms/step - loss: 0.4045 - accuracy: 0.8713 - val_loss: 0.5295 - val_accuracy: 0.8083\n",
            "Epoch 90/100\n",
            "17/17 [==============================] - 2s 102ms/step - loss: 0.4002 - accuracy: 0.8741 - val_loss: 0.5279 - val_accuracy: 0.8083\n",
            "Epoch 91/100\n",
            "17/17 [==============================] - 2s 103ms/step - loss: 0.3975 - accuracy: 0.8750 - val_loss: 0.5254 - val_accuracy: 0.8083\n",
            "Epoch 92/100\n",
            "17/17 [==============================] - 2s 101ms/step - loss: 0.3938 - accuracy: 0.8759 - val_loss: 0.5227 - val_accuracy: 0.8167\n",
            "Epoch 93/100\n",
            "17/17 [==============================] - 2s 102ms/step - loss: 0.3908 - accuracy: 0.8796 - val_loss: 0.5202 - val_accuracy: 0.8167\n",
            "Epoch 94/100\n",
            "17/17 [==============================] - 2s 103ms/step - loss: 0.3870 - accuracy: 0.8806 - val_loss: 0.5182 - val_accuracy: 0.8167\n",
            "Epoch 95/100\n",
            "17/17 [==============================] - 2s 104ms/step - loss: 0.3845 - accuracy: 0.8843 - val_loss: 0.5155 - val_accuracy: 0.8167\n",
            "Epoch 96/100\n",
            "17/17 [==============================] - 2s 103ms/step - loss: 0.3808 - accuracy: 0.8852 - val_loss: 0.5128 - val_accuracy: 0.8083\n",
            "Epoch 97/100\n",
            "17/17 [==============================] - 2s 106ms/step - loss: 0.3781 - accuracy: 0.8880 - val_loss: 0.5093 - val_accuracy: 0.8083\n",
            "Epoch 98/100\n",
            "17/17 [==============================] - 2s 104ms/step - loss: 0.3751 - accuracy: 0.8870 - val_loss: 0.5064 - val_accuracy: 0.8083\n",
            "Epoch 99/100\n",
            "17/17 [==============================] - 2s 103ms/step - loss: 0.3715 - accuracy: 0.8889 - val_loss: 0.5043 - val_accuracy: 0.8083\n",
            "Epoch 100/100\n",
            "17/17 [==============================] - 2s 103ms/step - loss: 0.3682 - accuracy: 0.8880 - val_loss: 0.5013 - val_accuracy: 0.8083\n"
          ]
        }
      ],
      "source": [
        "train_dataset = tf.data.Dataset.from_tensor_slices((X_train, Y_train)).batch(64)\n",
        "test_dataset = tf.data.Dataset.from_tensor_slices((X_test, Y_test)).batch(64)\n",
        "history = conv_model.fit(train_dataset, epochs=100, validation_data=test_dataset)"
      ]
    },
    {
      "cell_type": "markdown",
      "metadata": {
        "id": "JJ-uTKMdQ1Sy"
      },
      "source": [
        "<a name='5'></a>\n",
        "## 5 - History Object \n",
        "\n",
        "The history object is an output of the `.fit()` operation, and provides a record of all the loss and metric values in memory. It's stored as a dictionary that you can retrieve at `history.history`: "
      ]
    },
    {
      "cell_type": "code",
      "execution_count": null,
      "metadata": {
        "id": "go8BnMd0Q1Sy",
        "colab": {
          "base_uri": "https://localhost:8080/"
        },
        "outputId": "fda4dcda-9524-4fe3-d876-043615c1501c"
      },
      "outputs": [
        {
          "output_type": "execute_result",
          "data": {
            "text/plain": [
              "{'accuracy': [0.14629629254341125,\n",
              "  0.17685185372829437,\n",
              "  0.21666666865348816,\n",
              "  0.2638888955116272,\n",
              "  0.29907408356666565,\n",
              "  0.32592591643333435,\n",
              "  0.36666667461395264,\n",
              "  0.37962964177131653,\n",
              "  0.3870370388031006,\n",
              "  0.42129629850387573,\n",
              "  0.4583333432674408,\n",
              "  0.47962963581085205,\n",
              "  0.4981481432914734,\n",
              "  0.520370364189148,\n",
              "  0.5518518686294556,\n",
              "  0.5768518447875977,\n",
              "  0.5972222089767456,\n",
              "  0.6027777791023254,\n",
              "  0.6027777791023254,\n",
              "  0.6120370626449585,\n",
              "  0.6138888597488403,\n",
              "  0.6379629373550415,\n",
              "  0.645370364189148,\n",
              "  0.6601851582527161,\n",
              "  0.6638888716697693,\n",
              "  0.6722221970558167,\n",
              "  0.6888889074325562,\n",
              "  0.7018518447875977,\n",
              "  0.7037037014961243,\n",
              "  0.7074074149131775,\n",
              "  0.7194444537162781,\n",
              "  0.7231481671333313,\n",
              "  0.7277777791023254,\n",
              "  0.7342592477798462,\n",
              "  0.7351852059364319,\n",
              "  0.7444444298744202,\n",
              "  0.7518518567085266,\n",
              "  0.7574074268341064,\n",
              "  0.760185182094574,\n",
              "  0.7657407522201538,\n",
              "  0.770370364189148,\n",
              "  0.7740740776062012,\n",
              "  0.7759259343147278,\n",
              "  0.7777777910232544,\n",
              "  0.7814815044403076,\n",
              "  0.7842592597007751,\n",
              "  0.7870370149612427,\n",
              "  0.789814829826355,\n",
              "  0.7916666865348816,\n",
              "  0.7935185432434082,\n",
              "  0.800000011920929,\n",
              "  0.8027777671813965,\n",
              "  0.8101851940155029,\n",
              "  0.8157407641410828,\n",
              "  0.8166666626930237,\n",
              "  0.8185185194015503,\n",
              "  0.8212962746620178,\n",
              "  0.8296296000480652,\n",
              "  0.8296296000480652,\n",
              "  0.8287037014961243,\n",
              "  0.8361111283302307,\n",
              "  0.8361111283302307,\n",
              "  0.8379629850387573,\n",
              "  0.8407407402992249,\n",
              "  0.8435184955596924,\n",
              "  0.8444444537162781,\n",
              "  0.845370352268219,\n",
              "  0.8518518805503845,\n",
              "  0.854629635810852,\n",
              "  0.8601852059364319,\n",
              "  0.8583333492279053,\n",
              "  0.864814817905426,\n",
              "  0.8620370626449585,\n",
              "  0.8620370626449585,\n",
              "  0.864814817905426,\n",
              "  0.8629629611968994,\n",
              "  0.8638888597488403,\n",
              "  0.864814817905426,\n",
              "  0.8638888597488403,\n",
              "  0.8657407164573669,\n",
              "  0.8629629611968994,\n",
              "  0.8657407164573669,\n",
              "  0.864814817905426,\n",
              "  0.8685185313224792,\n",
              "  0.8675925731658936,\n",
              "  0.8722222447395325,\n",
              "  0.8685185313224792,\n",
              "  0.8722222447395325,\n",
              "  0.8712962865829468,\n",
              "  0.8740741014480591,\n",
              "  0.875,\n",
              "  0.8759258985519409,\n",
              "  0.8796296119689941,\n",
              "  0.8805555701255798,\n",
              "  0.8842592835426331,\n",
              "  0.885185182094574,\n",
              "  0.8879629373550415,\n",
              "  0.8870370388031006,\n",
              "  0.8888888955116272,\n",
              "  0.8879629373550415],\n",
              " 'loss': [1.800455093383789,\n",
              "  1.7885626554489136,\n",
              "  1.7831312417984009,\n",
              "  1.7765461206436157,\n",
              "  1.769264817237854,\n",
              "  1.759242296218872,\n",
              "  1.7464293241500854,\n",
              "  1.7297483682632446,\n",
              "  1.7086763381958008,\n",
              "  1.6805278062820435,\n",
              "  1.6455471515655518,\n",
              "  1.6016428470611572,\n",
              "  1.550788164138794,\n",
              "  1.4958229064941406,\n",
              "  1.437112808227539,\n",
              "  1.3790696859359741,\n",
              "  1.320508360862732,\n",
              "  1.267634630203247,\n",
              "  1.2148818969726562,\n",
              "  1.16922128200531,\n",
              "  1.1260751485824585,\n",
              "  1.0862042903900146,\n",
              "  1.0504355430603027,\n",
              "  1.0158226490020752,\n",
              "  0.9889304637908936,\n",
              "  0.9573453664779663,\n",
              "  0.931739866733551,\n",
              "  0.9074705839157104,\n",
              "  0.8862778544425964,\n",
              "  0.8663553595542908,\n",
              "  0.8445920944213867,\n",
              "  0.8278161883354187,\n",
              "  0.8098562359809875,\n",
              "  0.7934274077415466,\n",
              "  0.7783231139183044,\n",
              "  0.7633806467056274,\n",
              "  0.7489739060401917,\n",
              "  0.7351353168487549,\n",
              "  0.7227178812026978,\n",
              "  0.7097964882850647,\n",
              "  0.697792112827301,\n",
              "  0.6866682767868042,\n",
              "  0.6759033799171448,\n",
              "  0.6652858257293701,\n",
              "  0.6554002165794373,\n",
              "  0.6453913450241089,\n",
              "  0.635254442691803,\n",
              "  0.6269760727882385,\n",
              "  0.617597758769989,\n",
              "  0.6095724105834961,\n",
              "  0.602957546710968,\n",
              "  0.5969741344451904,\n",
              "  0.5873461961746216,\n",
              "  0.5764474868774414,\n",
              "  0.5706620812416077,\n",
              "  0.5629482269287109,\n",
              "  0.557893693447113,\n",
              "  0.5494945645332336,\n",
              "  0.5422298312187195,\n",
              "  0.537959635257721,\n",
              "  0.5291640162467957,\n",
              "  0.5244396924972534,\n",
              "  0.5178588032722473,\n",
              "  0.5108501315116882,\n",
              "  0.5064898729324341,\n",
              "  0.4991304874420166,\n",
              "  0.4951777756214142,\n",
              "  0.48856598138809204,\n",
              "  0.48473843932151794,\n",
              "  0.4778840243816376,\n",
              "  0.4750574231147766,\n",
              "  0.468606173992157,\n",
              "  0.46389079093933105,\n",
              "  0.46073848009109497,\n",
              "  0.4547773003578186,\n",
              "  0.45206013321876526,\n",
              "  0.44645947217941284,\n",
              "  0.4437590539455414,\n",
              "  0.43897029757499695,\n",
              "  0.4363343417644501,\n",
              "  0.4310411810874939,\n",
              "  0.42903926968574524,\n",
              "  0.4233585000038147,\n",
              "  0.4219511151313782,\n",
              "  0.41684767603874207,\n",
              "  0.41449692845344543,\n",
              "  0.4096406102180481,\n",
              "  0.40717124938964844,\n",
              "  0.40448763966560364,\n",
              "  0.40016984939575195,\n",
              "  0.3975033164024353,\n",
              "  0.393764853477478,\n",
              "  0.3908461630344391,\n",
              "  0.38704490661621094,\n",
              "  0.38448017835617065,\n",
              "  0.38075950741767883,\n",
              "  0.37811365723609924,\n",
              "  0.3751211166381836,\n",
              "  0.3715144991874695,\n",
              "  0.36816906929016113],\n",
              " 'val_accuracy': [0.11666666716337204,\n",
              "  0.21666666865348816,\n",
              "  0.2666666805744171,\n",
              "  0.28333333134651184,\n",
              "  0.32499998807907104,\n",
              "  0.36666667461395264,\n",
              "  0.38333332538604736,\n",
              "  0.4583333432674408,\n",
              "  0.46666666865348816,\n",
              "  0.4833333194255829,\n",
              "  0.5166666507720947,\n",
              "  0.5249999761581421,\n",
              "  0.5083333253860474,\n",
              "  0.550000011920929,\n",
              "  0.574999988079071,\n",
              "  0.574999988079071,\n",
              "  0.6166666746139526,\n",
              "  0.625,\n",
              "  0.6499999761581421,\n",
              "  0.6083333492279053,\n",
              "  0.675000011920929,\n",
              "  0.6666666865348816,\n",
              "  0.6666666865348816,\n",
              "  0.6583333611488342,\n",
              "  0.6666666865348816,\n",
              "  0.675000011920929,\n",
              "  0.6833333373069763,\n",
              "  0.699999988079071,\n",
              "  0.7083333134651184,\n",
              "  0.699999988079071,\n",
              "  0.699999988079071,\n",
              "  0.6916666626930237,\n",
              "  0.6916666626930237,\n",
              "  0.699999988079071,\n",
              "  0.699999988079071,\n",
              "  0.699999988079071,\n",
              "  0.699999988079071,\n",
              "  0.699999988079071,\n",
              "  0.699999988079071,\n",
              "  0.7083333134651184,\n",
              "  0.7166666388511658,\n",
              "  0.7166666388511658,\n",
              "  0.7166666388511658,\n",
              "  0.7250000238418579,\n",
              "  0.7250000238418579,\n",
              "  0.7250000238418579,\n",
              "  0.7250000238418579,\n",
              "  0.7416666746139526,\n",
              "  0.7333333492279053,\n",
              "  0.7333333492279053,\n",
              "  0.7333333492279053,\n",
              "  0.7416666746139526,\n",
              "  0.75,\n",
              "  0.75,\n",
              "  0.7583333253860474,\n",
              "  0.7416666746139526,\n",
              "  0.75,\n",
              "  0.75,\n",
              "  0.75,\n",
              "  0.75,\n",
              "  0.7583333253860474,\n",
              "  0.7583333253860474,\n",
              "  0.7583333253860474,\n",
              "  0.7833333611488342,\n",
              "  0.7749999761581421,\n",
              "  0.7833333611488342,\n",
              "  0.7833333611488342,\n",
              "  0.7749999761581421,\n",
              "  0.7833333611488342,\n",
              "  0.7749999761581421,\n",
              "  0.7833333611488342,\n",
              "  0.7833333611488342,\n",
              "  0.7833333611488342,\n",
              "  0.7833333611488342,\n",
              "  0.7833333611488342,\n",
              "  0.7833333611488342,\n",
              "  0.7916666865348816,\n",
              "  0.7916666865348816,\n",
              "  0.7916666865348816,\n",
              "  0.7916666865348816,\n",
              "  0.7916666865348816,\n",
              "  0.800000011920929,\n",
              "  0.7916666865348816,\n",
              "  0.8083333373069763,\n",
              "  0.800000011920929,\n",
              "  0.800000011920929,\n",
              "  0.800000011920929,\n",
              "  0.800000011920929,\n",
              "  0.8083333373069763,\n",
              "  0.8083333373069763,\n",
              "  0.8083333373069763,\n",
              "  0.8166666626930237,\n",
              "  0.8166666626930237,\n",
              "  0.8166666626930237,\n",
              "  0.8166666626930237,\n",
              "  0.8083333373069763,\n",
              "  0.8083333373069763,\n",
              "  0.8083333373069763,\n",
              "  0.8083333373069763,\n",
              "  0.8083333373069763],\n",
              " 'val_loss': [1.7895046472549438,\n",
              "  1.7843042612075806,\n",
              "  1.7782834768295288,\n",
              "  1.77169668674469,\n",
              "  1.7648524045944214,\n",
              "  1.7544586658477783,\n",
              "  1.7402287721633911,\n",
              "  1.723201036453247,\n",
              "  1.7021095752716064,\n",
              "  1.6734367609024048,\n",
              "  1.6378552913665771,\n",
              "  1.59629487991333,\n",
              "  1.550041913986206,\n",
              "  1.4968310594558716,\n",
              "  1.4382519721984863,\n",
              "  1.3782027959823608,\n",
              "  1.317746639251709,\n",
              "  1.265726089477539,\n",
              "  1.2116185426712036,\n",
              "  1.1706286668777466,\n",
              "  1.12747323513031,\n",
              "  1.0911705493927002,\n",
              "  1.0608030557632446,\n",
              "  1.0296918153762817,\n",
              "  1.0131419897079468,\n",
              "  0.9868208765983582,\n",
              "  0.9641029238700867,\n",
              "  0.9444102048873901,\n",
              "  0.9281284809112549,\n",
              "  0.911847710609436,\n",
              "  0.8962812423706055,\n",
              "  0.8832608461380005,\n",
              "  0.8712046146392822,\n",
              "  0.859649658203125,\n",
              "  0.8449663519859314,\n",
              "  0.8338013887405396,\n",
              "  0.8212608695030212,\n",
              "  0.8119279146194458,\n",
              "  0.8018558621406555,\n",
              "  0.7906106114387512,\n",
              "  0.7815960049629211,\n",
              "  0.7740188837051392,\n",
              "  0.7662323713302612,\n",
              "  0.7585572600364685,\n",
              "  0.7511624693870544,\n",
              "  0.7437195181846619,\n",
              "  0.7367716431617737,\n",
              "  0.7309233546257019,\n",
              "  0.7240538001060486,\n",
              "  0.7215882539749146,\n",
              "  0.7112305760383606,\n",
              "  0.7039280533790588,\n",
              "  0.6994079947471619,\n",
              "  0.6940845251083374,\n",
              "  0.6858348250389099,\n",
              "  0.6858083009719849,\n",
              "  0.67686527967453,\n",
              "  0.673251211643219,\n",
              "  0.6681556701660156,\n",
              "  0.6609647870063782,\n",
              "  0.6558212637901306,\n",
              "  0.6503908634185791,\n",
              "  0.645767092704773,\n",
              "  0.6385853886604309,\n",
              "  0.6315333247184753,\n",
              "  0.6263730525970459,\n",
              "  0.6178034543991089,\n",
              "  0.613351047039032,\n",
              "  0.6069759130477905,\n",
              "  0.6048502326011658,\n",
              "  0.5973895788192749,\n",
              "  0.5956843495368958,\n",
              "  0.5895668268203735,\n",
              "  0.5851060748100281,\n",
              "  0.5817998051643372,\n",
              "  0.5753629207611084,\n",
              "  0.5728893876075745,\n",
              "  0.5672085881233215,\n",
              "  0.5646197199821472,\n",
              "  0.5592386722564697,\n",
              "  0.5567814111709595,\n",
              "  0.5511087775230408,\n",
              "  0.5493940114974976,\n",
              "  0.5440822243690491,\n",
              "  0.5425456762313843,\n",
              "  0.5377463102340698,\n",
              "  0.5359106659889221,\n",
              "  0.5324678421020508,\n",
              "  0.5295313000679016,\n",
              "  0.5278640389442444,\n",
              "  0.5254070162773132,\n",
              "  0.5226927995681763,\n",
              "  0.5202324390411377,\n",
              "  0.5182274580001831,\n",
              "  0.515542209148407,\n",
              "  0.5128032565116882,\n",
              "  0.5092760920524597,\n",
              "  0.5063793063163757,\n",
              "  0.5043027997016907,\n",
              "  0.5012611746788025]}"
            ]
          },
          "metadata": {},
          "execution_count": 29
        }
      ],
      "source": [
        "history.history"
      ]
    },
    {
      "cell_type": "markdown",
      "metadata": {
        "id": "QTVV0mpKQ1Sy"
      },
      "source": [
        "Now visualize the loss over time using `history.history`: "
      ]
    },
    {
      "cell_type": "code",
      "execution_count": null,
      "metadata": {
        "id": "GdSw4YVaQ1Sz",
        "colab": {
          "base_uri": "https://localhost:8080/",
          "height": 1000
        },
        "outputId": "1b17c0e8-2790-4b9b-efec-060904b2f88d"
      },
      "outputs": [
        {
          "output_type": "stream",
          "name": "stderr",
          "text": [
            "/usr/local/lib/python3.7/dist-packages/pandas/core/frame.py:5047: SettingWithCopyWarning: \n",
            "A value is trying to be set on a copy of a slice from a DataFrame\n",
            "\n",
            "See the caveats in the documentation: https://pandas.pydata.org/pandas-docs/stable/user_guide/indexing.html#returning-a-view-versus-a-copy\n",
            "  errors=errors,\n"
          ]
        },
        {
          "output_type": "execute_result",
          "data": {
            "text/plain": [
              "[Text(0, 0.5, 'Accuracy'), Text(0.5, 0, 'Epoch')]"
            ]
          },
          "metadata": {},
          "execution_count": 30
        },
        {
          "output_type": "display_data",
          "data": {
            "image/png": "[encoded data removed]",
            "text/plain": [
              "<Figure size 864x576 with 1 Axes>"
            ]
          },
          "metadata": {
            "needs_background": "light"
          }
        },
        {
          "output_type": "display_data",
          "data": {
            "image/png": "[encoded data removed]",
            "text/plain": [
              "<Figure size 864x576 with 1 Axes>"
            ]
          },
          "metadata": {
            "needs_background": "light"
          }
        }
      ],
      "source": [
        "# The history.history[\"loss\"] entry is a dictionary with as many values as epochs that the\n",
        "# model was trained on. \n",
        "df_loss_acc = pd.DataFrame(history.history)\n",
        "df_loss= df_loss_acc[['loss','val_loss']]\n",
        "df_loss.rename(columns={'loss':'train','val_loss':'validation'},inplace=True)\n",
        "df_acc= df_loss_acc[['accuracy','val_accuracy']]\n",
        "df_acc.rename(columns={'accuracy':'train','val_accuracy':'validation'},inplace=True)\n",
        "df_loss.plot(title='Model loss',figsize=(12,8)).set(xlabel='Epoch',ylabel='Loss')\n",
        "df_acc.plot(title='Model Accuracy',figsize=(12,8)).set(xlabel='Epoch',ylabel='Accuracy')"
      ]
    },
    {
      "cell_type": "markdown",
      "metadata": {
        "id": "sddMJ2xIQ1Sz"
      },
      "source": [
        "**Congratulations**! You've finished the assignment and built two models: One that recognizes  smiles, and another that recognizes SIGN language with almost 80% accuracy on the test set. In addition to that, you now also understand the applications of two Keras APIs: Sequential and Functional. Nicely done! \n",
        "\n",
        "By now, you know a bit about how the Functional API works and may have glimpsed the possibilities. In your next assignment, you'll really get a feel for its power when you get the opportunity to build a very deep ConvNet, using ResNets! "
      ]
    },
    {
      "cell_type": "markdown",
      "metadata": {
        "id": "NWmGxzfaQ1Sz"
      },
      "source": [
        "<a name='6'></a>\n",
        "## 6 - Bibliography\n",
        "\n",
        "You're always encouraged to read the official documentation. To that end, you can find the docs for the Sequential and Functional APIs here: \n",
        "\n",
        "https://www.tensorflow.org/guide/keras/sequential_model\n",
        "\n",
        "https://www.tensorflow.org/guide/keras/functional"
      ]
    }
  ],
  "metadata": {
    "coursera": {
      "course_slug": "convolutional-neural-networks",
      "graded_item_id": "bwbJV",
      "launcher_item_id": "0TkXB"
    },
    "kernelspec": {
      "display_name": "Python 3",
      "language": "python",
      "name": "python3"
    },
    "language_info": {
      "codemirror_mode": {
        "name": "ipython",
        "version": 3
      },
      "file_extension": ".py",
      "mimetype": "text/x-python",
      "name": "python",
      "nbconvert_exporter": "python",
      "pygments_lexer": "ipython3",
      "version": "3.7.6"
    },
    "colab": {
      "name": "Convolution_model_Application.ipynb",
      "provenance": [],
      "collapsed_sections": [],
      "toc_visible": true,
      "include_colab_link": true
    }
  },
  "nbformat": 4,
  "nbformat_minor": 0
}