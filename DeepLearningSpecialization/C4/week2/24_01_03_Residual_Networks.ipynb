{
  "cells": [
    {
      "cell_type": "markdown",
      "metadata": {
        "id": "view-in-github",
        "colab_type": "text"
      },
      "source": [
        "<a href=\"https://colab.research.google.com/github/woongjoonchoi/Coursera_DLS/blob/main/C4/week2/24_01_03_Residual_Networks.ipynb\" target=\"_parent\"><img src=\"https://colab.research.google.com/assets/colab-badge.svg\" alt=\"Open In Colab\"/></a>"
      ]
    },
    {
      "cell_type": "markdown",
      "metadata": {
        "id": "lk4HE6OXL7a6"
      },
      "source": [
        "# Residual Networks\n",
        "\n",
        "Welcome to the first assignment of this week! You'll be building a very deep convolutional network, using Residual Networks (ResNets). In theory, very deep networks can represent very complex functions; but in practice, they are hard to train. Residual Networks, introduced by [He et al.](https://arxiv.org/pdf/1512.03385.pdf), allow you to train much deeper networks than were previously feasible.\n",
        "\n",
        "**By the end of this assignment, you'll be able to:**\n",
        "\n",
        "- Implement the basic building blocks of ResNets in a deep neural network using Keras\n",
        "- Put together these building blocks to implement and train a state-of-the-art neural network for image classification\n",
        "- Implement a skip connection in your network\n",
        "\n",
        "For this assignment, you'll use Keras.\n",
        "\n",
        "Before jumping into the problem, run the cell below to load the required packages."
      ]
    },
    {
      "cell_type": "markdown",
      "metadata": {
        "id": "4pAwL0mPL7a_"
      },
      "source": [
        "## Table of Content\n",
        "\n",
        "- [1 - Packages](#1)\n",
        "- [2 - The Problem of Very Deep Neural Networks](#2)\n",
        "- [3 - Building a Residual Network](#3)\n",
        "    - [3.1 - The Identity Block](#3-1)\n",
        "        - [Exercise 1 - identity_block](#ex-1)\n",
        "    - [3.2 - The Convolutional Block](#3-2)\n",
        "        - [Exercise 2 - convolutional_block](#ex-2)\n",
        "- [4 - Building Your First ResNet Model (50 layers)](#4)\n",
        "    - [Exercise 3 - ResNet50](#ex-3)\n",
        "- [5 - Test on Your Own Image (Optional/Ungraded)](#5)\n",
        "- [6 - Bibliography](#6)"
      ]
    },
    {
      "cell_type": "markdown",
      "metadata": {
        "id": "jG054-58L7bA"
      },
      "source": [
        "<a name='1'></a>\n",
        "## 1 - Packages"
      ]
    },
    {
      "cell_type": "code",
      "source": [
        "from google.colab import drive\n",
        "drive.mount('/content/drive')"
      ],
      "metadata": {
        "colab": {
          "base_uri": "https://localhost:8080/"
        },
        "id": "sJvYQLfSMc-K",
        "outputId": "6f3695a3-d233-4545-9714-120e873c0515"
      },
      "execution_count": 1,
      "outputs": [
        {
          "output_type": "stream",
          "name": "stdout",
          "text": [
            "Mounted at /content/drive\n"
          ]
        }
      ]
    },
    {
      "cell_type": "code",
      "source": [
        "import os\n",
        "os.chdir('/content/drive/MyDrive/Colab Notebooks/DeepLearningSpecialization/C4/W2A1')"
      ],
      "metadata": {
        "id": "0fw5KoLoMJfG"
      },
      "execution_count": 2,
      "outputs": []
    },
    {
      "cell_type": "code",
      "execution_count": 3,
      "metadata": {
        "id": "zluhep7rL7bA"
      },
      "outputs": [],
      "source": [
        "import tensorflow as tf\n",
        "import numpy as np\n",
        "import scipy.misc\n",
        "from tensorflow.keras.applications.resnet_v2 import ResNet50V2\n",
        "from tensorflow.keras.preprocessing import image\n",
        "from tensorflow.keras.applications.resnet_v2 import preprocess_input, decode_predictions\n",
        "from tensorflow.keras import layers\n",
        "from tensorflow.keras.layers import Input, Add, Dense, Activation, ZeroPadding2D, BatchNormalization, Flatten, Conv2D, AveragePooling2D, MaxPooling2D, GlobalMaxPooling2D\n",
        "from tensorflow.keras.models import Model, load_model\n",
        "from resnets_utils import *\n",
        "from tensorflow.keras.initializers import random_uniform, glorot_uniform, constant, identity\n",
        "from tensorflow.python.framework.ops import EagerTensor\n",
        "from matplotlib.pyplot import imshow\n",
        "\n",
        "from test_utils import summary, comparator\n",
        "import public_tests\n",
        "\n",
        "%matplotlib inline"
      ]
    },
    {
      "cell_type": "markdown",
      "metadata": {
        "id": "ulfXshJ9L7bC"
      },
      "source": [
        "<a name='2'></a>\n",
        "## 2 - The Problem of Very Deep Neural Networks\n",
        "\n",
        "Last week, you built your first convolutional neural networks: first manually with numpy, then using Tensorflow and Keras.\n",
        "\n",
        "In recent years, neural networks have become much deeper, with state-of-the-art networks evolving from having just a few layers (e.g., AlexNet) to over a hundred layers.\n",
        "\n",
        "* The main benefit of a very deep network is that it can represent very complex functions. It can also learn features at many different levels of abstraction, from edges (at the shallower layers, closer to the input) to very complex features (at the deeper layers, closer to the output).\n",
        "\n",
        "* However, using a deeper network doesn't always help. A huge barrier to training them is vanishing gradients: very deep networks often have a gradient signal that goes to zero quickly, thus making gradient descent prohibitively slow.\n",
        "\n",
        "* More specifically, during gradient descent, as you backpropagate from the final layer back to the first layer, you are multiplying by the weight matrix on each step, and thus the gradient can decrease exponentially quickly to zero (or, in rare cases, grow exponentially quickly and \"explode,\" from gaining very large values).\n",
        "\n",
        "* During training, you might therefore see the magnitude (or norm) of the gradient for the shallower layers decrease to zero very rapidly as training proceeds, as shown below:"
      ]
    },
    {
      "cell_type": "markdown",
      "metadata": {
        "id": "aa0KElIDL7bD"
      },
      "source": [
        "<img src=\"https://kau365-my.sharepoint.com/personal/oongjoon_kau_kr/Documents/DLS%EC%9D%B4%EB%AF%B8%EC%A7%80/images-20240103T121635Z-001/images/vanishing_grad_kiank.png\" style=\"width:450px;height:220px;\">\n",
        "<caption><center> <u> <font color='purple'> <b>Figure 1</b> </u><font color='purple'>  : <b>Vanishing gradient</b> <br> The speed of learning decreases very rapidly for the shallower layers as the network trains </center></caption>\n",
        "\n",
        "Not to worry! You are now going to solve this problem by building a Residual Network!"
      ]
    },
    {
      "cell_type": "markdown",
      "metadata": {
        "id": "agaZhBs4L7bD"
      },
      "source": [
        "<a name='3'></a>\n",
        "## 3 - Building a Residual Network\n",
        "\n",
        "In ResNets, a \"shortcut\" or a \"skip connection\" allows the model to skip layers:  \n",
        "\n",
        "<img src=\"https://kau365-my.sharepoint.com/personal/oongjoon_kau_kr/Documents/DLS%EC%9D%B4%EB%AF%B8%EC%A7%80/images-20240103T121635Z-001/images/skip_connection_kiank.png\" style=\"width:650px;height:200px;\">\n",
        "<caption><center> <u> <font color='purple'> <b>Figure 2</b> </u><font color='purple'>  : A ResNet block showing a skip-connection <br> </center></caption>\n",
        "\n",
        "The image on the left shows the \"main path\" through the network. The image on the right adds a shortcut to the main path. By stacking these ResNet blocks on top of each other, you can form a very deep network.\n",
        "\n",
        "The lecture mentioned that having ResNet blocks with the shortcut also makes it very easy for one of the blocks to learn an identity function. This means that you can stack on additional ResNet blocks with little risk of harming training set performance.  \n",
        "    \n",
        "On that note, there is also some evidence that the ease of learning an identity function accounts for ResNets' remarkable performance even more than skip connections help with vanishing gradients.\n",
        "\n",
        "Two main types of blocks are used in a ResNet, depending mainly on whether the input/output dimensions are the same or different. You are going to implement both of them: the \"identity block\" and the \"convolutional block.\""
      ]
    },
    {
      "cell_type": "markdown",
      "metadata": {
        "id": "u02Hl3g5L7bD"
      },
      "source": [
        "<a name='3-1'></a>\n",
        "### 3.1 - The Identity Block\n",
        "\n",
        "The identity block is the standard block used in ResNets, and corresponds to the case where the input activation (say $a^{[l]}$) has the same dimension as the output activation (say $a^{[l+2]}$). To flesh out the different steps of what happens in a ResNet's identity block, here is an alternative diagram showing the individual steps:\n",
        "\n",
        "<img src=\"https://kau365-my.sharepoint.com/personal/oongjoon_kau_kr/Documents/DLS%EC%9D%B4%EB%AF%B8%EC%A7%80/images-20240103T121635Z-001/images/idblock2_kiank.png\" style=\"width:650px;height:150px;\">\n",
        "<caption><center> <u> <font color='purple'> <b>Figure 3</b> </u><font color='purple'>  : <b>Identity block.</b> Skip connection \"skips over\" 2 layers. </center></caption>\n",
        "\n",
        "The upper path is the \"shortcut path.\" The lower path is the \"main path.\" In this diagram, notice the CONV2D and ReLU steps in each layer. To speed up training, a BatchNorm step has been added. Don't worry about this being complicated to implement--you'll see that BatchNorm is just one line of code in Keras!\n",
        "\n",
        "In this exercise, you'll actually implement a slightly more powerful version of this identity block, in which the skip connection \"skips over\" 3 hidden layers rather than 2 layers. It looks like this:\n",
        "\n",
        "<img src=\"https://kau365-my.sharepoint.com/personal/oongjoon_kau_kr/Documents/DLS%EC%9D%B4%EB%AF%B8%EC%A7%80/images-20240103T121635Z-001/images/idblock3_kiank.png\" style=\"width:650px;height:150px;\">\n",
        "    <caption><center> <u> <font color='purple'> <b>Figure 4</b> </u><font color='purple'>  : <b>Identity block.</b> Skip connection \"skips over\" 3 layers.</center></caption>"
      ]
    },
    {
      "cell_type": "markdown",
      "metadata": {
        "id": "81_8SmO-L7bE"
      },
      "source": [
        "These are the individual steps:\n",
        "\n",
        "First component of main path:\n",
        "- The first CONV2D has $F_1$ filters of shape (1,1) and a stride of (1,1). Its padding is \"valid\". Use 0 as the seed for the random uniform initialization: `kernel_initializer = initializer(seed=0)`.\n",
        "- The first BatchNorm is normalizing the 'channels' axis.\n",
        "- Then apply the ReLU activation function. This has no hyperparameters.\n",
        "\n",
        "Second component of main path:\n",
        "- The second CONV2D has $F_2$ filters of shape $(f,f)$ and a stride of (1,1). Its padding is \"same\". Use 0 as the seed for the random uniform initialization: `kernel_initializer = initializer(seed=0)`.\n",
        "- The second BatchNorm is normalizing the 'channels' axis.\n",
        "- Then apply the ReLU activation function. This has no hyperparameters.\n",
        "\n",
        "Third component of main path:\n",
        "- The third CONV2D has $F_3$ filters of shape (1,1) and a stride of (1,1). Its padding is \"valid\". Use 0 as the seed for the random uniform initialization: `kernel_initializer = initializer(seed=0)`.\n",
        "- The third BatchNorm is normalizing the 'channels' axis.\n",
        "- Note that there is **no** ReLU activation function in this component.\n",
        "\n",
        "Final step:\n",
        "- The `X_shortcut` and the output from the 3rd layer `X` are added together.\n",
        "- **Hint**: The syntax will look something like `Add()([var1,var2])`\n",
        "- Then apply the ReLU activation function. This has no hyperparameters.\n",
        "\n",
        "<a name='ex-1'></a>\n",
        "### Exercise 1 - identity_block\n",
        "\n",
        "Implement the ResNet identity block. The first component of the main path has been implemented for you already! First, you should read these docs carefully to make sure you understand what's happening. Then, implement the rest.\n",
        "- To implement the Conv2D step: [Conv2D](https://www.tensorflow.org/api_docs/python/tf/keras/layers/Conv2D)\n",
        "- To implement BatchNorm: [BatchNormalization](https://www.tensorflow.org/api_docs/python/tf/keras/layers/BatchNormalization) `BatchNormalization(axis = 3)(X, training = training)`. If training is set to False, its weights are not updated with the new examples. I.e when the model is used in prediction mode.\n",
        "- For the activation, use:  `Activation('relu')(X)`\n",
        "- To add the value passed forward by the shortcut: [Add](https://www.tensorflow.org/api_docs/python/tf/keras/layers/Add)\n",
        "\n",
        "We have added the initializer argument to our functions. This parameter receives an initializer function like the ones included in the package [tensorflow.keras.initializers](https://www.tensorflow.org/api_docs/python/tf/keras/initializers) or any other custom initializer. By default it will be set to [random_uniform](https://www.tensorflow.org/api_docs/python/tf/keras/initializers/RandomUniform)\n",
        "\n",
        "Remember that these functions accept a `seed` argument that can be any value you want, but that in this notebook must set to 0 for **grading purposes**."
      ]
    },
    {
      "cell_type": "markdown",
      "metadata": {
        "id": "vADZoylvL7bF"
      },
      "source": [
        " Here is where you're actually using the power of the Functional API to create a shortcut path:"
      ]
    },
    {
      "cell_type": "code",
      "execution_count": 53,
      "metadata": {
        "nbgrader": {
          "grade": false,
          "grade_id": "cell-0017b68317ffa974",
          "locked": false,
          "schema_version": 3,
          "solution": true,
          "task": false
        },
        "id": "8tQUBNN1L7bF"
      },
      "outputs": [],
      "source": [
        "# UNQ_C1\n",
        "# GRADED FUNCTION: identity_block\n",
        "\n",
        "def identity_block(X, f, filters, training=True, initializer=random_uniform):\n",
        "    \"\"\"\n",
        "    Implementation of the identity block as defined in Figure 4\n",
        "\n",
        "    Arguments:\n",
        "    X -- input tensor of shape (m, n_H_prev, n_W_prev, n_C_prev)\n",
        "    f -- integer, specifying the shape of the middle CONV's window for the main path\n",
        "    filters -- python list of integers, defining the number of filters in the CONV layers of the main path\n",
        "    training -- True: Behave in training mode\n",
        "                False: Behave in inference mode\n",
        "    initializer -- to set up the initial weights of a layer. Equals to random uniform initializer\n",
        "\n",
        "    Returns:\n",
        "    X -- output of the identity block, tensor of shape (m, n_H, n_W, n_C)\n",
        "    \"\"\"\n",
        "\n",
        "    # Retrieve Filters\n",
        "    F1, F2, F3 = filters\n",
        "\n",
        "    # Save the input value. You'll need this later to add back to the main path.\n",
        "    X_shortcut = X\n",
        "\n",
        "    # First component of main path\n",
        "    X = Conv2D(filters = F1, kernel_size = 1, strides = (1,1), padding = 'valid', kernel_initializer = initializer(seed=0))(X)\n",
        "    X = BatchNormalization(axis = 3)(X, training = training) # Default axis\n",
        "    X = Activation('relu')(X)\n",
        "\n",
        "    ### START CODE HERE\n",
        "    ## Second component of main path (≈3 lines)\n",
        "    X = Conv2D(filters= F2, kernel_size = f  , strides = (1,1) , padding='same', kernel_initializer = initializer(seed=0))(X)\n",
        "    X = BatchNormalization(axis =3 )(X, training= training)\n",
        "    X = Activation('relu')(X)\n",
        "\n",
        "    ## Third component of main path (≈2 lines)\n",
        "    X = Conv2D(filters = F3, kernel_size = 1, strides = (1,1), padding = 'valid', kernel_initializer = initializer(seed=0))(X)\n",
        "    X = BatchNormalization(axis =3 )(X, training= training)\n",
        "\n",
        "    ## Final step: Add shortcut value to main path, and pass it through a RELU activation (≈2 lines)\n",
        "    X = Add()([X_shortcut,X])\n",
        "    X = Activation('relu')(X)\n",
        "    ### END CODE HERE\n",
        "\n",
        "    return X"
      ]
    },
    {
      "cell_type": "markdown",
      "source": [],
      "metadata": {
        "id": "4rE-aUm4Uknd"
      }
    },
    {
      "cell_type": "code",
      "execution_count": 54,
      "metadata": {
        "nbgrader": {
          "grade": true,
          "grade_id": "cell-e73a8466b807e261",
          "locked": true,
          "points": 10,
          "schema_version": 3,
          "solution": false,
          "task": false
        },
        "colab": {
          "base_uri": "https://localhost:8080/"
        },
        "id": "vnHRdtzbL7bG",
        "outputId": "833da5ca-2597-45c4-f44e-67ab00716fc8"
      },
      "outputs": [
        {
          "output_type": "stream",
          "name": "stdout",
          "text": [
            "\u001b[1mWith training=False\u001b[0m\n",
            "\n",
            "[[[  0.        0.        0.        0.     ]\n",
            "  [  0.        0.        0.        0.     ]]\n",
            "\n",
            " [[192.71236 192.71236 192.71236  96.85619]\n",
            "  [ 96.85619  96.85619  96.85619  48.9281 ]]\n",
            "\n",
            " [[578.1371  578.1371  578.1371  290.56854]\n",
            "  [290.56854 290.56854 290.56854 146.78427]]]\n",
            "96.85619\n",
            "\n",
            "\u001b[1mWith training=True\u001b[0m\n",
            "\n",
            "[[[0.      0.      0.      0.     ]\n",
            "  [0.      0.      0.      0.     ]]\n",
            "\n",
            " [[0.40739 0.40739 0.40739 0.40739]\n",
            "  [0.40739 0.40739 0.40739 0.40739]]\n",
            "\n",
            " [[4.99991 4.99991 4.99991 3.25948]\n",
            "  [3.25948 3.25948 3.25948 2.40739]]]\n",
            "All tests passed!\n"
          ]
        }
      ],
      "source": [
        "np.random.seed(1)\n",
        "X1 = np.ones((1, 4, 4, 3)) * -1\n",
        "X2 = np.ones((1, 4, 4, 3)) * 1\n",
        "X3 = np.ones((1, 4, 4, 3)) * 3\n",
        "\n",
        "X = np.concatenate((X1, X2, X3), axis = 0).astype(np.float32)\n",
        "\n",
        "A3 = identity_block(X, f=2, filters=[4, 4, 3],\n",
        "                   initializer=lambda seed=0:constant(value=1),\n",
        "                   training=False)\n",
        "print('\\033[1mWith training=False\\033[0m\\n')\n",
        "A3np = A3.numpy()\n",
        "print(np.around(A3.numpy()[:,(0,-1),:,:].mean(axis = 3), 5))\n",
        "resume = A3np[:,(0,-1),:,:].mean(axis = 3)\n",
        "print(resume[1, 1, 0])\n",
        "\n",
        "print('\\n\\033[1mWith training=True\\033[0m\\n')\n",
        "np.random.seed(1)\n",
        "A4 = identity_block(X, f=2, filters=[3, 3, 3],\n",
        "                   initializer=lambda seed=0:constant(value=1),\n",
        "                   training=True)\n",
        "print(np.around(A4.numpy()[:,(0,-1),:,:].mean(axis = 3), 5))\n",
        "\n",
        "public_tests.identity_block_test(identity_block)"
      ]
    },
    {
      "cell_type": "markdown",
      "metadata": {
        "id": "etSmWANLL7bG"
      },
      "source": [
        "**Expected value**\n",
        "\n",
        "```\n",
        "With training=False\n",
        "\n",
        "[[[  0.        0.        0.        0.     ]\n",
        "  [  0.        0.        0.        0.     ]]\n",
        "\n",
        " [[192.71234 192.71234 192.71234  96.85617]\n",
        "  [ 96.85617  96.85617  96.85617  48.92808]]\n",
        "\n",
        " [[578.1371  578.1371  578.1371  290.5685 ]\n",
        "  [290.5685  290.5685  290.5685  146.78426]]]\n",
        "96.85617\n",
        "\n",
        "With training=True\n",
        "\n",
        "[[[0.      0.      0.      0.     ]\n",
        "  [0.      0.      0.      0.     ]]\n",
        "\n",
        " [[0.40739 0.40739 0.40739 0.40739]\n",
        "  [0.40739 0.40739 0.40739 0.40739]]\n",
        "\n",
        " [[4.99991 4.99991 4.99991 3.25948]\n",
        "  [3.25948 3.25948 3.25948 2.40739]]]\n",
        "```"
      ]
    },
    {
      "cell_type": "markdown",
      "metadata": {
        "id": "fCdj6fuyL7bH"
      },
      "source": [
        "<a name='3-2'></a>\n",
        "### 3.2 - The Convolutional Block\n",
        "\n",
        "The ResNet \"convolutional block\" is the second block type. You can use this type of block when the input and output dimensions don't match up. The difference with the identity block is that there is a CONV2D layer in the shortcut path:\n",
        "\n",
        "<img src=\"https://kau365-my.sharepoint.com/personal/oongjoon_kau_kr/Documents/DLS%EC%9D%B4%EB%AF%B8%EC%A7%80/images-20240103T121635Z-001/images/convblock_kiank.png\" style=\"width:650px;height:150px;\">\n",
        "<caption><center> <u> <font color='purple'> <b>Figure 4</b> </u><font color='purple'>  : <b>Convolutional block</b> </center></caption>\n",
        "\n",
        "* The CONV2D layer in the shortcut path is used to resize the input $x$ to a different dimension, so that the dimensions match up in the final addition needed to add the shortcut value back to the main path. (This plays a similar role as the matrix $W_s$ discussed in lecture.)\n",
        "* For example, to reduce the activation dimensions's height and width by a factor of 2, you can use a 1x1 convolution with a stride of 2.\n",
        "* The CONV2D layer on the shortcut path does not use any non-linear activation function. Its main role is to just apply a (learned) linear function that reduces the dimension of the input, so that the dimensions match up for the later addition step.\n",
        "* As for the previous exercise, the additional `initializer` argument is required for grading purposes, and it has been set by default to [glorot_uniform](https://www.tensorflow.org/api_docs/python/tf/keras/initializers/GlorotUniform)\n",
        "\n",
        "The details of the convolutional block are as follows.\n",
        "\n",
        "First component of main path:\n",
        "- The first CONV2D has $F_1$ filters of shape (1,1) and a stride of (s,s). Its padding is \"valid\". Use 0 as the `glorot_uniform` seed `kernel_initializer = initializer(seed=0)`.\n",
        "- The first BatchNorm is normalizing the 'channels' axis.\n",
        "- Then apply the ReLU activation function. This has no hyperparameters.\n",
        "\n",
        "Second component of main path:\n",
        "- The second CONV2D has $F_2$ filters of shape (f,f) and a stride of (1,1). Its padding is \"same\".  Use 0 as the `glorot_uniform` seed `kernel_initializer = initializer(seed=0)`.\n",
        "- The second BatchNorm is normalizing the 'channels' axis.\n",
        "- Then apply the ReLU activation function. This has no hyperparameters.\n",
        "\n",
        "Third component of main path:\n",
        "- The third CONV2D has $F_3$ filters of shape (1,1) and a stride of (1,1). Its padding is \"valid\".  Use 0 as the `glorot_uniform` seed `kernel_initializer = initializer(seed=0)`.\n",
        "- The third BatchNorm is normalizing the 'channels' axis. Note that there is no ReLU activation function in this component.\n",
        "\n",
        "Shortcut path:\n",
        "- The CONV2D has $F_3$ filters of shape (1,1) and a stride of (s,s). Its padding is \"valid\".  Use 0 as the `glorot_uniform` seed `kernel_initializer = initializer(seed=0)`.\n",
        "- The BatchNorm is normalizing the 'channels' axis.\n",
        "\n",
        "Final step:\n",
        "- The shortcut and the main path values are added together.\n",
        "- Then apply the ReLU activation function. This has no hyperparameters.\n",
        "\n",
        "<a name='ex-2'></a>    \n",
        "### Exercise 2 - convolutional_block\n",
        "    \n",
        "Implement the convolutional block. The first component of the main path is already implemented; then it's your turn to implement the rest! As before, always use 0 as the seed for the random initialization, to ensure consistency with the grader.\n",
        "- [Conv2D](https://www.tensorflow.org/api_docs/python/tf/keras/layers/Conv2D)\n",
        "- [BatchNormalization](https://www.tensorflow.org/api_docs/python/tf/keras/layers/BatchNormalization) (axis: Integer, the axis that should be normalized (typically the features axis)) `BatchNormalization(axis = 3)(X, training = training)`. If training is set to False, its weights are not updated with the new examples. I.e when the model is used in prediction mode.\n",
        "- For the activation, use:  `Activation('relu')(X)`\n",
        "- [Add](https://www.tensorflow.org/api_docs/python/tf/keras/layers/Add)\n",
        "    \n",
        "We have added the initializer argument to our functions. This parameter receives an initializer function like the ones included in the package [tensorflow.keras.initializers](https://www.tensorflow.org/api_docs/python/tf/keras/initializers) or any other custom initializer. By default it will be set to [random_uniform](https://www.tensorflow.org/api_docs/python/tf/keras/initializers/RandomUniform)\n",
        "\n",
        "Remember that these functions accept a `seed` argument that can be any value you want, but that in this notebook must set to 0 for **grading purposes**."
      ]
    },
    {
      "cell_type": "code",
      "execution_count": 76,
      "metadata": {
        "nbgrader": {
          "grade": false,
          "grade_id": "cell-df47af4847e5335f",
          "locked": false,
          "schema_version": 3,
          "solution": true,
          "task": false
        },
        "id": "wxUBcuqPL7bI"
      },
      "outputs": [],
      "source": [
        "# UNQ_C2\n",
        "# GRADED FUNCTION: convolutional_block\n",
        "\n",
        "def convolutional_block(X, f, filters, s = 2, training=True, initializer=glorot_uniform):\n",
        "    \"\"\"\n",
        "    Implementation of the convolutional block as defined in Figure 4\n",
        "\n",
        "    Arguments:\n",
        "    X -- input tensor of shape (m, n_H_prev, n_W_prev, n_C_prev)\n",
        "    f -- integer, specifying the shape of the middle CONV's window for the main path\n",
        "    filters -- python list of integers, defining the number of filters in the CONV layers of the main path\n",
        "    s -- Integer, specifying the stride to be used\n",
        "    training -- True: Behave in training mode\n",
        "                False: Behave in inference mode\n",
        "    initializer -- to set up the initial weights of a layer. Equals to Glorot uniform initializer,\n",
        "                   also called Xavier uniform initializer.\n",
        "\n",
        "    Returns:\n",
        "    X -- output of the convolutional block, tensor of shape (n_H, n_W, n_C)\n",
        "    \"\"\"\n",
        "\n",
        "    # Retrieve Filters\n",
        "    F1, F2, F3 = filters\n",
        "\n",
        "    # Save the input value\n",
        "\n",
        "    # print(f'X.shape : {X.shape}')\n",
        "    X_shortcut = X\n",
        "\n",
        "\n",
        "    ##### MAIN PATH #####\n",
        "\n",
        "    # First component of main path glorot_uniform(seed=0)\n",
        "    X = Conv2D(filters = F1, kernel_size = 1, strides = (s, s), padding='valid', kernel_initializer = initializer(seed=0))(X)\n",
        "    X = BatchNormalization(axis = 3)(X, training=training)\n",
        "    X = Activation('relu')(X)\n",
        "\n",
        "    ### START CODE HERE\n",
        "\n",
        "    ## Second component of main path (≈3 lines)\n",
        "    X = Conv2D(filters = F2 , kernel_size = f, strides = (1,1) , padding = 'same' , kernel_initializer = initializer(seed=0))(X)\n",
        "    X = BatchNormalization(axis=3)(X,training = training)\n",
        "    X = Activation('relu')(X)\n",
        "\n",
        "    ## Third component of main path (≈2 lines)\n",
        "    X = Conv2D(filters = F3 , kernel_size  = 1 , strides = (1,1) , padding ='valid' , kernel_initializer = initializer(seed=0))(X)\n",
        "    X = BatchNormalization(axis=3)(X,training=training)\n",
        "\n",
        "    ##### SHORTCUT PATH ##### (≈2 lines)\n",
        "\n",
        "    ### 틀린부분 s,s 로 적어야하는데, 2,2로 설명서 그대로적음\n",
        "    X_shortcut = Conv2D(filters=F3 , kernel_size = 1  ,strides=(s,s),padding='valid',kernel_initializer = initializer(seed=0))(X_shortcut)\n",
        "    X_shortcut = BatchNormalization(axis=3)(X_shortcut,training=training)\n",
        "    # print(f'X.shape : {X.shape}')\n",
        "    # print(f'X_shortcut: {X_shortcut.shape}')\n",
        "    ### END CODE HERE\n",
        "\n",
        "    # Final step: Add shortcut value to main path (Use this order [X, X_shortcut]), and pass it through a RELU activation\n",
        "    X = Add()([X, X_shortcut])\n",
        "    X = Activation('relu')(X)\n",
        "\n",
        "    return X"
      ]
    },
    {
      "cell_type": "code",
      "execution_count": 63,
      "metadata": {
        "nbgrader": {
          "grade": true,
          "grade_id": "cell-95c291eb244218fe",
          "locked": true,
          "points": 10,
          "schema_version": 3,
          "solution": false,
          "task": false
        },
        "id": "AyOiZX2pL7bI",
        "colab": {
          "base_uri": "https://localhost:8080/"
        },
        "outputId": "d4cc2d37-8533-402a-9692-6fe12d637e73"
      },
      "outputs": [
        {
          "output_type": "stream",
          "name": "stdout",
          "text": [
            "X.shape : (3, 2, 2, 6)\n",
            "X_shortcut: (3, 2, 2, 6)\n",
            "tf.Tensor(\n",
            "[[[0.         0.66683817 0.         0.         0.888539   0.5274254 ]\n",
            "  [0.         0.65053666 0.         0.         0.8959285  0.49965227]]\n",
            "\n",
            " [[0.         0.6312079  0.         0.         0.86362475 0.47643146]\n",
            "  [0.         0.56883204 0.         0.         0.8553412  0.417093  ]]], shape=(2, 2, 6), dtype=float32)\n",
            "X.shape : (3, 2, 2, 6)\n",
            "X_shortcut: (3, 2, 2, 6)\n",
            "\u001b[92mAll tests passed!\n"
          ]
        }
      ],
      "source": [
        "from outputs import convolutional_block_output1, convolutional_block_output2\n",
        "np.random.seed(1)\n",
        "#X = np.random.randn(3, 4, 4, 6).astype(np.float32)\n",
        "X1 = np.ones((1, 4, 4, 3)) * -1\n",
        "X2 = np.ones((1, 4, 4, 3)) * 1\n",
        "X3 = np.ones((1, 4, 4, 3)) * 3\n",
        "\n",
        "X = np.concatenate((X1, X2, X3), axis = 0).astype(np.float32)\n",
        "\n",
        "A = convolutional_block(X, f = 2, filters = [2, 4, 6], training=False)\n",
        "\n",
        "assert type(A) == EagerTensor, \"Use only tensorflow and keras functions\"\n",
        "assert tuple(tf.shape(A).numpy()) == (3, 2, 2, 6), \"Wrong shape.\"\n",
        "# print(A)\n",
        "# print(np.array(convolutional_block_output1).shape)\n",
        "assert np.allclose(A.numpy(), convolutional_block_output1), \"Wrong values when training=False.\"\n",
        "print(A[0])\n",
        "\n",
        "B = convolutional_block(X, f = 2, filters = [2, 4, 6], training=True)\n",
        "assert np.allclose(B.numpy(), convolutional_block_output2), \"Wrong values when training=True.\"\n",
        "\n",
        "print('\\033[92mAll tests passed!')\n"
      ]
    },
    {
      "cell_type": "markdown",
      "metadata": {
        "id": "jSdeVod-L7bJ"
      },
      "source": [
        "**Expected value**\n",
        "\n",
        "```\n",
        "tf.Tensor(\n",
        "[[[0.         0.66683817 0.         0.         0.88853896 0.5274254 ]\n",
        "  [0.         0.65053666 0.         0.         0.89592844 0.49965227]]\n",
        "\n",
        " [[0.         0.6312079  0.         0.         0.8636247  0.47643146]\n",
        "  [0.         0.5688321  0.         0.         0.85534114 0.41709304]]], shape=(2, 2, 6), dtype=float32)\n",
        "```"
      ]
    },
    {
      "cell_type": "markdown",
      "metadata": {
        "id": "DVV-gdW4L7bJ"
      },
      "source": [
        "<a name='4'></a>  \n",
        "## 4 - Building Your First ResNet Model (50 layers)\n",
        "\n",
        "You now have the necessary blocks to build a very deep ResNet. The following figure describes in detail the architecture of this neural network. \"ID BLOCK\" in the diagram stands for \"Identity block,\" and \"ID BLOCK x3\" means you should stack 3 identity blocks together.\n",
        "\n",
        "<img src=\"https://kau365-my.sharepoint.com/personal/oongjoon_kau_kr/Documents/DLS%EC%9D%B4%EB%AF%B8%EC%A7%80/images-20240103T121635Z-001/images/resnet_kiank.png\" style=\"width:850px;height:150px;\">\n",
        "<caption><center> <u> <font color='purple'> <b>Figure 5</b> </u><font color='purple'>  : <b>ResNet-50 model</b> </center></caption>\n",
        "\n",
        "The details of this ResNet-50 model are:\n",
        "- Zero-padding pads the input with a pad of (3,3)\n",
        "- Stage 1:\n",
        "    - The 2D Convolution has 64 filters of shape (7,7) and uses a stride of (2,2).\n",
        "    - BatchNorm is applied to the 'channels' axis of the input.\n",
        "    - ReLU activation is applied.\n",
        "    - MaxPooling uses a (3,3) window and a (2,2) stride.\n",
        "- Stage 2:\n",
        "    - The convolutional block uses three sets of filters of size [64,64,256], \"f\" is 3, and \"s\" is 1.\n",
        "    - The 2 identity blocks use three sets of filters of size [64,64,256], and \"f\" is 3.\n",
        "- Stage 3:\n",
        "    - The convolutional block uses three sets of filters of size [128,128,512], \"f\" is 3 and \"s\" is 2.\n",
        "    - The 3 identity blocks use three sets of filters of size [128,128,512] and \"f\" is 3.\n",
        "- Stage 4:\n",
        "    - The convolutional block uses three sets of filters of size [256, 256, 1024], \"f\" is 3 and \"s\" is 2.\n",
        "    - The 5 identity blocks use three sets of filters of size [256, 256, 1024] and \"f\" is 3.\n",
        "- Stage 5:\n",
        "    - The convolutional block uses three sets of filters of size [512, 512, 2048], \"f\" is 3 and \"s\" is 2.\n",
        "    - The 2 identity blocks use three sets of filters of size [512, 512, 2048] and \"f\" is 3.\n",
        "- The 2D Average Pooling uses a window of shape (2,2).\n",
        "- The 'flatten' layer doesn't have any hyperparameters.\n",
        "- The Fully Connected (Dense) layer reduces its input to the number of classes using a softmax activation.\n",
        "\n",
        "    \n",
        "<a name='ex-3'></a>      \n",
        "### Exercise 3 - ResNet50\n",
        "    \n",
        "Implement the ResNet with 50 layers described in the figure above. We have implemented Stages 1 and 2. Please implement the rest. (The syntax for implementing Stages 3-5 should be quite similar to that of Stage 2) Make sure you follow the naming convention in the text above.\n",
        "\n",
        "You'll need to use this function:\n",
        "- Average pooling [see reference](https://www.tensorflow.org/api_docs/python/tf/keras/layers/AveragePooling2D)\n",
        "\n",
        "Here are some other functions we used in the code below:\n",
        "- Conv2D: [See reference](https://www.tensorflow.org/api_docs/python/tf/keras/layers/Conv2D)\n",
        "- BatchNorm: [See reference](https://www.tensorflow.org/api_docs/python/tf/keras/layers/BatchNormalization) (axis: Integer, the axis that should be normalized (typically the features axis))\n",
        "- Zero padding: [See reference](https://www.tensorflow.org/api_docs/python/tf/keras/layers/ZeroPadding2D)\n",
        "- Max pooling: [See reference](https://www.tensorflow.org/api_docs/python/tf/keras/layers/MaxPool2D)\n",
        "- Fully connected layer: [See reference](https://www.tensorflow.org/api_docs/python/tf/keras/layers/Dense)\n",
        "- Addition: [See reference](https://www.tensorflow.org/api_docs/python/tf/keras/layers/Add)"
      ]
    },
    {
      "cell_type": "code",
      "execution_count": 77,
      "metadata": {
        "nbgrader": {
          "grade": false,
          "grade_id": "cell-10dc95a4cf6275b9",
          "locked": false,
          "schema_version": 3,
          "solution": true,
          "task": false
        },
        "id": "yt-OoBeWL7bJ"
      },
      "outputs": [],
      "source": [
        "# UNQ_C3\n",
        "# GRADED FUNCTION: ResNet50\n",
        "\n",
        "def ResNet50(input_shape = (64, 64, 3), classes = 6):\n",
        "    \"\"\"\n",
        "    Stage-wise implementation of the architecture of the popular ResNet50:\n",
        "    CONV2D -> BATCHNORM -> RELU -> MAXPOOL -> CONVBLOCK -> IDBLOCK*2 -> CONVBLOCK -> IDBLOCK*3\n",
        "    -> CONVBLOCK -> IDBLOCK*5 -> CONVBLOCK -> IDBLOCK*2 -> AVGPOOL -> FLATTEN -> DENSE\n",
        "\n",
        "    Arguments:\n",
        "    input_shape -- shape of the images of the dataset\n",
        "    classes -- integer, number of classes\n",
        "\n",
        "    Returns:\n",
        "    model -- a Model() instance in Keras\n",
        "    \"\"\"\n",
        "\n",
        "    # Define the input as a tensor with shape input_shape\n",
        "    X_input = Input(input_shape)\n",
        "\n",
        "\n",
        "    # Zero-Padding\n",
        "    X = ZeroPadding2D((3, 3))(X_input)\n",
        "\n",
        "    # Stage 1\n",
        "    X = Conv2D(64, (7, 7), strides = (2, 2), kernel_initializer = glorot_uniform(seed=0))(X)\n",
        "    X = BatchNormalization(axis = 3)(X)\n",
        "    X = Activation('relu')(X)\n",
        "    X = MaxPooling2D((3, 3), strides=(2, 2))(X)\n",
        "\n",
        "    # Stage 2\n",
        "    X = convolutional_block(X, f = 3, filters = [64, 64, 256], s = 1)\n",
        "    X = identity_block(X, 3, [64, 64, 256])\n",
        "    X = identity_block(X, 3, [64, 64, 256])\n",
        "\n",
        "    ### START CODE HERE\n",
        "\n",
        "    ## Stage 3 (≈4 lines)\n",
        "    X = convolutional_block(X, f= 3 , filters = [128,128,512] , s=2  )\n",
        "    X = identity_block(X, 3,[128,128,512])\n",
        "    X = identity_block(X, 3,[128,128,512] )\n",
        "    X = identity_block(X, 3,[128,128,512])\n",
        "\n",
        "    ## Stage 4 (≈6 lines)\n",
        "    X = convolutional_block(X,f=3,s =2 , filters = [256,256,1024])\n",
        "    X = identity_block(X,3 , [256,256,1024])\n",
        "    X = identity_block(X,3 , [256,256,1024])\n",
        "    X = identity_block(X,3 , [256,256,1024])\n",
        "    X = identity_block(X,3 , [256,256,1024])\n",
        "    X = identity_block(X,3 , [256,256,1024])\n",
        "\n",
        "    ## Stage 5 (≈3 lines)\n",
        "    X = convolutional_block(X,f=3 , s= 2 , filters = [512,512,2048] )\n",
        "    X = identity_block(X,3,[512,512,2048])\n",
        "    X = identity_block(X,3,[512,512,2048])\n",
        "\n",
        "    ## AVGPOOL (≈1 line). Use \"X = AveragePooling2D(...)(X)\"\n",
        "    X = AveragePooling2D(pool_size = (2,2))(X)\n",
        "\n",
        "    ### END CODE HERE\n",
        "\n",
        "    # output layer\n",
        "    X = Flatten()(X)\n",
        "    X = Dense(classes, activation='softmax', kernel_initializer = glorot_uniform(seed=0))(X)\n",
        "\n",
        "\n",
        "    # Create model\n",
        "    model = Model(inputs = X_input, outputs = X)\n",
        "\n",
        "    return model"
      ]
    },
    {
      "cell_type": "markdown",
      "metadata": {
        "id": "78sGgWRYL7bJ"
      },
      "source": [
        "Run the following code to build the model's graph. If your implementation is incorrect, you'll know it by checking your accuracy when running `model.fit(...)` below."
      ]
    },
    {
      "cell_type": "code",
      "execution_count": 78,
      "metadata": {
        "id": "CACa2AoXL7bJ",
        "colab": {
          "base_uri": "https://localhost:8080/"
        },
        "outputId": "d54a2299-5eda-4bb3-b889-3c3ac6c16fb6"
      },
      "outputs": [
        {
          "output_type": "stream",
          "name": "stdout",
          "text": [
            "Model: \"model_3\"\n",
            "__________________________________________________________________________________________________\n",
            " Layer (type)                Output Shape                 Param #   Connected to                  \n",
            "==================================================================================================\n",
            " input_13 (InputLayer)       [(None, 64, 64, 3)]          0         []                            \n",
            "                                                                                                  \n",
            " zero_padding2d_12 (ZeroPad  (None, 70, 70, 3)            0         ['input_13[0][0]']            \n",
            " ding2D)                                                                                          \n",
            "                                                                                                  \n",
            " conv2d_341 (Conv2D)         (None, 32, 32, 64)           9472      ['zero_padding2d_12[0][0]']   \n",
            "                                                                                                  \n",
            " batch_normalization_341 (B  (None, 32, 32, 64)           256       ['conv2d_341[0][0]']          \n",
            " atchNormalization)                                                                               \n",
            "                                                                                                  \n",
            " activation_276 (Activation  (None, 32, 32, 64)           0         ['batch_normalization_341[0][0\n",
            " )                                                                  ]']                           \n",
            "                                                                                                  \n",
            " max_pooling2d_12 (MaxPooli  (None, 15, 15, 64)           0         ['activation_276[0][0]']      \n",
            " ng2D)                                                                                            \n",
            "                                                                                                  \n",
            " conv2d_342 (Conv2D)         (None, 15, 15, 64)           4160      ['max_pooling2d_12[0][0]']    \n",
            "                                                                                                  \n",
            " batch_normalization_342 (B  (None, 15, 15, 64)           256       ['conv2d_342[0][0]']          \n",
            " atchNormalization)                                                                               \n",
            "                                                                                                  \n",
            " activation_277 (Activation  (None, 15, 15, 64)           0         ['batch_normalization_342[0][0\n",
            " )                                                                  ]']                           \n",
            "                                                                                                  \n",
            " conv2d_343 (Conv2D)         (None, 15, 15, 64)           36928     ['activation_277[0][0]']      \n",
            "                                                                                                  \n",
            " batch_normalization_343 (B  (None, 15, 15, 64)           256       ['conv2d_343[0][0]']          \n",
            " atchNormalization)                                                                               \n",
            "                                                                                                  \n",
            " activation_278 (Activation  (None, 15, 15, 64)           0         ['batch_normalization_343[0][0\n",
            " )                                                                  ]']                           \n",
            "                                                                                                  \n",
            " conv2d_344 (Conv2D)         (None, 15, 15, 256)          16640     ['activation_278[0][0]']      \n",
            "                                                                                                  \n",
            " conv2d_345 (Conv2D)         (None, 15, 15, 256)          16640     ['max_pooling2d_12[0][0]']    \n",
            "                                                                                                  \n",
            " batch_normalization_344 (B  (None, 15, 15, 256)          1024      ['conv2d_344[0][0]']          \n",
            " atchNormalization)                                                                               \n",
            "                                                                                                  \n",
            " batch_normalization_345 (B  (None, 15, 15, 256)          1024      ['conv2d_345[0][0]']          \n",
            " atchNormalization)                                                                               \n",
            "                                                                                                  \n",
            " add_91 (Add)                (None, 15, 15, 256)          0         ['batch_normalization_344[0][0\n",
            "                                                                    ]',                           \n",
            "                                                                     'batch_normalization_345[0][0\n",
            "                                                                    ]']                           \n",
            "                                                                                                  \n",
            " activation_279 (Activation  (None, 15, 15, 256)          0         ['add_91[0][0]']              \n",
            " )                                                                                                \n",
            "                                                                                                  \n",
            " conv2d_346 (Conv2D)         (None, 15, 15, 64)           16448     ['activation_279[0][0]']      \n",
            "                                                                                                  \n",
            " batch_normalization_346 (B  (None, 15, 15, 64)           256       ['conv2d_346[0][0]']          \n",
            " atchNormalization)                                                                               \n",
            "                                                                                                  \n",
            " activation_280 (Activation  (None, 15, 15, 64)           0         ['batch_normalization_346[0][0\n",
            " )                                                                  ]']                           \n",
            "                                                                                                  \n",
            " conv2d_347 (Conv2D)         (None, 15, 15, 64)           36928     ['activation_280[0][0]']      \n",
            "                                                                                                  \n",
            " batch_normalization_347 (B  (None, 15, 15, 64)           256       ['conv2d_347[0][0]']          \n",
            " atchNormalization)                                                                               \n",
            "                                                                                                  \n",
            " activation_281 (Activation  (None, 15, 15, 64)           0         ['batch_normalization_347[0][0\n",
            " )                                                                  ]']                           \n",
            "                                                                                                  \n",
            " conv2d_348 (Conv2D)         (None, 15, 15, 256)          16640     ['activation_281[0][0]']      \n",
            "                                                                                                  \n",
            " batch_normalization_348 (B  (None, 15, 15, 256)          1024      ['conv2d_348[0][0]']          \n",
            " atchNormalization)                                                                               \n",
            "                                                                                                  \n",
            " add_92 (Add)                (None, 15, 15, 256)          0         ['activation_279[0][0]',      \n",
            "                                                                     'batch_normalization_348[0][0\n",
            "                                                                    ]']                           \n",
            "                                                                                                  \n",
            " activation_282 (Activation  (None, 15, 15, 256)          0         ['add_92[0][0]']              \n",
            " )                                                                                                \n",
            "                                                                                                  \n",
            " conv2d_349 (Conv2D)         (None, 15, 15, 64)           16448     ['activation_282[0][0]']      \n",
            "                                                                                                  \n",
            " batch_normalization_349 (B  (None, 15, 15, 64)           256       ['conv2d_349[0][0]']          \n",
            " atchNormalization)                                                                               \n",
            "                                                                                                  \n",
            " activation_283 (Activation  (None, 15, 15, 64)           0         ['batch_normalization_349[0][0\n",
            " )                                                                  ]']                           \n",
            "                                                                                                  \n",
            " conv2d_350 (Conv2D)         (None, 15, 15, 64)           36928     ['activation_283[0][0]']      \n",
            "                                                                                                  \n",
            " batch_normalization_350 (B  (None, 15, 15, 64)           256       ['conv2d_350[0][0]']          \n",
            " atchNormalization)                                                                               \n",
            "                                                                                                  \n",
            " activation_284 (Activation  (None, 15, 15, 64)           0         ['batch_normalization_350[0][0\n",
            " )                                                                  ]']                           \n",
            "                                                                                                  \n",
            " conv2d_351 (Conv2D)         (None, 15, 15, 256)          16640     ['activation_284[0][0]']      \n",
            "                                                                                                  \n",
            " batch_normalization_351 (B  (None, 15, 15, 256)          1024      ['conv2d_351[0][0]']          \n",
            " atchNormalization)                                                                               \n",
            "                                                                                                  \n",
            " add_93 (Add)                (None, 15, 15, 256)          0         ['activation_282[0][0]',      \n",
            "                                                                     'batch_normalization_351[0][0\n",
            "                                                                    ]']                           \n",
            "                                                                                                  \n",
            " activation_285 (Activation  (None, 15, 15, 256)          0         ['add_93[0][0]']              \n",
            " )                                                                                                \n",
            "                                                                                                  \n",
            " conv2d_352 (Conv2D)         (None, 8, 8, 128)            32896     ['activation_285[0][0]']      \n",
            "                                                                                                  \n",
            " batch_normalization_352 (B  (None, 8, 8, 128)            512       ['conv2d_352[0][0]']          \n",
            " atchNormalization)                                                                               \n",
            "                                                                                                  \n",
            " activation_286 (Activation  (None, 8, 8, 128)            0         ['batch_normalization_352[0][0\n",
            " )                                                                  ]']                           \n",
            "                                                                                                  \n",
            " conv2d_353 (Conv2D)         (None, 8, 8, 128)            147584    ['activation_286[0][0]']      \n",
            "                                                                                                  \n",
            " batch_normalization_353 (B  (None, 8, 8, 128)            512       ['conv2d_353[0][0]']          \n",
            " atchNormalization)                                                                               \n",
            "                                                                                                  \n",
            " activation_287 (Activation  (None, 8, 8, 128)            0         ['batch_normalization_353[0][0\n",
            " )                                                                  ]']                           \n",
            "                                                                                                  \n",
            " conv2d_354 (Conv2D)         (None, 8, 8, 512)            66048     ['activation_287[0][0]']      \n",
            "                                                                                                  \n",
            " conv2d_355 (Conv2D)         (None, 8, 8, 512)            131584    ['activation_285[0][0]']      \n",
            "                                                                                                  \n",
            " batch_normalization_354 (B  (None, 8, 8, 512)            2048      ['conv2d_354[0][0]']          \n",
            " atchNormalization)                                                                               \n",
            "                                                                                                  \n",
            " batch_normalization_355 (B  (None, 8, 8, 512)            2048      ['conv2d_355[0][0]']          \n",
            " atchNormalization)                                                                               \n",
            "                                                                                                  \n",
            " add_94 (Add)                (None, 8, 8, 512)            0         ['batch_normalization_354[0][0\n",
            "                                                                    ]',                           \n",
            "                                                                     'batch_normalization_355[0][0\n",
            "                                                                    ]']                           \n",
            "                                                                                                  \n",
            " activation_288 (Activation  (None, 8, 8, 512)            0         ['add_94[0][0]']              \n",
            " )                                                                                                \n",
            "                                                                                                  \n",
            " conv2d_356 (Conv2D)         (None, 8, 8, 128)            65664     ['activation_288[0][0]']      \n",
            "                                                                                                  \n",
            " batch_normalization_356 (B  (None, 8, 8, 128)            512       ['conv2d_356[0][0]']          \n",
            " atchNormalization)                                                                               \n",
            "                                                                                                  \n",
            " activation_289 (Activation  (None, 8, 8, 128)            0         ['batch_normalization_356[0][0\n",
            " )                                                                  ]']                           \n",
            "                                                                                                  \n",
            " conv2d_357 (Conv2D)         (None, 8, 8, 128)            147584    ['activation_289[0][0]']      \n",
            "                                                                                                  \n",
            " batch_normalization_357 (B  (None, 8, 8, 128)            512       ['conv2d_357[0][0]']          \n",
            " atchNormalization)                                                                               \n",
            "                                                                                                  \n",
            " activation_290 (Activation  (None, 8, 8, 128)            0         ['batch_normalization_357[0][0\n",
            " )                                                                  ]']                           \n",
            "                                                                                                  \n",
            " conv2d_358 (Conv2D)         (None, 8, 8, 512)            66048     ['activation_290[0][0]']      \n",
            "                                                                                                  \n",
            " batch_normalization_358 (B  (None, 8, 8, 512)            2048      ['conv2d_358[0][0]']          \n",
            " atchNormalization)                                                                               \n",
            "                                                                                                  \n",
            " add_95 (Add)                (None, 8, 8, 512)            0         ['activation_288[0][0]',      \n",
            "                                                                     'batch_normalization_358[0][0\n",
            "                                                                    ]']                           \n",
            "                                                                                                  \n",
            " activation_291 (Activation  (None, 8, 8, 512)            0         ['add_95[0][0]']              \n",
            " )                                                                                                \n",
            "                                                                                                  \n",
            " conv2d_359 (Conv2D)         (None, 8, 8, 128)            65664     ['activation_291[0][0]']      \n",
            "                                                                                                  \n",
            " batch_normalization_359 (B  (None, 8, 8, 128)            512       ['conv2d_359[0][0]']          \n",
            " atchNormalization)                                                                               \n",
            "                                                                                                  \n",
            " activation_292 (Activation  (None, 8, 8, 128)            0         ['batch_normalization_359[0][0\n",
            " )                                                                  ]']                           \n",
            "                                                                                                  \n",
            " conv2d_360 (Conv2D)         (None, 8, 8, 128)            147584    ['activation_292[0][0]']      \n",
            "                                                                                                  \n",
            " batch_normalization_360 (B  (None, 8, 8, 128)            512       ['conv2d_360[0][0]']          \n",
            " atchNormalization)                                                                               \n",
            "                                                                                                  \n",
            " activation_293 (Activation  (None, 8, 8, 128)            0         ['batch_normalization_360[0][0\n",
            " )                                                                  ]']                           \n",
            "                                                                                                  \n",
            " conv2d_361 (Conv2D)         (None, 8, 8, 512)            66048     ['activation_293[0][0]']      \n",
            "                                                                                                  \n",
            " batch_normalization_361 (B  (None, 8, 8, 512)            2048      ['conv2d_361[0][0]']          \n",
            " atchNormalization)                                                                               \n",
            "                                                                                                  \n",
            " add_96 (Add)                (None, 8, 8, 512)            0         ['activation_291[0][0]',      \n",
            "                                                                     'batch_normalization_361[0][0\n",
            "                                                                    ]']                           \n",
            "                                                                                                  \n",
            " activation_294 (Activation  (None, 8, 8, 512)            0         ['add_96[0][0]']              \n",
            " )                                                                                                \n",
            "                                                                                                  \n",
            " conv2d_362 (Conv2D)         (None, 8, 8, 128)            65664     ['activation_294[0][0]']      \n",
            "                                                                                                  \n",
            " batch_normalization_362 (B  (None, 8, 8, 128)            512       ['conv2d_362[0][0]']          \n",
            " atchNormalization)                                                                               \n",
            "                                                                                                  \n",
            " activation_295 (Activation  (None, 8, 8, 128)            0         ['batch_normalization_362[0][0\n",
            " )                                                                  ]']                           \n",
            "                                                                                                  \n",
            " conv2d_363 (Conv2D)         (None, 8, 8, 128)            147584    ['activation_295[0][0]']      \n",
            "                                                                                                  \n",
            " batch_normalization_363 (B  (None, 8, 8, 128)            512       ['conv2d_363[0][0]']          \n",
            " atchNormalization)                                                                               \n",
            "                                                                                                  \n",
            " activation_296 (Activation  (None, 8, 8, 128)            0         ['batch_normalization_363[0][0\n",
            " )                                                                  ]']                           \n",
            "                                                                                                  \n",
            " conv2d_364 (Conv2D)         (None, 8, 8, 512)            66048     ['activation_296[0][0]']      \n",
            "                                                                                                  \n",
            " batch_normalization_364 (B  (None, 8, 8, 512)            2048      ['conv2d_364[0][0]']          \n",
            " atchNormalization)                                                                               \n",
            "                                                                                                  \n",
            " add_97 (Add)                (None, 8, 8, 512)            0         ['activation_294[0][0]',      \n",
            "                                                                     'batch_normalization_364[0][0\n",
            "                                                                    ]']                           \n",
            "                                                                                                  \n",
            " activation_297 (Activation  (None, 8, 8, 512)            0         ['add_97[0][0]']              \n",
            " )                                                                                                \n",
            "                                                                                                  \n",
            " conv2d_365 (Conv2D)         (None, 4, 4, 256)            131328    ['activation_297[0][0]']      \n",
            "                                                                                                  \n",
            " batch_normalization_365 (B  (None, 4, 4, 256)            1024      ['conv2d_365[0][0]']          \n",
            " atchNormalization)                                                                               \n",
            "                                                                                                  \n",
            " activation_298 (Activation  (None, 4, 4, 256)            0         ['batch_normalization_365[0][0\n",
            " )                                                                  ]']                           \n",
            "                                                                                                  \n",
            " conv2d_366 (Conv2D)         (None, 4, 4, 256)            590080    ['activation_298[0][0]']      \n",
            "                                                                                                  \n",
            " batch_normalization_366 (B  (None, 4, 4, 256)            1024      ['conv2d_366[0][0]']          \n",
            " atchNormalization)                                                                               \n",
            "                                                                                                  \n",
            " activation_299 (Activation  (None, 4, 4, 256)            0         ['batch_normalization_366[0][0\n",
            " )                                                                  ]']                           \n",
            "                                                                                                  \n",
            " conv2d_367 (Conv2D)         (None, 4, 4, 1024)           263168    ['activation_299[0][0]']      \n",
            "                                                                                                  \n",
            " conv2d_368 (Conv2D)         (None, 4, 4, 1024)           525312    ['activation_297[0][0]']      \n",
            "                                                                                                  \n",
            " batch_normalization_367 (B  (None, 4, 4, 1024)           4096      ['conv2d_367[0][0]']          \n",
            " atchNormalization)                                                                               \n",
            "                                                                                                  \n",
            " batch_normalization_368 (B  (None, 4, 4, 1024)           4096      ['conv2d_368[0][0]']          \n",
            " atchNormalization)                                                                               \n",
            "                                                                                                  \n",
            " add_98 (Add)                (None, 4, 4, 1024)           0         ['batch_normalization_367[0][0\n",
            "                                                                    ]',                           \n",
            "                                                                     'batch_normalization_368[0][0\n",
            "                                                                    ]']                           \n",
            "                                                                                                  \n",
            " activation_300 (Activation  (None, 4, 4, 1024)           0         ['add_98[0][0]']              \n",
            " )                                                                                                \n",
            "                                                                                                  \n",
            " conv2d_369 (Conv2D)         (None, 4, 4, 256)            262400    ['activation_300[0][0]']      \n",
            "                                                                                                  \n",
            " batch_normalization_369 (B  (None, 4, 4, 256)            1024      ['conv2d_369[0][0]']          \n",
            " atchNormalization)                                                                               \n",
            "                                                                                                  \n",
            " activation_301 (Activation  (None, 4, 4, 256)            0         ['batch_normalization_369[0][0\n",
            " )                                                                  ]']                           \n",
            "                                                                                                  \n",
            " conv2d_370 (Conv2D)         (None, 4, 4, 256)            590080    ['activation_301[0][0]']      \n",
            "                                                                                                  \n",
            " batch_normalization_370 (B  (None, 4, 4, 256)            1024      ['conv2d_370[0][0]']          \n",
            " atchNormalization)                                                                               \n",
            "                                                                                                  \n",
            " activation_302 (Activation  (None, 4, 4, 256)            0         ['batch_normalization_370[0][0\n",
            " )                                                                  ]']                           \n",
            "                                                                                                  \n",
            " conv2d_371 (Conv2D)         (None, 4, 4, 1024)           263168    ['activation_302[0][0]']      \n",
            "                                                                                                  \n",
            " batch_normalization_371 (B  (None, 4, 4, 1024)           4096      ['conv2d_371[0][0]']          \n",
            " atchNormalization)                                                                               \n",
            "                                                                                                  \n",
            " add_99 (Add)                (None, 4, 4, 1024)           0         ['activation_300[0][0]',      \n",
            "                                                                     'batch_normalization_371[0][0\n",
            "                                                                    ]']                           \n",
            "                                                                                                  \n",
            " activation_303 (Activation  (None, 4, 4, 1024)           0         ['add_99[0][0]']              \n",
            " )                                                                                                \n",
            "                                                                                                  \n",
            " conv2d_372 (Conv2D)         (None, 4, 4, 256)            262400    ['activation_303[0][0]']      \n",
            "                                                                                                  \n",
            " batch_normalization_372 (B  (None, 4, 4, 256)            1024      ['conv2d_372[0][0]']          \n",
            " atchNormalization)                                                                               \n",
            "                                                                                                  \n",
            " activation_304 (Activation  (None, 4, 4, 256)            0         ['batch_normalization_372[0][0\n",
            " )                                                                  ]']                           \n",
            "                                                                                                  \n",
            " conv2d_373 (Conv2D)         (None, 4, 4, 256)            590080    ['activation_304[0][0]']      \n",
            "                                                                                                  \n",
            " batch_normalization_373 (B  (None, 4, 4, 256)            1024      ['conv2d_373[0][0]']          \n",
            " atchNormalization)                                                                               \n",
            "                                                                                                  \n",
            " activation_305 (Activation  (None, 4, 4, 256)            0         ['batch_normalization_373[0][0\n",
            " )                                                                  ]']                           \n",
            "                                                                                                  \n",
            " conv2d_374 (Conv2D)         (None, 4, 4, 1024)           263168    ['activation_305[0][0]']      \n",
            "                                                                                                  \n",
            " batch_normalization_374 (B  (None, 4, 4, 1024)           4096      ['conv2d_374[0][0]']          \n",
            " atchNormalization)                                                                               \n",
            "                                                                                                  \n",
            " add_100 (Add)               (None, 4, 4, 1024)           0         ['activation_303[0][0]',      \n",
            "                                                                     'batch_normalization_374[0][0\n",
            "                                                                    ]']                           \n",
            "                                                                                                  \n",
            " activation_306 (Activation  (None, 4, 4, 1024)           0         ['add_100[0][0]']             \n",
            " )                                                                                                \n",
            "                                                                                                  \n",
            " conv2d_375 (Conv2D)         (None, 4, 4, 256)            262400    ['activation_306[0][0]']      \n",
            "                                                                                                  \n",
            " batch_normalization_375 (B  (None, 4, 4, 256)            1024      ['conv2d_375[0][0]']          \n",
            " atchNormalization)                                                                               \n",
            "                                                                                                  \n",
            " activation_307 (Activation  (None, 4, 4, 256)            0         ['batch_normalization_375[0][0\n",
            " )                                                                  ]']                           \n",
            "                                                                                                  \n",
            " conv2d_376 (Conv2D)         (None, 4, 4, 256)            590080    ['activation_307[0][0]']      \n",
            "                                                                                                  \n",
            " batch_normalization_376 (B  (None, 4, 4, 256)            1024      ['conv2d_376[0][0]']          \n",
            " atchNormalization)                                                                               \n",
            "                                                                                                  \n",
            " activation_308 (Activation  (None, 4, 4, 256)            0         ['batch_normalization_376[0][0\n",
            " )                                                                  ]']                           \n",
            "                                                                                                  \n",
            " conv2d_377 (Conv2D)         (None, 4, 4, 1024)           263168    ['activation_308[0][0]']      \n",
            "                                                                                                  \n",
            " batch_normalization_377 (B  (None, 4, 4, 1024)           4096      ['conv2d_377[0][0]']          \n",
            " atchNormalization)                                                                               \n",
            "                                                                                                  \n",
            " add_101 (Add)               (None, 4, 4, 1024)           0         ['activation_306[0][0]',      \n",
            "                                                                     'batch_normalization_377[0][0\n",
            "                                                                    ]']                           \n",
            "                                                                                                  \n",
            " activation_309 (Activation  (None, 4, 4, 1024)           0         ['add_101[0][0]']             \n",
            " )                                                                                                \n",
            "                                                                                                  \n",
            " conv2d_378 (Conv2D)         (None, 4, 4, 256)            262400    ['activation_309[0][0]']      \n",
            "                                                                                                  \n",
            " batch_normalization_378 (B  (None, 4, 4, 256)            1024      ['conv2d_378[0][0]']          \n",
            " atchNormalization)                                                                               \n",
            "                                                                                                  \n",
            " activation_310 (Activation  (None, 4, 4, 256)            0         ['batch_normalization_378[0][0\n",
            " )                                                                  ]']                           \n",
            "                                                                                                  \n",
            " conv2d_379 (Conv2D)         (None, 4, 4, 256)            590080    ['activation_310[0][0]']      \n",
            "                                                                                                  \n",
            " batch_normalization_379 (B  (None, 4, 4, 256)            1024      ['conv2d_379[0][0]']          \n",
            " atchNormalization)                                                                               \n",
            "                                                                                                  \n",
            " activation_311 (Activation  (None, 4, 4, 256)            0         ['batch_normalization_379[0][0\n",
            " )                                                                  ]']                           \n",
            "                                                                                                  \n",
            " conv2d_380 (Conv2D)         (None, 4, 4, 1024)           263168    ['activation_311[0][0]']      \n",
            "                                                                                                  \n",
            " batch_normalization_380 (B  (None, 4, 4, 1024)           4096      ['conv2d_380[0][0]']          \n",
            " atchNormalization)                                                                               \n",
            "                                                                                                  \n",
            " add_102 (Add)               (None, 4, 4, 1024)           0         ['activation_309[0][0]',      \n",
            "                                                                     'batch_normalization_380[0][0\n",
            "                                                                    ]']                           \n",
            "                                                                                                  \n",
            " activation_312 (Activation  (None, 4, 4, 1024)           0         ['add_102[0][0]']             \n",
            " )                                                                                                \n",
            "                                                                                                  \n",
            " conv2d_381 (Conv2D)         (None, 4, 4, 256)            262400    ['activation_312[0][0]']      \n",
            "                                                                                                  \n",
            " batch_normalization_381 (B  (None, 4, 4, 256)            1024      ['conv2d_381[0][0]']          \n",
            " atchNormalization)                                                                               \n",
            "                                                                                                  \n",
            " activation_313 (Activation  (None, 4, 4, 256)            0         ['batch_normalization_381[0][0\n",
            " )                                                                  ]']                           \n",
            "                                                                                                  \n",
            " conv2d_382 (Conv2D)         (None, 4, 4, 256)            590080    ['activation_313[0][0]']      \n",
            "                                                                                                  \n",
            " batch_normalization_382 (B  (None, 4, 4, 256)            1024      ['conv2d_382[0][0]']          \n",
            " atchNormalization)                                                                               \n",
            "                                                                                                  \n",
            " activation_314 (Activation  (None, 4, 4, 256)            0         ['batch_normalization_382[0][0\n",
            " )                                                                  ]']                           \n",
            "                                                                                                  \n",
            " conv2d_383 (Conv2D)         (None, 4, 4, 1024)           263168    ['activation_314[0][0]']      \n",
            "                                                                                                  \n",
            " batch_normalization_383 (B  (None, 4, 4, 1024)           4096      ['conv2d_383[0][0]']          \n",
            " atchNormalization)                                                                               \n",
            "                                                                                                  \n",
            " add_103 (Add)               (None, 4, 4, 1024)           0         ['activation_312[0][0]',      \n",
            "                                                                     'batch_normalization_383[0][0\n",
            "                                                                    ]']                           \n",
            "                                                                                                  \n",
            " activation_315 (Activation  (None, 4, 4, 1024)           0         ['add_103[0][0]']             \n",
            " )                                                                                                \n",
            "                                                                                                  \n",
            " conv2d_384 (Conv2D)         (None, 2, 2, 512)            524800    ['activation_315[0][0]']      \n",
            "                                                                                                  \n",
            " batch_normalization_384 (B  (None, 2, 2, 512)            2048      ['conv2d_384[0][0]']          \n",
            " atchNormalization)                                                                               \n",
            "                                                                                                  \n",
            " activation_316 (Activation  (None, 2, 2, 512)            0         ['batch_normalization_384[0][0\n",
            " )                                                                  ]']                           \n",
            "                                                                                                  \n",
            " conv2d_385 (Conv2D)         (None, 2, 2, 512)            2359808   ['activation_316[0][0]']      \n",
            "                                                                                                  \n",
            " batch_normalization_385 (B  (None, 2, 2, 512)            2048      ['conv2d_385[0][0]']          \n",
            " atchNormalization)                                                                               \n",
            "                                                                                                  \n",
            " activation_317 (Activation  (None, 2, 2, 512)            0         ['batch_normalization_385[0][0\n",
            " )                                                                  ]']                           \n",
            "                                                                                                  \n",
            " conv2d_386 (Conv2D)         (None, 2, 2, 2048)           1050624   ['activation_317[0][0]']      \n",
            "                                                                                                  \n",
            " conv2d_387 (Conv2D)         (None, 2, 2, 2048)           2099200   ['activation_315[0][0]']      \n",
            "                                                                                                  \n",
            " batch_normalization_386 (B  (None, 2, 2, 2048)           8192      ['conv2d_386[0][0]']          \n",
            " atchNormalization)                                                                               \n",
            "                                                                                                  \n",
            " batch_normalization_387 (B  (None, 2, 2, 2048)           8192      ['conv2d_387[0][0]']          \n",
            " atchNormalization)                                                                               \n",
            "                                                                                                  \n",
            " add_104 (Add)               (None, 2, 2, 2048)           0         ['batch_normalization_386[0][0\n",
            "                                                                    ]',                           \n",
            "                                                                     'batch_normalization_387[0][0\n",
            "                                                                    ]']                           \n",
            "                                                                                                  \n",
            " activation_318 (Activation  (None, 2, 2, 2048)           0         ['add_104[0][0]']             \n",
            " )                                                                                                \n",
            "                                                                                                  \n",
            " conv2d_388 (Conv2D)         (None, 2, 2, 512)            1049088   ['activation_318[0][0]']      \n",
            "                                                                                                  \n",
            " batch_normalization_388 (B  (None, 2, 2, 512)            2048      ['conv2d_388[0][0]']          \n",
            " atchNormalization)                                                                               \n",
            "                                                                                                  \n",
            " activation_319 (Activation  (None, 2, 2, 512)            0         ['batch_normalization_388[0][0\n",
            " )                                                                  ]']                           \n",
            "                                                                                                  \n",
            " conv2d_389 (Conv2D)         (None, 2, 2, 512)            2359808   ['activation_319[0][0]']      \n",
            "                                                                                                  \n",
            " batch_normalization_389 (B  (None, 2, 2, 512)            2048      ['conv2d_389[0][0]']          \n",
            " atchNormalization)                                                                               \n",
            "                                                                                                  \n",
            " activation_320 (Activation  (None, 2, 2, 512)            0         ['batch_normalization_389[0][0\n",
            " )                                                                  ]']                           \n",
            "                                                                                                  \n",
            " conv2d_390 (Conv2D)         (None, 2, 2, 2048)           1050624   ['activation_320[0][0]']      \n",
            "                                                                                                  \n",
            " batch_normalization_390 (B  (None, 2, 2, 2048)           8192      ['conv2d_390[0][0]']          \n",
            " atchNormalization)                                                                               \n",
            "                                                                                                  \n",
            " add_105 (Add)               (None, 2, 2, 2048)           0         ['activation_318[0][0]',      \n",
            "                                                                     'batch_normalization_390[0][0\n",
            "                                                                    ]']                           \n",
            "                                                                                                  \n",
            " activation_321 (Activation  (None, 2, 2, 2048)           0         ['add_105[0][0]']             \n",
            " )                                                                                                \n",
            "                                                                                                  \n",
            " conv2d_391 (Conv2D)         (None, 2, 2, 512)            1049088   ['activation_321[0][0]']      \n",
            "                                                                                                  \n",
            " batch_normalization_391 (B  (None, 2, 2, 512)            2048      ['conv2d_391[0][0]']          \n",
            " atchNormalization)                                                                               \n",
            "                                                                                                  \n",
            " activation_322 (Activation  (None, 2, 2, 512)            0         ['batch_normalization_391[0][0\n",
            " )                                                                  ]']                           \n",
            "                                                                                                  \n",
            " conv2d_392 (Conv2D)         (None, 2, 2, 512)            2359808   ['activation_322[0][0]']      \n",
            "                                                                                                  \n",
            " batch_normalization_392 (B  (None, 2, 2, 512)            2048      ['conv2d_392[0][0]']          \n",
            " atchNormalization)                                                                               \n",
            "                                                                                                  \n",
            " activation_323 (Activation  (None, 2, 2, 512)            0         ['batch_normalization_392[0][0\n",
            " )                                                                  ]']                           \n",
            "                                                                                                  \n",
            " conv2d_393 (Conv2D)         (None, 2, 2, 2048)           1050624   ['activation_323[0][0]']      \n",
            "                                                                                                  \n",
            " batch_normalization_393 (B  (None, 2, 2, 2048)           8192      ['conv2d_393[0][0]']          \n",
            " atchNormalization)                                                                               \n",
            "                                                                                                  \n",
            " add_106 (Add)               (None, 2, 2, 2048)           0         ['activation_321[0][0]',      \n",
            "                                                                     'batch_normalization_393[0][0\n",
            "                                                                    ]']                           \n",
            "                                                                                                  \n",
            " activation_324 (Activation  (None, 2, 2, 2048)           0         ['add_106[0][0]']             \n",
            " )                                                                                                \n",
            "                                                                                                  \n",
            " average_pooling2d_3 (Avera  (None, 1, 1, 2048)           0         ['activation_324[0][0]']      \n",
            " gePooling2D)                                                                                     \n",
            "                                                                                                  \n",
            " flatten_3 (Flatten)         (None, 2048)                 0         ['average_pooling2d_3[0][0]'] \n",
            "                                                                                                  \n",
            " dense_3 (Dense)             (None, 6)                    12294     ['flatten_3[0][0]']           \n",
            "                                                                                                  \n",
            "==================================================================================================\n",
            "Total params: 23600006 (90.03 MB)\n",
            "Trainable params: 23546886 (89.82 MB)\n",
            "Non-trainable params: 53120 (207.50 KB)\n",
            "__________________________________________________________________________________________________\n",
            "None\n"
          ]
        }
      ],
      "source": [
        "model = ResNet50(input_shape = (64, 64, 3), classes = 6)\n",
        "print(model.summary())"
      ]
    },
    {
      "cell_type": "code",
      "execution_count": 79,
      "metadata": {
        "nbgrader": {
          "grade": true,
          "grade_id": "cell-866b891ec47ccb7b",
          "locked": true,
          "points": 10,
          "schema_version": 3,
          "solution": false,
          "task": false
        },
        "id": "JX-bCgcxL7bK",
        "colab": {
          "base_uri": "https://localhost:8080/"
        },
        "outputId": "ffffeaa9-ea5d-4bcf-80fd-c26c5e82ab56"
      },
      "outputs": [
        {
          "output_type": "stream",
          "name": "stdout",
          "text": [
            "All tests passed!\n"
          ]
        }
      ],
      "source": [
        "from outputs import ResNet50_summary\n",
        "\n",
        "model = ResNet50(input_shape = (64, 64, 3), classes = 6)\n",
        "\n",
        "comparator(summary(model), ResNet50_summary)\n"
      ]
    },
    {
      "cell_type": "markdown",
      "metadata": {
        "id": "gwEwzPVUL7bK"
      },
      "source": [
        "As shown in the Keras Tutorial Notebook, prior to training a model, you need to configure the learning process by compiling the model."
      ]
    },
    {
      "cell_type": "code",
      "execution_count": 80,
      "metadata": {
        "id": "F5dLKI6aL7bK"
      },
      "outputs": [],
      "source": [
        "model.compile(optimizer='adam', loss='categorical_crossentropy', metrics=['accuracy'])"
      ]
    },
    {
      "cell_type": "markdown",
      "metadata": {
        "id": "CCyMFzXmL7bK"
      },
      "source": [
        "The model is now ready to be trained. The only thing you need now is a dataset!"
      ]
    },
    {
      "cell_type": "markdown",
      "metadata": {
        "id": "wjN7GkDoL7bK"
      },
      "source": [
        "Let's load your old friend, the SIGNS dataset.\n",
        "\n",
        "<img src=\"https://kau365-my.sharepoint.com/personal/oongjoon_kau_kr/Documents/DLS%EC%9D%B4%EB%AF%B8%EC%A7%80/images-20240103T121635Z-001/images/signs_data_kiank.png\" style=\"width:450px;height:250px;\">\n",
        "<caption><center> <u> <font color='purple'> <b>Figure 6</b> </u><font color='purple'>  : <b>SIGNS dataset</b> </center></caption>\n"
      ]
    },
    {
      "cell_type": "code",
      "execution_count": 81,
      "metadata": {
        "scrolled": true,
        "id": "E-Bch4tuL7bL",
        "colab": {
          "base_uri": "https://localhost:8080/"
        },
        "outputId": "d6c7cb4e-fc9a-4168-81de-4fdac9e3fa73"
      },
      "outputs": [
        {
          "output_type": "stream",
          "name": "stdout",
          "text": [
            "number of training examples = 1080\n",
            "number of test examples = 120\n",
            "X_train shape: (1080, 64, 64, 3)\n",
            "Y_train shape: (1080, 6)\n",
            "X_test shape: (120, 64, 64, 3)\n",
            "Y_test shape: (120, 6)\n"
          ]
        }
      ],
      "source": [
        "X_train_orig, Y_train_orig, X_test_orig, Y_test_orig, classes = load_dataset()\n",
        "\n",
        "# Normalize image vectors\n",
        "X_train = X_train_orig / 255.\n",
        "X_test = X_test_orig / 255.\n",
        "\n",
        "# Convert training and test labels to one hot matrices\n",
        "Y_train = convert_to_one_hot(Y_train_orig, 6).T\n",
        "Y_test = convert_to_one_hot(Y_test_orig, 6).T\n",
        "\n",
        "print (\"number of training examples = \" + str(X_train.shape[0]))\n",
        "print (\"number of test examples = \" + str(X_test.shape[0]))\n",
        "print (\"X_train shape: \" + str(X_train.shape))\n",
        "print (\"Y_train shape: \" + str(Y_train.shape))\n",
        "print (\"X_test shape: \" + str(X_test.shape))\n",
        "print (\"Y_test shape: \" + str(Y_test.shape))"
      ]
    },
    {
      "cell_type": "markdown",
      "metadata": {
        "id": "lcO2cnXhL7bL"
      },
      "source": [
        "Run the following cell to train your model on 10 epochs with a batch size of 32. On a GPU, it should take less than 2 minutes."
      ]
    },
    {
      "cell_type": "code",
      "execution_count": 82,
      "metadata": {
        "scrolled": false,
        "id": "F2EkRi4SL7bL",
        "colab": {
          "base_uri": "https://localhost:8080/",
          "height": 372
        },
        "outputId": "5c6eac47-6ba0-4a38-aa88-75c8b1222704"
      },
      "outputs": [
        {
          "output_type": "stream",
          "name": "stdout",
          "text": [
            "Epoch 1/10\n",
            " 8/34 [======>.......................] - ETA: 1:30 - loss: 3.8856 - accuracy: 0.2109"
          ]
        },
        {
          "output_type": "error",
          "ename": "KeyboardInterrupt",
          "evalue": "ignored",
          "traceback": [
            "\u001b[0;31m---------------------------------------------------------------------------\u001b[0m",
            "\u001b[0;31mKeyboardInterrupt\u001b[0m                         Traceback (most recent call last)",
            "\u001b[0;32m<ipython-input-82-881bcb79427a>\u001b[0m in \u001b[0;36m<cell line: 1>\u001b[0;34m()\u001b[0m\n\u001b[0;32m----> 1\u001b[0;31m \u001b[0mmodel\u001b[0m\u001b[0;34m.\u001b[0m\u001b[0mfit\u001b[0m\u001b[0;34m(\u001b[0m\u001b[0mX_train\u001b[0m\u001b[0;34m,\u001b[0m \u001b[0mY_train\u001b[0m\u001b[0;34m,\u001b[0m \u001b[0mepochs\u001b[0m \u001b[0;34m=\u001b[0m \u001b[0;36m10\u001b[0m\u001b[0;34m,\u001b[0m \u001b[0mbatch_size\u001b[0m \u001b[0;34m=\u001b[0m \u001b[0;36m32\u001b[0m\u001b[0;34m)\u001b[0m\u001b[0;34m\u001b[0m\u001b[0;34m\u001b[0m\u001b[0m\n\u001b[0m",
            "\u001b[0;32m/usr/local/lib/python3.10/dist-packages/keras/src/utils/traceback_utils.py\u001b[0m in \u001b[0;36merror_handler\u001b[0;34m(*args, **kwargs)\u001b[0m\n\u001b[1;32m     63\u001b[0m         \u001b[0mfiltered_tb\u001b[0m \u001b[0;34m=\u001b[0m \u001b[0;32mNone\u001b[0m\u001b[0;34m\u001b[0m\u001b[0;34m\u001b[0m\u001b[0m\n\u001b[1;32m     64\u001b[0m         \u001b[0;32mtry\u001b[0m\u001b[0;34m:\u001b[0m\u001b[0;34m\u001b[0m\u001b[0;34m\u001b[0m\u001b[0m\n\u001b[0;32m---> 65\u001b[0;31m             \u001b[0;32mreturn\u001b[0m \u001b[0mfn\u001b[0m\u001b[0;34m(\u001b[0m\u001b[0;34m*\u001b[0m\u001b[0margs\u001b[0m\u001b[0;34m,\u001b[0m \u001b[0;34m**\u001b[0m\u001b[0mkwargs\u001b[0m\u001b[0;34m)\u001b[0m\u001b[0;34m\u001b[0m\u001b[0;34m\u001b[0m\u001b[0m\n\u001b[0m\u001b[1;32m     66\u001b[0m         \u001b[0;32mexcept\u001b[0m \u001b[0mException\u001b[0m \u001b[0;32mas\u001b[0m \u001b[0me\u001b[0m\u001b[0;34m:\u001b[0m\u001b[0;34m\u001b[0m\u001b[0;34m\u001b[0m\u001b[0m\n\u001b[1;32m     67\u001b[0m             \u001b[0mfiltered_tb\u001b[0m \u001b[0;34m=\u001b[0m \u001b[0m_process_traceback_frames\u001b[0m\u001b[0;34m(\u001b[0m\u001b[0me\u001b[0m\u001b[0;34m.\u001b[0m\u001b[0m__traceback__\u001b[0m\u001b[0;34m)\u001b[0m\u001b[0;34m\u001b[0m\u001b[0;34m\u001b[0m\u001b[0m\n",
            "\u001b[0;32m/usr/local/lib/python3.10/dist-packages/keras/src/engine/training.py\u001b[0m in \u001b[0;36mfit\u001b[0;34m(self, x, y, batch_size, epochs, verbose, callbacks, validation_split, validation_data, shuffle, class_weight, sample_weight, initial_epoch, steps_per_epoch, validation_steps, validation_batch_size, validation_freq, max_queue_size, workers, use_multiprocessing)\u001b[0m\n\u001b[1;32m   1805\u001b[0m                         ):\n\u001b[1;32m   1806\u001b[0m                             \u001b[0mcallbacks\u001b[0m\u001b[0;34m.\u001b[0m\u001b[0mon_train_batch_begin\u001b[0m\u001b[0;34m(\u001b[0m\u001b[0mstep\u001b[0m\u001b[0;34m)\u001b[0m\u001b[0;34m\u001b[0m\u001b[0;34m\u001b[0m\u001b[0m\n\u001b[0;32m-> 1807\u001b[0;31m                             \u001b[0mtmp_logs\u001b[0m \u001b[0;34m=\u001b[0m \u001b[0mself\u001b[0m\u001b[0;34m.\u001b[0m\u001b[0mtrain_function\u001b[0m\u001b[0;34m(\u001b[0m\u001b[0miterator\u001b[0m\u001b[0;34m)\u001b[0m\u001b[0;34m\u001b[0m\u001b[0;34m\u001b[0m\u001b[0m\n\u001b[0m\u001b[1;32m   1808\u001b[0m                             \u001b[0;32mif\u001b[0m \u001b[0mdata_handler\u001b[0m\u001b[0;34m.\u001b[0m\u001b[0mshould_sync\u001b[0m\u001b[0;34m:\u001b[0m\u001b[0;34m\u001b[0m\u001b[0;34m\u001b[0m\u001b[0m\n\u001b[1;32m   1809\u001b[0m                                 \u001b[0mcontext\u001b[0m\u001b[0;34m.\u001b[0m\u001b[0masync_wait\u001b[0m\u001b[0;34m(\u001b[0m\u001b[0;34m)\u001b[0m\u001b[0;34m\u001b[0m\u001b[0;34m\u001b[0m\u001b[0m\n",
            "\u001b[0;32m/usr/local/lib/python3.10/dist-packages/tensorflow/python/util/traceback_utils.py\u001b[0m in \u001b[0;36merror_handler\u001b[0;34m(*args, **kwargs)\u001b[0m\n\u001b[1;32m    148\u001b[0m     \u001b[0mfiltered_tb\u001b[0m \u001b[0;34m=\u001b[0m \u001b[0;32mNone\u001b[0m\u001b[0;34m\u001b[0m\u001b[0;34m\u001b[0m\u001b[0m\n\u001b[1;32m    149\u001b[0m     \u001b[0;32mtry\u001b[0m\u001b[0;34m:\u001b[0m\u001b[0;34m\u001b[0m\u001b[0;34m\u001b[0m\u001b[0m\n\u001b[0;32m--> 150\u001b[0;31m       \u001b[0;32mreturn\u001b[0m \u001b[0mfn\u001b[0m\u001b[0;34m(\u001b[0m\u001b[0;34m*\u001b[0m\u001b[0margs\u001b[0m\u001b[0;34m,\u001b[0m \u001b[0;34m**\u001b[0m\u001b[0mkwargs\u001b[0m\u001b[0;34m)\u001b[0m\u001b[0;34m\u001b[0m\u001b[0;34m\u001b[0m\u001b[0m\n\u001b[0m\u001b[1;32m    151\u001b[0m     \u001b[0;32mexcept\u001b[0m \u001b[0mException\u001b[0m \u001b[0;32mas\u001b[0m \u001b[0me\u001b[0m\u001b[0;34m:\u001b[0m\u001b[0;34m\u001b[0m\u001b[0;34m\u001b[0m\u001b[0m\n\u001b[1;32m    152\u001b[0m       \u001b[0mfiltered_tb\u001b[0m \u001b[0;34m=\u001b[0m \u001b[0m_process_traceback_frames\u001b[0m\u001b[0;34m(\u001b[0m\u001b[0me\u001b[0m\u001b[0;34m.\u001b[0m\u001b[0m__traceback__\u001b[0m\u001b[0;34m)\u001b[0m\u001b[0;34m\u001b[0m\u001b[0;34m\u001b[0m\u001b[0m\n",
            "\u001b[0;32m/usr/local/lib/python3.10/dist-packages/tensorflow/python/eager/polymorphic_function/polymorphic_function.py\u001b[0m in \u001b[0;36m__call__\u001b[0;34m(self, *args, **kwds)\u001b[0m\n\u001b[1;32m    830\u001b[0m \u001b[0;34m\u001b[0m\u001b[0m\n\u001b[1;32m    831\u001b[0m       \u001b[0;32mwith\u001b[0m \u001b[0mOptionalXlaContext\u001b[0m\u001b[0;34m(\u001b[0m\u001b[0mself\u001b[0m\u001b[0;34m.\u001b[0m\u001b[0m_jit_compile\u001b[0m\u001b[0;34m)\u001b[0m\u001b[0;34m:\u001b[0m\u001b[0;34m\u001b[0m\u001b[0;34m\u001b[0m\u001b[0m\n\u001b[0;32m--> 832\u001b[0;31m         \u001b[0mresult\u001b[0m \u001b[0;34m=\u001b[0m \u001b[0mself\u001b[0m\u001b[0;34m.\u001b[0m\u001b[0m_call\u001b[0m\u001b[0;34m(\u001b[0m\u001b[0;34m*\u001b[0m\u001b[0margs\u001b[0m\u001b[0;34m,\u001b[0m \u001b[0;34m**\u001b[0m\u001b[0mkwds\u001b[0m\u001b[0;34m)\u001b[0m\u001b[0;34m\u001b[0m\u001b[0;34m\u001b[0m\u001b[0m\n\u001b[0m\u001b[1;32m    833\u001b[0m \u001b[0;34m\u001b[0m\u001b[0m\n\u001b[1;32m    834\u001b[0m       \u001b[0mnew_tracing_count\u001b[0m \u001b[0;34m=\u001b[0m \u001b[0mself\u001b[0m\u001b[0;34m.\u001b[0m\u001b[0mexperimental_get_tracing_count\u001b[0m\u001b[0;34m(\u001b[0m\u001b[0;34m)\u001b[0m\u001b[0;34m\u001b[0m\u001b[0;34m\u001b[0m\u001b[0m\n",
            "\u001b[0;32m/usr/local/lib/python3.10/dist-packages/tensorflow/python/eager/polymorphic_function/polymorphic_function.py\u001b[0m in \u001b[0;36m_call\u001b[0;34m(self, *args, **kwds)\u001b[0m\n\u001b[1;32m    866\u001b[0m       \u001b[0;31m# In this case we have created variables on the first call, so we run the\u001b[0m\u001b[0;34m\u001b[0m\u001b[0;34m\u001b[0m\u001b[0m\n\u001b[1;32m    867\u001b[0m       \u001b[0;31m# defunned version which is guaranteed to never create variables.\u001b[0m\u001b[0;34m\u001b[0m\u001b[0;34m\u001b[0m\u001b[0m\n\u001b[0;32m--> 868\u001b[0;31m       return tracing_compilation.call_function(\n\u001b[0m\u001b[1;32m    869\u001b[0m           \u001b[0margs\u001b[0m\u001b[0;34m,\u001b[0m \u001b[0mkwds\u001b[0m\u001b[0;34m,\u001b[0m \u001b[0mself\u001b[0m\u001b[0;34m.\u001b[0m\u001b[0m_no_variable_creation_config\u001b[0m\u001b[0;34m\u001b[0m\u001b[0;34m\u001b[0m\u001b[0m\n\u001b[1;32m    870\u001b[0m       )\n",
            "\u001b[0;32m/usr/local/lib/python3.10/dist-packages/tensorflow/python/eager/polymorphic_function/tracing_compilation.py\u001b[0m in \u001b[0;36mcall_function\u001b[0;34m(args, kwargs, tracing_options)\u001b[0m\n\u001b[1;32m    137\u001b[0m   \u001b[0mbound_args\u001b[0m \u001b[0;34m=\u001b[0m \u001b[0mfunction\u001b[0m\u001b[0;34m.\u001b[0m\u001b[0mfunction_type\u001b[0m\u001b[0;34m.\u001b[0m\u001b[0mbind\u001b[0m\u001b[0;34m(\u001b[0m\u001b[0;34m*\u001b[0m\u001b[0margs\u001b[0m\u001b[0;34m,\u001b[0m \u001b[0;34m**\u001b[0m\u001b[0mkwargs\u001b[0m\u001b[0;34m)\u001b[0m\u001b[0;34m\u001b[0m\u001b[0;34m\u001b[0m\u001b[0m\n\u001b[1;32m    138\u001b[0m   \u001b[0mflat_inputs\u001b[0m \u001b[0;34m=\u001b[0m \u001b[0mfunction\u001b[0m\u001b[0;34m.\u001b[0m\u001b[0mfunction_type\u001b[0m\u001b[0;34m.\u001b[0m\u001b[0munpack_inputs\u001b[0m\u001b[0;34m(\u001b[0m\u001b[0mbound_args\u001b[0m\u001b[0;34m)\u001b[0m\u001b[0;34m\u001b[0m\u001b[0;34m\u001b[0m\u001b[0m\n\u001b[0;32m--> 139\u001b[0;31m   return function._call_flat(  # pylint: disable=protected-access\n\u001b[0m\u001b[1;32m    140\u001b[0m       \u001b[0mflat_inputs\u001b[0m\u001b[0;34m,\u001b[0m \u001b[0mcaptured_inputs\u001b[0m\u001b[0;34m=\u001b[0m\u001b[0mfunction\u001b[0m\u001b[0;34m.\u001b[0m\u001b[0mcaptured_inputs\u001b[0m\u001b[0;34m\u001b[0m\u001b[0;34m\u001b[0m\u001b[0m\n\u001b[1;32m    141\u001b[0m   )\n",
            "\u001b[0;32m/usr/local/lib/python3.10/dist-packages/tensorflow/python/eager/polymorphic_function/concrete_function.py\u001b[0m in \u001b[0;36m_call_flat\u001b[0;34m(self, tensor_inputs, captured_inputs)\u001b[0m\n\u001b[1;32m   1321\u001b[0m         and executing_eagerly):\n\u001b[1;32m   1322\u001b[0m       \u001b[0;31m# No tape is watching; skip to running the function.\u001b[0m\u001b[0;34m\u001b[0m\u001b[0;34m\u001b[0m\u001b[0m\n\u001b[0;32m-> 1323\u001b[0;31m       \u001b[0;32mreturn\u001b[0m \u001b[0mself\u001b[0m\u001b[0;34m.\u001b[0m\u001b[0m_inference_function\u001b[0m\u001b[0;34m.\u001b[0m\u001b[0mcall_preflattened\u001b[0m\u001b[0;34m(\u001b[0m\u001b[0margs\u001b[0m\u001b[0;34m)\u001b[0m\u001b[0;34m\u001b[0m\u001b[0;34m\u001b[0m\u001b[0m\n\u001b[0m\u001b[1;32m   1324\u001b[0m     forward_backward = self._select_forward_and_backward_functions(\n\u001b[1;32m   1325\u001b[0m         \u001b[0margs\u001b[0m\u001b[0;34m,\u001b[0m\u001b[0;34m\u001b[0m\u001b[0;34m\u001b[0m\u001b[0m\n",
            "\u001b[0;32m/usr/local/lib/python3.10/dist-packages/tensorflow/python/eager/polymorphic_function/atomic_function.py\u001b[0m in \u001b[0;36mcall_preflattened\u001b[0;34m(self, args)\u001b[0m\n\u001b[1;32m    214\u001b[0m   \u001b[0;32mdef\u001b[0m \u001b[0mcall_preflattened\u001b[0m\u001b[0;34m(\u001b[0m\u001b[0mself\u001b[0m\u001b[0;34m,\u001b[0m \u001b[0margs\u001b[0m\u001b[0;34m:\u001b[0m \u001b[0mSequence\u001b[0m\u001b[0;34m[\u001b[0m\u001b[0mcore\u001b[0m\u001b[0;34m.\u001b[0m\u001b[0mTensor\u001b[0m\u001b[0;34m]\u001b[0m\u001b[0;34m)\u001b[0m \u001b[0;34m->\u001b[0m \u001b[0mAny\u001b[0m\u001b[0;34m:\u001b[0m\u001b[0;34m\u001b[0m\u001b[0;34m\u001b[0m\u001b[0m\n\u001b[1;32m    215\u001b[0m     \u001b[0;34m\"\"\"Calls with flattened tensor inputs and returns the structured output.\"\"\"\u001b[0m\u001b[0;34m\u001b[0m\u001b[0;34m\u001b[0m\u001b[0m\n\u001b[0;32m--> 216\u001b[0;31m     \u001b[0mflat_outputs\u001b[0m \u001b[0;34m=\u001b[0m \u001b[0mself\u001b[0m\u001b[0;34m.\u001b[0m\u001b[0mcall_flat\u001b[0m\u001b[0;34m(\u001b[0m\u001b[0;34m*\u001b[0m\u001b[0margs\u001b[0m\u001b[0;34m)\u001b[0m\u001b[0;34m\u001b[0m\u001b[0;34m\u001b[0m\u001b[0m\n\u001b[0m\u001b[1;32m    217\u001b[0m     \u001b[0;32mreturn\u001b[0m \u001b[0mself\u001b[0m\u001b[0;34m.\u001b[0m\u001b[0mfunction_type\u001b[0m\u001b[0;34m.\u001b[0m\u001b[0mpack_output\u001b[0m\u001b[0;34m(\u001b[0m\u001b[0mflat_outputs\u001b[0m\u001b[0;34m)\u001b[0m\u001b[0;34m\u001b[0m\u001b[0;34m\u001b[0m\u001b[0m\n\u001b[1;32m    218\u001b[0m \u001b[0;34m\u001b[0m\u001b[0m\n",
            "\u001b[0;32m/usr/local/lib/python3.10/dist-packages/tensorflow/python/eager/polymorphic_function/atomic_function.py\u001b[0m in \u001b[0;36mcall_flat\u001b[0;34m(self, *args)\u001b[0m\n\u001b[1;32m    249\u001b[0m         \u001b[0;32mwith\u001b[0m \u001b[0mrecord\u001b[0m\u001b[0;34m.\u001b[0m\u001b[0mstop_recording\u001b[0m\u001b[0;34m(\u001b[0m\u001b[0;34m)\u001b[0m\u001b[0;34m:\u001b[0m\u001b[0;34m\u001b[0m\u001b[0;34m\u001b[0m\u001b[0m\n\u001b[1;32m    250\u001b[0m           \u001b[0;32mif\u001b[0m \u001b[0mself\u001b[0m\u001b[0;34m.\u001b[0m\u001b[0m_bound_context\u001b[0m\u001b[0;34m.\u001b[0m\u001b[0mexecuting_eagerly\u001b[0m\u001b[0;34m(\u001b[0m\u001b[0;34m)\u001b[0m\u001b[0;34m:\u001b[0m\u001b[0;34m\u001b[0m\u001b[0;34m\u001b[0m\u001b[0m\n\u001b[0;32m--> 251\u001b[0;31m             outputs = self._bound_context.call_function(\n\u001b[0m\u001b[1;32m    252\u001b[0m                 \u001b[0mself\u001b[0m\u001b[0;34m.\u001b[0m\u001b[0mname\u001b[0m\u001b[0;34m,\u001b[0m\u001b[0;34m\u001b[0m\u001b[0;34m\u001b[0m\u001b[0m\n\u001b[1;32m    253\u001b[0m                 \u001b[0mlist\u001b[0m\u001b[0;34m(\u001b[0m\u001b[0margs\u001b[0m\u001b[0;34m)\u001b[0m\u001b[0;34m,\u001b[0m\u001b[0;34m\u001b[0m\u001b[0;34m\u001b[0m\u001b[0m\n",
            "\u001b[0;32m/usr/local/lib/python3.10/dist-packages/tensorflow/python/eager/context.py\u001b[0m in \u001b[0;36mcall_function\u001b[0;34m(self, name, tensor_inputs, num_outputs)\u001b[0m\n\u001b[1;32m   1484\u001b[0m     \u001b[0mcancellation_context\u001b[0m \u001b[0;34m=\u001b[0m \u001b[0mcancellation\u001b[0m\u001b[0;34m.\u001b[0m\u001b[0mcontext\u001b[0m\u001b[0;34m(\u001b[0m\u001b[0;34m)\u001b[0m\u001b[0;34m\u001b[0m\u001b[0;34m\u001b[0m\u001b[0m\n\u001b[1;32m   1485\u001b[0m     \u001b[0;32mif\u001b[0m \u001b[0mcancellation_context\u001b[0m \u001b[0;32mis\u001b[0m \u001b[0;32mNone\u001b[0m\u001b[0;34m:\u001b[0m\u001b[0;34m\u001b[0m\u001b[0;34m\u001b[0m\u001b[0m\n\u001b[0;32m-> 1486\u001b[0;31m       outputs = execute.execute(\n\u001b[0m\u001b[1;32m   1487\u001b[0m           \u001b[0mname\u001b[0m\u001b[0;34m.\u001b[0m\u001b[0mdecode\u001b[0m\u001b[0;34m(\u001b[0m\u001b[0;34m\"utf-8\"\u001b[0m\u001b[0;34m)\u001b[0m\u001b[0;34m,\u001b[0m\u001b[0;34m\u001b[0m\u001b[0;34m\u001b[0m\u001b[0m\n\u001b[1;32m   1488\u001b[0m           \u001b[0mnum_outputs\u001b[0m\u001b[0;34m=\u001b[0m\u001b[0mnum_outputs\u001b[0m\u001b[0;34m,\u001b[0m\u001b[0;34m\u001b[0m\u001b[0;34m\u001b[0m\u001b[0m\n",
            "\u001b[0;32m/usr/local/lib/python3.10/dist-packages/tensorflow/python/eager/execute.py\u001b[0m in \u001b[0;36mquick_execute\u001b[0;34m(op_name, num_outputs, inputs, attrs, ctx, name)\u001b[0m\n\u001b[1;32m     51\u001b[0m   \u001b[0;32mtry\u001b[0m\u001b[0;34m:\u001b[0m\u001b[0;34m\u001b[0m\u001b[0;34m\u001b[0m\u001b[0m\n\u001b[1;32m     52\u001b[0m     \u001b[0mctx\u001b[0m\u001b[0;34m.\u001b[0m\u001b[0mensure_initialized\u001b[0m\u001b[0;34m(\u001b[0m\u001b[0;34m)\u001b[0m\u001b[0;34m\u001b[0m\u001b[0;34m\u001b[0m\u001b[0m\n\u001b[0;32m---> 53\u001b[0;31m     tensors = pywrap_tfe.TFE_Py_Execute(ctx._handle, device_name, op_name,\n\u001b[0m\u001b[1;32m     54\u001b[0m                                         inputs, attrs, num_outputs)\n\u001b[1;32m     55\u001b[0m   \u001b[0;32mexcept\u001b[0m \u001b[0mcore\u001b[0m\u001b[0;34m.\u001b[0m\u001b[0m_NotOkStatusException\u001b[0m \u001b[0;32mas\u001b[0m \u001b[0me\u001b[0m\u001b[0;34m:\u001b[0m\u001b[0;34m\u001b[0m\u001b[0;34m\u001b[0m\u001b[0m\n",
            "\u001b[0;31mKeyboardInterrupt\u001b[0m: "
          ]
        }
      ],
      "source": [
        "model.fit(X_train, Y_train, epochs = 10, batch_size = 32)"
      ]
    },
    {
      "cell_type": "markdown",
      "metadata": {
        "id": "-aeWeSbLL7bL"
      },
      "source": [
        "**Expected Output**:\n",
        "\n",
        "```\n",
        "Epoch 1/10\n",
        "34/34 [==============================] - 1s 34ms/step - loss: 1.9241 - accuracy: 0.4620\n",
        "Epoch 2/10\n",
        "34/34 [==============================] - 2s 57ms/step - loss: 0.6403 - accuracy: 0.7898\n",
        "Epoch 3/10\n",
        "34/34 [==============================] - 1s 24ms/step - loss: 0.3744 - accuracy: 0.8731\n",
        "Epoch 4/10\n",
        "34/34 [==============================] - 2s 44ms/step - loss: 0.2220 - accuracy: 0.9231\n",
        "Epoch 5/10\n",
        "34/34 [==============================] - 2s 57ms/step - loss: 0.1333 - accuracy: 0.9583\n",
        "Epoch 6/10\n",
        "34/34 [==============================] - 2s 52ms/step - loss: 0.2243 - accuracy: 0.9444\n",
        "Epoch 7/10\n",
        "34/34 [==============================] - 2s 48ms/step - loss: 0.2913 - accuracy: 0.9102\n",
        "Epoch 8/10\n",
        "34/34 [==============================] - 1s 30ms/step - loss: 0.2269 - accuracy: 0.9306\n",
        "Epoch 9/10\n",
        "34/34 [==============================] - 2s 46ms/step - loss: 0.1113 - accuracy: 0.9630\n",
        "Epoch 10/10\n",
        "34/34 [==============================] - 2s 57ms/step - loss: 0.0709 - accuracy: 0.9778\n",
        "```\n",
        "\n",
        "The exact values could not match, but don't worry about that. The important thing that you must see is that the loss value decreases, and the accuracy increases for the firsts 5 epochs."
      ]
    },
    {
      "cell_type": "markdown",
      "metadata": {
        "id": "_BIGhhP0L7bM"
      },
      "source": [
        "Let's see how this model (trained on only two epochs) performs on the test set."
      ]
    },
    {
      "cell_type": "code",
      "execution_count": null,
      "metadata": {
        "scrolled": true,
        "id": "LBIaYEXOL7bM"
      },
      "outputs": [],
      "source": [
        "preds = model.evaluate(X_test, Y_test)\n",
        "print (\"Loss = \" + str(preds[0]))\n",
        "print (\"Test Accuracy = \" + str(preds[1]))"
      ]
    },
    {
      "cell_type": "markdown",
      "metadata": {
        "id": "m9pFQ9s4L7bM"
      },
      "source": [
        "**Expected Output**:\n",
        "\n",
        "<table>\n",
        "    <tr>\n",
        "        <td>\n",
        "            <b>Test Accuracy</b>\n",
        "        </td>\n",
        "        <td>\n",
        "           >0.80\n",
        "        </td>\n",
        "    </tr>\n",
        "\n",
        "</table>"
      ]
    },
    {
      "cell_type": "markdown",
      "metadata": {
        "id": "rtPUracLL7bM"
      },
      "source": [
        "For the purposes of this assignment, you've been asked to train the model for ten epochs. You can see that it performs well. The online grader will only run your code for a small number of epochs as well. Please go ahead and submit your assignment."
      ]
    },
    {
      "cell_type": "markdown",
      "metadata": {
        "id": "z8FxvzrDL7bN"
      },
      "source": [
        "After you have finished this official (graded) part of this assignment, you can also optionally train the ResNet for more iterations, if you want. It tends to get much better performance when trained for ~20 epochs, but this does take more than an hour when training on a CPU.\n",
        "\n",
        "Using a GPU, this ResNet50 model's weights were trained on the SIGNS dataset. You can load and run the trained model on the test set in the cells below. It may take ≈1min to load the model. Have fun!"
      ]
    },
    {
      "cell_type": "code",
      "execution_count": null,
      "metadata": {
        "id": "kcKn8zuWL7bN"
      },
      "outputs": [],
      "source": [
        "pre_trained_model = tf.keras.models.load_model('resnet50.h5')"
      ]
    },
    {
      "cell_type": "code",
      "execution_count": null,
      "metadata": {
        "id": "mtIXaLnaL7bN"
      },
      "outputs": [],
      "source": [
        "preds = pre_trained_model.evaluate(X_test, Y_test)\n",
        "print (\"Loss = \" + str(preds[0]))\n",
        "print (\"Test Accuracy = \" + str(preds[1]))"
      ]
    },
    {
      "cell_type": "markdown",
      "metadata": {
        "id": "Z-lOsWeRL7bN"
      },
      "source": [
        "**Congratulations** on finishing this assignment! You've now implemented a state-of-the-art image classification system! Woo hoo!\n",
        "\n",
        "ResNet50 is a powerful model for image classification when it's trained for an adequate number of iterations. Hopefully, from this point, you can use what you've learned and apply it to your own classification problem to perform state-of-the-art accuracy."
      ]
    },
    {
      "cell_type": "markdown",
      "metadata": {
        "id": "fyo-GsJUL7bN"
      },
      "source": [
        "<font color = 'blue'>\n",
        "\n",
        "**What you should remember**:\n",
        "\n",
        "- Very deep \"plain\" networks don't work in practice because vanishing gradients make them hard to train.  \n",
        "- Skip connections help address the Vanishing Gradient problem. They also make it easy for a ResNet block to learn an identity function.\n",
        "- There are two main types of blocks: The **identity block** and the **convolutional block**.\n",
        "- Very deep Residual Networks are built by stacking these blocks together."
      ]
    },
    {
      "cell_type": "markdown",
      "metadata": {
        "id": "5cDBpey1L7bS"
      },
      "source": [
        "<a name='5'></a>  \n",
        "## 5 - Test on Your Own Image (Optional/Ungraded)"
      ]
    },
    {
      "cell_type": "markdown",
      "metadata": {
        "id": "jZCqrVvpL7bS"
      },
      "source": [
        "If you wish, you can also take a picture of your own hand and see the output of the model. To do this:\n",
        "    1. Click on \"File\" in the upper bar of this notebook, then click \"Open\" to go on your Coursera Hub.\n",
        "    2. Add your image to this Jupyter Notebook's directory, in the \"images\" folder\n",
        "    3. Write your image's name in the following code\n",
        "    4. Run the code and check if the algorithm is right!"
      ]
    },
    {
      "cell_type": "code",
      "execution_count": null,
      "metadata": {
        "id": "t-Ujx72bL7bS"
      },
      "outputs": [],
      "source": [
        "img_path = 'images/my_image.jpg'\n",
        "img = image.load_img(img_path, target_size=(64, 64))\n",
        "x = image.img_to_array(img)\n",
        "x = np.expand_dims(x, axis=0)\n",
        "x = x/255.0\n",
        "print('Input image shape:', x.shape)\n",
        "imshow(img)\n",
        "prediction = pre_trained_model.predict(x)\n",
        "print(\"Class prediction vector [p(0), p(1), p(2), p(3), p(4), p(5)] = \", prediction)\n",
        "print(\"Class:\", np.argmax(prediction))\n"
      ]
    },
    {
      "cell_type": "markdown",
      "metadata": {
        "id": "-X6w-guDL7bS"
      },
      "source": [
        "You can also print a summary of your model by running the following code."
      ]
    },
    {
      "cell_type": "code",
      "execution_count": null,
      "metadata": {
        "scrolled": true,
        "id": "gpVMb0HsL7bS"
      },
      "outputs": [],
      "source": [
        "pre_trained_model.summary()"
      ]
    },
    {
      "cell_type": "markdown",
      "metadata": {
        "id": "oElWoVJ8L7bT"
      },
      "source": [
        "<a name='6'></a>  \n",
        "## 6 - Bibliography\n",
        "\n",
        "This notebook presents the ResNet algorithm from He et al. (2015). The implementation here also took significant inspiration and follows the structure given in the GitHub repository of Francois Chollet:\n",
        "\n",
        "- Kaiming He, Xiangyu Zhang, Shaoqing Ren, Jian Sun - [Deep Residual Learning for Image Recognition (2015)](https://arxiv.org/abs/1512.03385)\n",
        "- Francois Chollet's GitHub repository: https://github.com/fchollet/deep-learning-models/blob/master/resnet50.py\n"
      ]
    },
    {
      "cell_type": "code",
      "execution_count": null,
      "metadata": {
        "id": "6onCIiRnL7bT"
      },
      "outputs": [],
      "source": []
    }
  ],
  "metadata": {
    "celltoolbar": "Raw Cell Format",
    "kernelspec": {
      "display_name": "Python 3",
      "language": "python",
      "name": "python3"
    },
    "language_info": {
      "codemirror_mode": {
        "name": "ipython",
        "version": 3
      },
      "file_extension": ".py",
      "mimetype": "text/x-python",
      "name": "python",
      "nbconvert_exporter": "python",
      "pygments_lexer": "ipython3",
      "version": "3.6.9"
    },
    "colab": {
      "provenance": [],
      "toc_visible": true,
      "include_colab_link": true
    }
  },
  "nbformat": 4,
  "nbformat_minor": 0
}