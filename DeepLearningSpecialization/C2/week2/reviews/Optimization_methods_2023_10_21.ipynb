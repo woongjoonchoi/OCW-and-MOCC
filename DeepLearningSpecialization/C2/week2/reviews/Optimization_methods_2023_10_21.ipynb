{
  "cells": [
    {
      "cell_type": "markdown",
      "metadata": {
        "id": "view-in-github",
        "colab_type": "text"
      },
      "source": [
        "<a href=\"https://colab.research.google.com/github/woongjoonchoi/Coursera_DLS/blob/main/C2/week2/reviews/Optimization_methods_2023_10_21.ipynb\" target=\"_parent\"><img src=\"https://colab.research.google.com/assets/colab-badge.svg\" alt=\"Open In Colab\"/></a>"
      ]
    },
    {
      "cell_type": "markdown",
      "metadata": {
        "id": "By9hLmNymxmp"
      },
      "source": [
        "# Optimization Methods\n",
        "\n",
        "Until now, you've always used Gradient Descent to update the parameters and minimize the cost. In this notebook, you'll gain skills with some more advanced optimization methods that can speed up learning and perhaps even get you to a better final value for the cost function. Having a good optimization algorithm can be the difference between waiting days vs. just a few hours to get a good result.\n",
        "\n",
        "By the end of this notebook, you'll be able to:\n",
        "\n",
        "* Apply optimization methods such as (Stochastic) Gradient Descent, Momentum, RMSProp and Adam\n",
        "* Use random minibatches to accelerate convergence and improve optimization\n",
        "\n",
        "Gradient descent goes \"downhill\" on a cost function $J$. Think of it as trying to do this:\n",
        "<img src=\"images/cost.jpg\" style=\"width:650px;height:300px;\">\n",
        "<caption><center> <u> <b>Figure 1</b> </u>: <b>Minimizing the cost is like finding the lowest point in a hilly landscape</b><br> At each step of the training, you update your parameters following a certain direction to try to get to the lowest possible point. </center></caption>\n",
        "\n",
        "**Notations**: As usual, $\\frac{\\partial J}{\\partial a } = $ `da` for any variable `a`.\n",
        "\n",
        "Let's get started!"
      ]
    },
    {
      "cell_type": "markdown",
      "metadata": {
        "id": "l6qEG1VWmxnH"
      },
      "source": [
        "## Table of Contents\n",
        "- [1- Packages](#1)\n",
        "- [2 - Gradient Descent](#2)\n",
        "    - [Exercise 1 - update_parameters_with_gd](#ex-1)\n",
        "- [3 - Mini-Batch Gradient Descent](#3)\n",
        "    - [Exercise 2 - random_mini_batches](#ex-2)\n",
        "- [4 - Momentum](#4)\n",
        "    - [Exercise 3 - initialize_velocity](#ex-3)\n",
        "    - [Exercise 4 - update_parameters_with_momentum](#ex-4)\n",
        "- [5 - Adam](#5)\n",
        "    - [Exercise 5 - initialize_adam](#ex-5)\n",
        "    - [Exercise 6 - update_parameters_with_adam](#ex-6)\n",
        "- [6 - Model with different Optimization algorithms](#6)\n",
        "    - [6.1 - Mini-Batch Gradient Descent](#6-1)\n",
        "    - [6.2 - Mini-Batch Gradient Descent with Momentum](#6-2)\n",
        "    - [6.3 - Mini-Batch with Adam](#6-3)\n",
        "    - [6.4 - Summary](#6-4)\n",
        "- [7 - Learning Rate Decay and Scheduling](#7)\n",
        "    - [7.1 - Decay on every iteration](#7-1)\n",
        "        - [Exercise 7 - update_lr](#ex-7)\n",
        "    - [7.2 - Fixed Interval Scheduling](#7-2)\n",
        "        - [Exercise 8 - schedule_lr_decay](#ex-8)\n",
        "    - [7.3 - Using Learning Rate Decay for each Optimization Method](#7-3)\n",
        "        - [7.3.1 - Gradient Descent with Learning Rate Decay](#7-3-1)\n",
        "        - [7.3.2 - Gradient Descent with Momentum and Learning Rate Decay](#7-3-2)\n",
        "        - [7.3.3 - Adam with Learning Rate Decay](#7-3-3)\n",
        "    - [7.4 - Achieving similar performance with different methods](#7-4)"
      ]
    },
    {
      "cell_type": "markdown",
      "source": [],
      "metadata": {
        "id": "teZPslUom42V"
      }
    },
    {
      "cell_type": "code",
      "source": [
        "import numpy as np\n",
        "A = A = [[1, 1, 1],\n",
        "     [3, 2, 1],\n",
        "     [2, 1, 2]]\n",
        "print(np.linalg.inv(A))\n"
      ],
      "metadata": {
        "colab": {
          "base_uri": "https://localhost:8080/"
        },
        "id": "Q_atCNPLToGJ",
        "outputId": "54e49ff1-4c9f-4e8d-fa3b-8bc8e11149e3"
      },
      "execution_count": null,
      "outputs": [
        {
          "output_type": "stream",
          "name": "stdout",
          "text": [
            "[[-1.5  0.5  0.5]\n",
            " [ 2.   0.  -1. ]\n",
            " [ 0.5 -0.5  0.5]]\n"
          ]
        }
      ]
    },
    {
      "cell_type": "code",
      "source": [
        "from google.colab import drive\n",
        "drive.mount('/content/drive')"
      ],
      "metadata": {
        "colab": {
          "base_uri": "https://localhost:8080/"
        },
        "id": "0nSRqqm_m9nI",
        "outputId": "e1082c12-c51e-49c6-ce2a-9a87b72b7e58"
      },
      "execution_count": null,
      "outputs": [
        {
          "output_type": "stream",
          "name": "stdout",
          "text": [
            "Mounted at /content/drive\n"
          ]
        }
      ]
    },
    {
      "cell_type": "code",
      "source": [
        "import os\n",
        "os.chdir('/content/drive/MyDrive/Colab Notebooks/DeepLearningSpecialization/C2/week2/W2A1')"
      ],
      "metadata": {
        "id": "7WIwxFq9m5hX"
      },
      "execution_count": null,
      "outputs": []
    },
    {
      "cell_type": "code",
      "source": [
        "!pip install dlai_tools\n",
        "\n"
      ],
      "metadata": {
        "colab": {
          "base_uri": "https://localhost:8080/"
        },
        "id": "J5-3fc3snjhp",
        "outputId": "7449a174-aed9-4e66-b7aa-54ce6ca06a10"
      },
      "execution_count": null,
      "outputs": [
        {
          "output_type": "stream",
          "name": "stdout",
          "text": [
            "Collecting dlai_tools\n",
            "  Downloading dlai_tools-0.5.7-py3-none-any.whl (13 kB)\n",
            "Installing collected packages: dlai_tools\n",
            "Successfully installed dlai_tools-0.5.7\n"
          ]
        }
      ]
    },
    {
      "cell_type": "markdown",
      "metadata": {
        "id": "Re9tvQk2mxnK"
      },
      "source": [
        "<a name='1'></a>\n",
        "## 1- Packages"
      ]
    },
    {
      "cell_type": "code",
      "execution_count": null,
      "metadata": {
        "id": "32gfCcx9mxnM"
      },
      "outputs": [],
      "source": [
        "import numpy as np\n",
        "import matplotlib.pyplot as plt\n",
        "import scipy.io\n",
        "import math\n",
        "import sklearn\n",
        "import sklearn.datasets\n",
        "\n",
        "from opt_utils_v1a import load_params_and_grads, initialize_parameters, forward_propagation, backward_propagation\n",
        "from opt_utils_v1a import compute_cost, predict, predict_dec, plot_decision_boundary, load_dataset\n",
        "from copy import deepcopy\n",
        "from testCases import *\n",
        "from public_tests import *\n",
        "\n",
        "%matplotlib inline\n",
        "plt.rcParams['figure.figsize'] = (7.0, 4.0) # set default size of plots\n",
        "plt.rcParams['image.interpolation'] = 'nearest'\n",
        "plt.rcParams['image.cmap'] = 'gray'\n",
        "\n",
        "%load_ext autoreload\n",
        "%autoreload 2"
      ]
    },
    {
      "cell_type": "markdown",
      "metadata": {
        "id": "14OQVCRHmxnR"
      },
      "source": [
        "<a name='2'></a>\n",
        "## 2 - Gradient Descent\n",
        "\n",
        "A simple optimization method in machine learning is gradient descent (GD). When you take gradient steps with respect to all $m$ examples on each step, it is also called Batch Gradient Descent.\n",
        "\n",
        "<a name='ex-1'></a>\n",
        "### Exercise 1 - update_parameters_with_gd\n",
        "\n",
        "Implement the gradient descent update rule. The  gradient descent rule is, for $l = 1, ..., L$:\n",
        "$$ W^{[l]} = W^{[l]} - \\alpha \\text{ } dW^{[l]} \\tag{1}$$\n",
        "$$ b^{[l]} = b^{[l]} - \\alpha \\text{ } db^{[l]} \\tag{2}$$\n",
        "\n",
        "where L is the number of layers and $\\alpha$ is the learning rate. All parameters should be stored in the `parameters` dictionary. Note that the iterator `l` starts at 1 in the `for` loop as the first parameters are $W^{[1]}$ and $b^{[1]}$."
      ]
    },
    {
      "cell_type": "code",
      "execution_count": null,
      "metadata": {
        "deletable": false,
        "nbgrader": {
          "cell_type": "code",
          "checksum": "3e464eca4306181b7b2d7908c2543cb4",
          "grade": false,
          "grade_id": "cell-7ed1efcf9ec96292",
          "locked": false,
          "schema_version": 3,
          "solution": true,
          "task": false
        },
        "id": "7amCsVa4mxnT"
      },
      "outputs": [],
      "source": [
        "# GRADED FUNCTION: update_parameters_with_gd\n",
        "\n",
        "def update_parameters_with_gd(parameters, grads, learning_rate):\n",
        "    \"\"\"\n",
        "    Update parameters using one step of gradient descent\n",
        "\n",
        "    Arguments:\n",
        "    parameters -- python dictionary containing your parameters to be updated:\n",
        "                    parameters['W' + str(l)] = Wl\n",
        "                    parameters['b' + str(l)] = bl\n",
        "    grads -- python dictionary containing your gradients to update each parameters:\n",
        "                    grads['dW' + str(l)] = dWl\n",
        "                    grads['db' + str(l)] = dbl\n",
        "    learning_rate -- the learning rate, scalar.\n",
        "\n",
        "    Returns:\n",
        "    parameters -- python dictionary containing your updated parameters\n",
        "    \"\"\"\n",
        "    L = len(parameters) // 2 # number of layers in the neural networks\n",
        "\n",
        "    # Update rule for each parameter\n",
        "    for l in range(1, L + 1):\n",
        "        # (approx. 2 lines)\n",
        "        # parameters[\"W\" + str(l)] =\n",
        "        # parameters[\"b\" + str(l)] =\n",
        "        # YOUR CODE STARTS HERE\n",
        "        parameters['W'+str(l)] = parameters['W'+str(l)] - learning_rate * grads['dW'+str(l)]\n",
        "        parameters['b' + str(l)] = parameters['b'+str(l)] - learning_rate * grads['db'+str(l)]\n",
        "\n",
        "        # YOUR CODE ENDS HERE\n",
        "    return parameters"
      ]
    },
    {
      "cell_type": "code",
      "execution_count": null,
      "metadata": {
        "deletable": false,
        "editable": false,
        "nbgrader": {
          "cell_type": "code",
          "checksum": "98daeabded9dffaa6da2915192be14c3",
          "grade": true,
          "grade_id": "cell-01dafb2c412914df",
          "locked": true,
          "points": 10,
          "schema_version": 3,
          "solution": false,
          "task": false
        },
        "colab": {
          "base_uri": "https://localhost:8080/"
        },
        "id": "pVIPtb27mxnW",
        "outputId": "88a8fec0-5267-4228-acd7-5d5a6b9d063d"
      },
      "outputs": [
        {
          "output_type": "stream",
          "name": "stdout",
          "text": [
            "W1 =\n",
            "[[ 1.63535156 -0.62320365 -0.53718766]\n",
            " [-1.07799357  0.85639907 -2.29470142]]\n",
            "b1 =\n",
            "[[ 1.74604067]\n",
            " [-0.75184921]]\n",
            "W2 =\n",
            "[[ 0.32171798 -0.25467393  1.46902454]\n",
            " [-2.05617317 -0.31554548 -0.3756023 ]\n",
            " [ 1.1404819  -1.09976462 -0.1612551 ]]\n",
            "b2 =\n",
            "[[-0.88020257]\n",
            " [ 0.02561572]\n",
            " [ 0.57539477]]\n",
            "\u001b[92mAll test passed\n"
          ]
        }
      ],
      "source": [
        "parameters, grads, learning_rate = update_parameters_with_gd_test_case()\n",
        "learning_rate = 0.01\n",
        "parameters = update_parameters_with_gd(parameters, grads, learning_rate)\n",
        "\n",
        "print(\"W1 =\\n\" + str(parameters[\"W1\"]))\n",
        "print(\"b1 =\\n\" + str(parameters[\"b1\"]))\n",
        "print(\"W2 =\\n\" + str(parameters[\"W2\"]))\n",
        "print(\"b2 =\\n\" + str(parameters[\"b2\"]))\n",
        "\n",
        "update_parameters_with_gd_test(update_parameters_with_gd)"
      ]
    },
    {
      "cell_type": "markdown",
      "metadata": {
        "id": "X_tGswIFmxna"
      },
      "source": [
        "A variant of this is Stochastic Gradient Descent (SGD), which is equivalent to mini-batch gradient descent, where each mini-batch has just 1 example. The update rule that you have just implemented does not change. What changes is that you would be computing gradients on just one training example at a time, rather than on the whole training set. The code examples below illustrate the difference between stochastic gradient descent and (batch) gradient descent.\n",
        "\n",
        "- **(Batch) Gradient Descent**:\n",
        "\n",
        "``` python\n",
        "X = data_input\n",
        "Y = labels\n",
        "parameters = initialize_parameters(layers_dims)\n",
        "for i in range(0, num_iterations):\n",
        "    # Forward propagation\n",
        "    a, caches = forward_propagation(X, parameters)\n",
        "    # Compute cost.\n",
        "    cost += compute_cost(a, Y)\n",
        "    # Backward propagation.\n",
        "    grads = backward_propagation(a, caches, parameters)\n",
        "    # Update parameters.\n",
        "    parameters = update_parameters(parameters, grads)\n",
        "        \n",
        "```\n",
        "\n",
        "- **Stochastic Gradient Descent**:\n",
        "\n",
        "```python\n",
        "X = data_input\n",
        "Y = labels\n",
        "parameters = initialize_parameters(layers_dims)\n",
        "for i in range(0, num_iterations):\n",
        "    for j in range(0, m):\n",
        "        # Forward propagation\n",
        "        a, caches = forward_propagation(X[:,j], parameters)\n",
        "        # Compute cost\n",
        "        cost += compute_cost(a, Y[:,j])\n",
        "        # Backward propagation\n",
        "        grads = backward_propagation(a, caches, parameters)\n",
        "        # Update parameters.\n",
        "        parameters = update_parameters(parameters, grads)\n",
        "```\n"
      ]
    },
    {
      "cell_type": "markdown",
      "metadata": {
        "id": "UQZh0KQxmxnd"
      },
      "source": [
        "In Stochastic Gradient Descent, you use only 1 training example before updating the gradients. When the training set is large, SGD can be faster. But the parameters will \"oscillate\" toward the minimum rather than converge smoothly. Here's what that looks like:\n",
        "\n",
        "<img src=\"images/kiank_sgd.png\" style=\"width:750px;height:250px;\">\n",
        "<caption><center> <u> <font color='purple'> <b>Figure 1</b> </u><font color='purple'>  : <b>SGD vs GD</b><br> \"+\" denotes a minimum of the cost. SGD leads to many oscillations to reach convergence, but each step is a lot faster to compute for SGD than it is for GD, as it uses only one training example (vs. the whole batch for GD). </center></caption>\n",
        "\n",
        "**Note** also that implementing SGD requires 3 for-loops in total:\n",
        "1. Over the number of iterations\n",
        "2. Over the $m$ training examples\n",
        "3. Over the layers (to update all parameters, from $(W^{[1]},b^{[1]})$ to $(W^{[L]},b^{[L]})$)\n",
        "\n",
        "In practice, you'll often get faster results if you don't use the entire training set, or just one training example, to perform each update. Mini-batch gradient descent uses an intermediate number of examples for each step. With mini-batch gradient descent, you loop over the mini-batches instead of looping over individual training examples.\n",
        "\n",
        "<img src=\"images/kiank_minibatch.png\" style=\"width:750px;height:250px;\">\n",
        "<caption><center> <u> <font color='purple'> <b>Figure 2</b> </u>: <font color='purple'>  <b>SGD vs Mini-Batch GD</b><br> \"+\" denotes a minimum of the cost. Using mini-batches in your optimization algorithm often leads to faster optimization. </center></caption>"
      ]
    },
    {
      "cell_type": "markdown",
      "metadata": {
        "id": "kBBJLKuOmxnh"
      },
      "source": [
        "<a name='3'></a>\n",
        "## 3 - Mini-Batch Gradient Descent\n",
        "\n",
        "Now you'll build some mini-batches from the training set (X, Y).\n",
        "\n",
        "There are two steps:\n",
        "- **Shuffle**: Create a shuffled version of the training set (X, Y) as shown below. Each column of X and Y represents a training example. Note that the random shuffling is done synchronously between X and Y. Such that after the shuffling the $i^{th}$ column of X is the example corresponding to the $i^{th}$ label in Y. The shuffling step ensures that examples will be split randomly into different mini-batches.\n",
        "\n",
        "<img src=\"images/kiank_shuffle.png\" style=\"width:550px;height:300px;\">\n",
        "\n",
        "- **Partition**: Partition the shuffled (X, Y) into mini-batches of size `mini_batch_size` (here 64). Note that the number of training examples is not always divisible by `mini_batch_size`. The last mini batch might be smaller, but you don't need to worry about this. When the final mini-batch is smaller than the full `mini_batch_size`, it will look like this:\n",
        "\n",
        "<img src=\"images/kiank_partition.png\" style=\"width:550px;height:300px;\">\n",
        "\n",
        "<a name='ex-2'></a>\n",
        "### Exercise 2 - random_mini_batches\n",
        "\n",
        "Implement `random_mini_batches`. The shuffling part has already been coded for you! To help with the partitioning step, you've been provided the following code that selects the indexes for the $1^{st}$ and $2^{nd}$ mini-batches:\n",
        "```python\n",
        "first_mini_batch_X = shuffled_X[:, 0 : mini_batch_size]\n",
        "second_mini_batch_X = shuffled_X[:, mini_batch_size : 2 * mini_batch_size]\n",
        "...\n",
        "```\n",
        "\n",
        "Note that the last mini-batch might end up smaller than `mini_batch_size=64`. Let $\\lfloor s \\rfloor$ represents $s$ rounded down to the nearest integer (this is `math.floor(s)` in Python). If the total number of examples is not a multiple of `mini_batch_size=64` then there will be $\\left\\lfloor \\frac{m}{mini\\_batch\\_size}\\right\\rfloor$ mini-batches with a full 64 examples, and the number of examples in the final mini-batch will be $\\left(m-mini_\\_batch_\\_size \\times \\left\\lfloor \\frac{m}{mini\\_batch\\_size}\\right\\rfloor\\right)$.\n",
        "\n",
        "**Hint:**\n",
        "\n",
        "$$mini\\_batch\\_X = shuffled\\_X[:, i : j]$$\n",
        "\n",
        "Think of a way in which you can use the for loop variable `k` help you increment `i` and `j` in multiples of mini_batch_size.\n",
        "\n",
        "As an example, if you want to increment in multiples of 3, you could the following:\n",
        "\n",
        "```python\n",
        "n = 3\n",
        "for k in (0 , 5):\n",
        "    print(k * n)\n",
        "```"
      ]
    },
    {
      "cell_type": "code",
      "execution_count": null,
      "metadata": {
        "deletable": false,
        "nbgrader": {
          "cell_type": "code",
          "checksum": "e276742d3477f18007b3d340b0039271",
          "grade": false,
          "grade_id": "cell-a693afffedab4203",
          "locked": false,
          "schema_version": 3,
          "solution": true,
          "task": false
        },
        "id": "sCeLwKgwmxnk"
      },
      "outputs": [],
      "source": [
        "# GRADED FUNCTION: random_mini_batches\n",
        "\n",
        "def random_mini_batches(X, Y, mini_batch_size = 64, seed = 0):\n",
        "    \"\"\"\n",
        "    Creates a list of random minibatches from (X, Y)\n",
        "\n",
        "    Arguments:\n",
        "    X -- input data, of shape (input size, number of examples)\n",
        "    Y -- true \"label\" vector (1 for blue dot / 0 for red dot), of shape (1, number of examples)\n",
        "    mini_batch_size -- size of the mini-batches, integer\n",
        "\n",
        "    Returns:\n",
        "    mini_batches -- list of synchronous (mini_batch_X, mini_batch_Y)\n",
        "    \"\"\"\n",
        "\n",
        "    np.random.seed(seed)            # To make your \"random\" minibatches the same as ours\n",
        "    m = X.shape[1]                  # number of training examples\n",
        "    mini_batches = []\n",
        "\n",
        "    # Step 1: Shuffle (X, Y)\n",
        "    permutation = list(np.random.permutation(m))\n",
        "    shuffled_X = X[:, permutation]\n",
        "    shuffled_Y = Y[:, permutation].reshape((1, m))\n",
        "\n",
        "    inc = mini_batch_size\n",
        "\n",
        "    # Step 2 - Partition (shuffled_X, shuffled_Y).\n",
        "    # Cases with a complete mini batch size only i.e each of 64 examples.\n",
        "    num_complete_minibatches = math.floor(m / mini_batch_size) # number of mini batches of size mini_batch_size in your partitionning\n",
        "    for k in range(0, num_complete_minibatches):\n",
        "        # (approx. 2 lines)\n",
        "        # mini_batch_X =\n",
        "        # mini_batch_Y =\n",
        "        # YOUR CODE STARTS HERE\n",
        "\n",
        "\n",
        "        # YOUR CODE ENDS HERE\n",
        "\n",
        "\n",
        "    # For handling the end case (last mini-batch < mini_batch_size i.e less than 64)\n",
        "    if m % mini_batch_size != 0:\n",
        "        #(approx. 2 lines)\n",
        "        # mini_batch_X =\n",
        "        # mini_batch_Y =\n",
        "        # YOUR CODE STARTS HERE\n",
        "\n",
        "        # YOUR CODE ENDS HERE\n",
        "\n",
        "\n",
        "    return mini_batches"
      ]
    },
    {
      "cell_type": "markdown",
      "source": [
        "Q : def random_mini_batches(X,Y,mini_batch_size = 64 , seed = 0) :\n",
        "    \"\"\"\n",
        "    Creates a list of random minibatches from (X, Y)\n",
        "    \n",
        "    Arguments:\n",
        "    X -- input data, of shape (input size, number of examples)\n",
        "    Y -- true \"label\" vector (1 for blue dot / 0 for red dot), of shape (1, number of examples)\n",
        "    mini_batch_size -- size of the mini-batches, integer\n",
        "    \n",
        "    Returns:\n",
        "    mini_batches -- list of synchronous (mini_batch_X, mini_batch_Y)\n",
        "    \"\"\"\n",
        "      return mini_batches\n",
        "\n",
        "\n",
        "를 작성하시오."
      ],
      "metadata": {
        "id": "c-yeCLMlPc1s"
      }
    },
    {
      "cell_type": "code",
      "source": [
        "def random_mini_batches(X , Y , mini_batch_size = 64 , seed = 0) :\n",
        "    \"\"\"\n",
        "    Creates a list of random minibatches from (X, Y)\n",
        "\n",
        "    Arguments:\n",
        "    X -- input data, of shape (input size, number of examples)\n",
        "    Y -- true \"label\" vector (1 for blue dot / 0 for red dot), of shape (1, number of examples)\n",
        "    mini_batch_size -- size of the mini-batches, integer\n",
        "\n",
        "    Returns:\n",
        "    mini_batches -- list of synchronous (mini_batch_X, mini_batch_Y)\n",
        "    \"\"\"\n",
        "    np.random.seed(seed)\n",
        "    num_examples = X.shape[1]\n",
        "    nx = X.shape[0]\n",
        "    random_index = list(np.random.permutation(num_examples)) # why conver nparray to list??\n",
        "\n",
        "\n",
        "\n",
        "\n",
        "    shuffled_X = []\n",
        "    shuffled_Y = []\n",
        "    mini_batch=[]\n",
        "    mini_batches=[]\n",
        "    iter_nums = math.floor(num_examples/mini_batch_size)\n",
        "\n",
        "\n",
        "    for i in range(iter_nums) :\n",
        "      shuffled_X  =np.empty((nx,mini_batch_size))\n",
        "      shuffled_Y = np.empty((1,mini_batch_size))\n",
        "      for k,j in enumerate(random_index[i * mini_batch_size:(i+1) * mini_batch_size]) :\n",
        "\n",
        "        shuffled_X[:,k] = X[:,j]\n",
        "        shuffled_Y[:,k] = Y[:,j]\n",
        "      mini_batch.append(shuffled_X)\n",
        "      mini_batch.append(shuffled_Y)\n",
        "      mini_batches.append(mini_batch)\n",
        "      mini_batch=[]\n",
        "    shuffled_X  =np.empty((nx,num_examples - iter_nums * mini_batch_size))\n",
        "    shuffled_Y = np.empty((1,num_examples - iter_nums * mini_batch_size))\n",
        "\n",
        "    for  k ,j in enumerate(random_index[iter_nums * mini_batch_size : ]) :\n",
        "        # print(k)\n",
        "        shuffled_X[:,k]  = X[:,j]\n",
        "        shuffled_Y[:,k] =Y[:,j]\n",
        "\n",
        "    mini_batch.append(shuffled_X)\n",
        "    mini_batch.append(shuffled_Y)\n",
        "    # print(f'mini_batch y shape , : {mini_batch[1].shape}')\n",
        "    mini_batches.append(mini_batch)\n",
        "\n",
        "    return mini_batches\n"
      ],
      "metadata": {
        "id": "ZDkFu7AIPTF8"
      },
      "execution_count": null,
      "outputs": []
    },
    {
      "cell_type": "code",
      "execution_count": null,
      "metadata": {
        "id": "naI6YS0smxnn",
        "colab": {
          "base_uri": "https://localhost:8080/"
        },
        "outputId": "45baa85a-3c33-4c73-a7b2-202549d6f110"
      },
      "outputs": [
        {
          "output_type": "stream",
          "name": "stdout",
          "text": [
            "\u001b[92mAll test passed!\n"
          ]
        }
      ],
      "source": [
        "np.random.seed(1)\n",
        "mini_batch_size = 64\n",
        "nx = 12288\n",
        "m = 148\n",
        "X = np.array([x for x in range(nx * m)]).reshape((m, nx)).T\n",
        "Y = np.random.randn(1, m) < 0.5\n",
        "\n",
        "mini_batches = random_mini_batches(X, Y, mini_batch_size)\n",
        "n_batches = len(mini_batches)\n",
        "\n",
        "assert n_batches == math.ceil(m / mini_batch_size), f\"Wrong number of mini batches. {n_batches} != {math.ceil(m / mini_batch_size)}\"\n",
        "for k in range(n_batches - 1):\n",
        "    assert mini_batches[k][0].shape == (nx, mini_batch_size), f\"Wrong shape in {k} mini batch for X  {mini_batches[k][0].shape}\"\n",
        "    assert mini_batches[k][1].shape == (1, mini_batch_size), f\"Wrong shape in {k} mini batch for Y {mini_batches[k][1].shape}\"\n",
        "    assert np.sum(np.sum(mini_batches[k][0] - mini_batches[k][0][0], axis=0)) == ((nx * (nx - 1) / 2 ) * mini_batch_size), \"Wrong values. It happens if the order of X rows(features) changes\"\n",
        "if ( m % mini_batch_size > 0):\n",
        "    assert mini_batches[n_batches - 1][0].shape == (nx, m % mini_batch_size), f\"Wrong shape in the last minibatch. {mini_batches[n_batches - 1][0].shape} != {(nx, m % mini_batch_size)}\"\n",
        "\n",
        "assert np.allclose(mini_batches[0][0][0][0:3], [294912,  86016, 454656]), \"Wrong values. Check the indexes used to form the mini batches\"\n",
        "assert np.allclose(mini_batches[-1][0][-1][0:3], [1425407, 1769471, 897023]), \"Wrong values. Check the indexes used to form the mini batches\"\n",
        "\n",
        "print(\"\\033[92mAll test passed!\")"
      ]
    },
    {
      "cell_type": "code",
      "execution_count": null,
      "metadata": {
        "deletable": false,
        "editable": false,
        "nbgrader": {
          "cell_type": "code",
          "checksum": "c9a50964c5ab5622435c64a4f7d9e44a",
          "grade": true,
          "grade_id": "cell-9bd796497095573b",
          "locked": true,
          "points": 10,
          "schema_version": 3,
          "solution": false,
          "task": false
        },
        "id": "5CyeUTuimxno",
        "colab": {
          "base_uri": "https://localhost:8080/"
        },
        "outputId": "86d1872c-d205-4435-c199-93a535b86c75"
      },
      "outputs": [
        {
          "output_type": "stream",
          "name": "stdout",
          "text": [
            "shape of the 1st mini_batch_X: (12288, 64)\n",
            "shape of the 2nd mini_batch_X: (12288, 64)\n",
            "shape of the 3rd mini_batch_X: (12288, 20)\n",
            "shape of the 1st mini_batch_Y: (1, 64)\n",
            "shape of the 2nd mini_batch_Y: (1, 64)\n",
            "shape of the 3rd mini_batch_Y: (1, 20)\n",
            "mini batch sanity check: [ 0.90085595 -0.7612069   0.2344157 ]\n",
            "\u001b[92m All tests passed.\n"
          ]
        }
      ],
      "source": [
        "t_X, t_Y, mini_batch_size = random_mini_batches_test_case()\n",
        "mini_batches = random_mini_batches(t_X, t_Y, mini_batch_size)\n",
        "\n",
        "print (\"shape of the 1st mini_batch_X: \" + str(mini_batches[0][0].shape))\n",
        "print (\"shape of the 2nd mini_batch_X: \" + str(mini_batches[1][0].shape))\n",
        "print (\"shape of the 3rd mini_batch_X: \" + str(mini_batches[2][0].shape))\n",
        "print (\"shape of the 1st mini_batch_Y: \" + str(mini_batches[0][1].shape))\n",
        "print (\"shape of the 2nd mini_batch_Y: \" + str(mini_batches[1][1].shape))\n",
        "print (\"shape of the 3rd mini_batch_Y: \" + str(mini_batches[2][1].shape))\n",
        "print (\"mini batch sanity check: \" + str(mini_batches[0][0][0][0:3]))\n",
        "\n",
        "random_mini_batches_test(random_mini_batches)"
      ]
    },
    {
      "cell_type": "markdown",
      "metadata": {
        "id": "Wd1omOfdmxnq"
      },
      "source": [
        "<font color='blue'>\n",
        "    \n",
        "**What you should remember**:\n",
        "- Shuffling and Partitioning are the two steps required to build mini-batches\n",
        "- Powers of two are often chosen to be the mini-batch size, e.g., 16, 32, 64, 128.\n",
        "    "
      ]
    },
    {
      "cell_type": "markdown",
      "metadata": {
        "id": "B6Jmf988mxnr"
      },
      "source": [
        "<a name='4'></a>\n",
        "## 4 - Momentum\n",
        "\n",
        "Because mini-batch gradient descent makes a parameter update after seeing just a subset of examples, the direction of the update has some variance, and so the path taken by mini-batch gradient descent will \"oscillate\" toward convergence. Using momentum can reduce these oscillations.\n",
        "\n",
        "Momentum takes into account the past gradients to smooth out the update. The 'direction' of the previous gradients is stored in the variable $v$. Formally, this will be the exponentially weighted average of the gradient on previous steps. You can also think of $v$ as the \"velocity\" of a ball rolling downhill, building up speed (and momentum) according to the direction of the gradient/slope of the hill.\n",
        "\n",
        "<img src=\"images/opt_momentum.png\" style=\"width:400px;height:250px;\">\n",
        "<caption><center> <u><font color='purple'><b>Figure 3</b> </u><font color='purple'>: The red arrows show the direction taken by one step of mini-batch gradient descent with momentum. The blue points show the direction of the gradient (with respect to the current mini-batch) on each step. Rather than just following the gradient, the gradient is allowed to influence $v$ and then take a step in the direction of $v$.<br> <font color='black'> </center>\n"
      ]
    },
    {
      "cell_type": "markdown",
      "metadata": {
        "id": "DvtxGikWmxns"
      },
      "source": [
        "<a name='ex-3'></a>    \n",
        "### Exercise 3 - initialize_velocity\n",
        "Initialize the velocity. The velocity, $v$, is a python dictionary that needs to be initialized with arrays of zeros. Its keys are the same as those in the `grads` dictionary, that is:\n",
        "for $l =1,...,L$:\n",
        "```python\n",
        "v[\"dW\" + str(l)] = ... #(numpy array of zeros with the same shape as parameters[\"W\" + str(l)])\n",
        "v[\"db\" + str(l)] = ... #(numpy array of zeros with the same shape as parameters[\"b\" + str(l)])\n",
        "```\n",
        "**Note** that the iterator l starts at 1 in the for loop as the first parameters are v[\"dW1\"] and v[\"db1\"] (that's a \"one\" on the superscript)."
      ]
    },
    {
      "cell_type": "code",
      "execution_count": null,
      "metadata": {
        "deletable": false,
        "nbgrader": {
          "cell_type": "code",
          "checksum": "73f98ff4232b1eb6ddd045f4a052d495",
          "grade": false,
          "grade_id": "cell-667cf6695880506a",
          "locked": false,
          "schema_version": 3,
          "solution": true,
          "task": false
        },
        "id": "hJn4RS5emxnt"
      },
      "outputs": [],
      "source": [
        "# GRADED FUNCTION: initialize_velocity\n",
        "\n",
        "def initialize_velocity(parameters):\n",
        "    \"\"\"\n",
        "    Initializes the velocity as a python dictionary with:\n",
        "                - keys: \"dW1\", \"db1\", ..., \"dWL\", \"dbL\"\n",
        "                - values: numpy arrays of zeros of the same shape as the corresponding gradients/parameters.\n",
        "    Arguments:\n",
        "    parameters -- python dictionary containing your parameters.\n",
        "                    parameters['W' + str(l)] = Wl\n",
        "                    parameters['b' + str(l)] = bl\n",
        "\n",
        "    Returns:\n",
        "    v -- python dictionary containing the current velocity.\n",
        "                    v['dW' + str(l)] = velocity of dWl\n",
        "                    v['db' + str(l)] = velocity of dbl\n",
        "    \"\"\"\n",
        "\n",
        "    L = len(parameters) // 2 # number of layers in the neural networks\n",
        "    v = {}\n",
        "    # print(parameters.keys())\n",
        "    # Initialize velocity\n",
        "    for l in range(1, L + 1):\n",
        "        # (approx. 2 lines)\n",
        "        # v[\"dW\" + str(l)] =\n",
        "        # v[\"db\" + str(l)] =\n",
        "        # YOUR CODE STARTS HERE\n",
        "        v[\"dW\" + str(l)] = np.zeros(parameters['W' + str(l)].shape)\n",
        "        v[\"db\" + str(l)] = np.zeros(parameters['b' + str(l)].shape)\n",
        "\n",
        "        # YOUR CODE ENDS HERE\n",
        "\n",
        "    return v"
      ]
    },
    {
      "cell_type": "code",
      "execution_count": null,
      "metadata": {
        "deletable": false,
        "editable": false,
        "nbgrader": {
          "cell_type": "code",
          "checksum": "09a811f004e96833a7e6cc47a55de653",
          "grade": true,
          "grade_id": "cell-c129a0130218c80f",
          "locked": true,
          "points": 10,
          "schema_version": 3,
          "solution": false,
          "task": false
        },
        "id": "bDNXxpRbmxnu",
        "colab": {
          "base_uri": "https://localhost:8080/"
        },
        "outputId": "91349291-e95a-4286-9763-fee6c56dc5d2"
      },
      "outputs": [
        {
          "output_type": "stream",
          "name": "stdout",
          "text": [
            "v[\"dW1\"] =\n",
            "[[0. 0. 0.]\n",
            " [0. 0. 0.]]\n",
            "v[\"db1\"] =\n",
            "[[0.]\n",
            " [0.]]\n",
            "v[\"dW2\"] =\n",
            "[[0. 0. 0.]\n",
            " [0. 0. 0.]\n",
            " [0. 0. 0.]]\n",
            "v[\"db2\"] =\n",
            "[[0.]\n",
            " [0.]\n",
            " [0.]]\n",
            "\u001b[92m All tests passed.\n"
          ]
        }
      ],
      "source": [
        "parameters = initialize_velocity_test_case()\n",
        "\n",
        "v = initialize_velocity(parameters)\n",
        "print(\"v[\\\"dW1\\\"] =\\n\" + str(v[\"dW1\"]))\n",
        "print(\"v[\\\"db1\\\"] =\\n\" + str(v[\"db1\"]))\n",
        "print(\"v[\\\"dW2\\\"] =\\n\" + str(v[\"dW2\"]))\n",
        "print(\"v[\\\"db2\\\"] =\\n\" + str(v[\"db2\"]))\n",
        "\n",
        "initialize_velocity_test(initialize_velocity)"
      ]
    },
    {
      "cell_type": "markdown",
      "metadata": {
        "id": "frIE3RIVmxnv"
      },
      "source": [
        "<a name='ex-4'></a>   \n",
        "### Exercise 4 - update_parameters_with_momentum\n",
        "\n",
        "Now, implement the parameters update with momentum. The momentum update rule is, for $l = 1, ..., L$:\n",
        "\n",
        "$$ \\begin{cases}\n",
        "v_{dW^{[l]}} = \\beta v_{dW^{[l]}} + (1 - \\beta) dW^{[l]} \\\\\n",
        "W^{[l]} = W^{[l]} - \\alpha v_{dW^{[l]}}\n",
        "\\end{cases}\\tag{3}$$\n",
        "\n",
        "$$\\begin{cases}\n",
        "v_{db^{[l]}} = \\beta v_{db^{[l]}} + (1 - \\beta) db^{[l]} \\\\\n",
        "b^{[l]} = b^{[l]} - \\alpha v_{db^{[l]}}\n",
        "\\end{cases}\\tag{4}$$\n",
        "\n",
        "where L is the number of layers, $\\beta$ is the momentum and $\\alpha$ is the learning rate. All parameters should be stored in the `parameters` dictionary.  Note that the iterator `l` starts at 1 in the `for` loop as the first parameters are $W^{[1]}$ and $b^{[1]}$ (that's a \"one\" on the superscript)."
      ]
    },
    {
      "cell_type": "code",
      "source": [
        "# GRADED FUNCTION: update_parameters_with_momentum\n",
        "\n",
        "def update_parameters_with_momentum(parameters, grads, v, beta, learning_rate):\n",
        "    \"\"\"\n",
        "    Update parameters using Momentum\n",
        "\n",
        "    Arguments:\n",
        "    parameters -- python dictionary containing your parameters:\n",
        "                    parameters['W' + str(l)] = Wl\n",
        "                    parameters['b' + str(l)] = bl\n",
        "    grads -- python dictionary containing your gradients for each parameters:\n",
        "                    grads['dW' + str(l)] = dWl\n",
        "                    grads['db' + str(l)] = dbl\n",
        "    v -- python dictionary containing the current velocity:\n",
        "                    v['dW' + str(l)] = ...\n",
        "                    v['db' + str(l)] = ...\n",
        "    beta -- the momentum hyperparameter, scalar\n",
        "    learning_rate -- the learning rate, scalar\n",
        "\n",
        "    Returns:\n",
        "    parameters -- python dictionary containing your updated parameters\n",
        "    v -- python dictionary containing your updated velocities\n",
        "    \"\"\"\n",
        "    # print(grads.keys())\n",
        "    # print(v.keys())\n",
        "    for l in range(1, len(parameters)//2 + 1) :\n",
        "        v['dW' + str(l)] = beta * v['dW'+ str(l)] + (1-beta) * grads['dW' + str(l)]\n",
        "        v['db' + str(l)] = beta * v['db' + str(l)] + (1-beta) *grads['db' + str(l)]\n",
        "        parameters['W' + str(l)] -= learning_rate * v['dW' + str(l)]\n",
        "        parameters['b' + str(l)] -= learning_rate * v['db' + str(l)]\n",
        "\n",
        "\n",
        "\n",
        "    return parameters ,v"
      ],
      "metadata": {
        "id": "Ht9uZ__XgiWt"
      },
      "execution_count": null,
      "outputs": []
    },
    {
      "cell_type": "code",
      "execution_count": null,
      "metadata": {
        "deletable": false,
        "nbgrader": {
          "cell_type": "code",
          "checksum": "09ff6600367fba5cb96155b80a2b3688",
          "grade": false,
          "grade_id": "cell-a5f80aecc1d4e020",
          "locked": false,
          "schema_version": 3,
          "solution": true,
          "task": false
        },
        "id": "-ptXXaL_mxnv",
        "colab": {
          "base_uri": "https://localhost:8080/",
          "height": 136
        },
        "outputId": "ca2c0761-80a6-49da-a8d5-ab151fd3902b"
      },
      "outputs": [
        {
          "output_type": "error",
          "ename": "IndentationError",
          "evalue": "ignored",
          "traceback": [
            "\u001b[0;36m  File \u001b[0;32m\"<ipython-input-14-14f370b61754>\"\u001b[0;36m, line \u001b[0;32m42\u001b[0m\n\u001b[0;31m    return parameters, v\u001b[0m\n\u001b[0m         ^\u001b[0m\n\u001b[0;31mIndentationError\u001b[0m\u001b[0;31m:\u001b[0m expected an indented block\n"
          ]
        }
      ],
      "source": [
        "# GRADED FUNCTION: update_parameters_with_momentum\n",
        "\n",
        "def update_parameters_with_momentum(parameters, grads, v, beta, learning_rate):\n",
        "    \"\"\"\n",
        "    Update parameters using Momentum\n",
        "\n",
        "    Arguments:\n",
        "    parameters -- python dictionary containing your parameters:\n",
        "                    parameters['W' + str(l)] = Wl\n",
        "                    parameters['b' + str(l)] = bl\n",
        "    grads -- python dictionary containing your gradients for each parameters:\n",
        "                    grads['dW' + str(l)] = dWl\n",
        "                    grads['db' + str(l)] = dbl\n",
        "    v -- python dictionary containing the current velocity:\n",
        "                    v['dW' + str(l)] = ...\n",
        "                    v['db' + str(l)] = ...\n",
        "    beta -- the momentum hyperparameter, scalar\n",
        "    learning_rate -- the learning rate, scalar\n",
        "\n",
        "    Returns:\n",
        "    parameters -- python dictionary containing your updated parameters\n",
        "    v -- python dictionary containing your updated velocities\n",
        "    \"\"\"\n",
        "\n",
        "    L = len(parameters) // 2 # number of layers in the neural networks\n",
        "\n",
        "    # Momentum update for each parameter\n",
        "    for l in range(1, L + 1):\n",
        "\n",
        "        # (approx. 4 lines)\n",
        "        # compute velocities\n",
        "        # v[\"dW\" + str(l)] = ...\n",
        "        # v[\"db\" + str(l)] = ...\n",
        "        # update parameters\n",
        "        # parameters[\"W\" + str(l)] = ...\n",
        "        # parameters[\"b\" + str(l)] = ...\n",
        "        # YOUR CODE STARTS HERE\n",
        "\n",
        "\n",
        "        # YOUR CODE ENDS HERE\n",
        "\n",
        "    return parameters, v"
      ]
    },
    {
      "cell_type": "code",
      "execution_count": null,
      "metadata": {
        "deletable": false,
        "editable": false,
        "nbgrader": {
          "cell_type": "code",
          "checksum": "01b9bf272f5f4d7ed4e26ca3fb956b9b",
          "grade": true,
          "grade_id": "cell-4c7cb001c56beb5d",
          "locked": true,
          "points": 10,
          "schema_version": 3,
          "solution": false,
          "task": false
        },
        "id": "rXGK26sdmxnw",
        "colab": {
          "base_uri": "https://localhost:8080/"
        },
        "outputId": "04971a95-4edd-42e8-817a-b9f980dfe689"
      },
      "outputs": [
        {
          "output_type": "stream",
          "name": "stdout",
          "text": [
            "W1 = \n",
            "[[ 1.62544598 -0.61290114 -0.52907334]\n",
            " [-1.07347112  0.86450677 -2.30085497]]\n",
            "b1 = \n",
            "[[ 1.74493465]\n",
            " [-0.76027113]]\n",
            "W2 = \n",
            "[[ 0.31930698 -0.24990073  1.4627996 ]\n",
            " [-2.05974396 -0.32173003 -0.38320915]\n",
            " [ 1.13444069 -1.0998786  -0.1713109 ]]\n",
            "b2 = \n",
            "[[-0.87809283]\n",
            " [ 0.04055394]\n",
            " [ 0.58207317]]\n",
            "v[\"dW1\"] = \n",
            "[[-0.11006192  0.11447237  0.09015907]\n",
            " [ 0.05024943  0.09008559 -0.06837279]]\n",
            "v[\"db1\"] = \n",
            "[[-0.01228902]\n",
            " [-0.09357694]]\n",
            "v[\"dW2\"] = \n",
            "[[-0.02678881  0.05303555 -0.06916608]\n",
            " [-0.03967535 -0.06871727 -0.08452056]\n",
            " [-0.06712461 -0.00126646 -0.11173103]]\n",
            "v[\"db2\"] = v[[0.02344157]\n",
            " [0.16598022]\n",
            " [0.07420442]]\n",
            "\u001b[92m All tests passed.\n"
          ]
        }
      ],
      "source": [
        "parameters, grads, v = update_parameters_with_momentum_test_case()\n",
        "\n",
        "parameters, v = update_parameters_with_momentum(parameters, grads, v, beta = 0.9, learning_rate = 0.01)\n",
        "print(\"W1 = \\n\" + str(parameters[\"W1\"]))\n",
        "print(\"b1 = \\n\" + str(parameters[\"b1\"]))\n",
        "print(\"W2 = \\n\" + str(parameters[\"W2\"]))\n",
        "print(\"b2 = \\n\" + str(parameters[\"b2\"]))\n",
        "print(\"v[\\\"dW1\\\"] = \\n\" + str(v[\"dW1\"]))\n",
        "print(\"v[\\\"db1\\\"] = \\n\" + str(v[\"db1\"]))\n",
        "print(\"v[\\\"dW2\\\"] = \\n\" + str(v[\"dW2\"]))\n",
        "print(\"v[\\\"db2\\\"] = v\" + str(v[\"db2\"]))\n",
        "\n",
        "update_parameters_with_momentum_test(update_parameters_with_momentum)"
      ]
    },
    {
      "cell_type": "markdown",
      "metadata": {
        "id": "K42j5pg3mxnx"
      },
      "source": [
        "**Note that**:\n",
        "- The velocity is initialized with zeros. So the algorithm will take a few iterations to \"build up\" velocity and start to take bigger steps.\n",
        "- If $\\beta = 0$, then this just becomes standard gradient descent without momentum.\n",
        "\n",
        "**How do you choose $\\beta$?**\n",
        "\n",
        "- The larger the momentum $\\beta$ is, the smoother the update, because it takes the past gradients into account more. But if $\\beta$ is too big, it could also smooth out the updates too much.\n",
        "- Common values for $\\beta$ range from 0.8 to 0.999. If you don't feel inclined to tune this, $\\beta = 0.9$ is often a reasonable default.\n",
        "- Tuning the optimal $\\beta$ for your model might require trying several values to see what works best in terms of reducing the value of the cost function $J$."
      ]
    },
    {
      "cell_type": "markdown",
      "metadata": {
        "id": "cDDyQkHtmxnx"
      },
      "source": [
        "<font color='blue'>\n",
        "    \n",
        "**What you should remember**:\n",
        "- Momentum takes past gradients into account to smooth out the steps of gradient descent. It can be applied with batch gradient descent, mini-batch gradient descent or stochastic gradient descent.\n",
        "- You have to tune a momentum hyperparameter $\\beta$ and a learning rate $\\alpha$."
      ]
    },
    {
      "cell_type": "markdown",
      "metadata": {
        "id": "RhI8_7d0mxny"
      },
      "source": [
        "<a name='5'></a>   \n",
        "## 5 - Adam\n",
        "\n",
        "Adam is one of the most effective optimization algorithms for training neural networks. It combines ideas from RMSProp (described in lecture) and Momentum.\n",
        "\n",
        "**How does Adam work?**\n",
        "1. It calculates an exponentially weighted average of past gradients, and stores it in variables $v$ (before bias correction) and $v^{corrected}$ (with bias correction).\n",
        "2. It calculates an exponentially weighted average of the squares of the past gradients, and  stores it in variables $s$ (before bias correction) and $s^{corrected}$ (with bias correction).\n",
        "3. It updates parameters in a direction based on combining information from \"1\" and \"2\".\n",
        "\n",
        "The update rule is, for $l = 1, ..., L$:\n",
        "\n",
        "$$\\begin{cases}\n",
        "v_{dW^{[l]}} = \\beta_1 v_{dW^{[l]}} + (1 - \\beta_1) \\frac{\\partial \\mathcal{J} }{ \\partial W^{[l]} } \\\\\n",
        "v^{corrected}_{dW^{[l]}} = \\frac{v_{dW^{[l]}}}{1 - (\\beta_1)^t} \\\\\n",
        "s_{dW^{[l]}} = \\beta_2 s_{dW^{[l]}} + (1 - \\beta_2) (\\frac{\\partial \\mathcal{J} }{\\partial W^{[l]} })^2 \\\\\n",
        "s^{corrected}_{dW^{[l]}} = \\frac{s_{dW^{[l]}}}{1 - (\\beta_2)^t} \\\\\n",
        "W^{[l]} = W^{[l]} - \\alpha \\frac{v^{corrected}_{dW^{[l]}}}{\\sqrt{s^{corrected}_{dW^{[l]}}} + \\varepsilon}\n",
        "\\end{cases}$$\n",
        "where:\n",
        "- t counts the number of steps taken of Adam\n",
        "- L is the number of layers\n",
        "- $\\beta_1$ and $\\beta_2$ are hyperparameters that control the two exponentially weighted averages.\n",
        "- $\\alpha$ is the learning rate\n",
        "- $\\varepsilon$ is a very small number to avoid dividing by zero\n",
        "\n",
        "As usual, all parameters are stored in the `parameters` dictionary  "
      ]
    },
    {
      "cell_type": "markdown",
      "metadata": {
        "id": "Guo8e4Icmxny"
      },
      "source": [
        "<a name='ex-5'></a>   \n",
        "### Exercise 5 - initialize_adam\n",
        "\n",
        "Initialize the Adam variables $v, s$ which keep track of the past information.\n",
        "\n",
        "**Instruction**: The variables $v, s$ are python dictionaries that need to be initialized with arrays of zeros. Their keys are the same as for `grads`, that is:\n",
        "for $l = 1, ..., L$:\n",
        "```python\n",
        "v[\"dW\" + str(l)] = ... #(numpy array of zeros with the same shape as parameters[\"W\" + str(l)])\n",
        "v[\"db\" + str(l)] = ... #(numpy array of zeros with the same shape as parameters[\"b\" + str(l)])\n",
        "s[\"dW\" + str(l)] = ... #(numpy array of zeros with the same shape as parameters[\"W\" + str(l)])\n",
        "s[\"db\" + str(l)] = ... #(numpy array of zeros with the same shape as parameters[\"b\" + str(l)])\n",
        "\n",
        "```"
      ]
    },
    {
      "cell_type": "code",
      "source": [
        "def initialize_adam(parameters) :\n",
        "    \"\"\"\n",
        "    Initializes v and s as two python dictionaries with:\n",
        "                - keys: \"dW1\", \"db1\", ..., \"dWL\", \"dbL\"\n",
        "                - values: numpy arrays of zeros of the same shape as the corresponding gradients/parameters.\n",
        "\n",
        "    Arguments:\n",
        "    parameters -- python dictionary containing your parameters.\n",
        "                    parameters[\"W\" + str(l)] = Wl\n",
        "                    parameters[\"b\" + str(l)] = bl\n",
        "\n",
        "    Returns:\n",
        "    v -- python dictionary that will contain the exponentially weighted average of the gradient. Initialized with zeros.\n",
        "                    v[\"dW\" + str(l)] = ...\n",
        "                    v[\"db\" + str(l)] = ...\n",
        "    s -- python dictionary that will contain the exponentially weighted average of the squared gradient. Initialized with zeros.\n",
        "                    s[\"dW\" + str(l)] = ...\n",
        "                    s[\"db\" + str(l)] = ...\n",
        "\n",
        "    \"\"\"\n",
        "    v= {}\n",
        "    s= {}\n",
        "    for l in range(1, len(parameters)//2 + 1 ) :\n",
        "        v[\"dW\" + str(l)] = np.zeros(parameters[\"W\" + str(l)].shape)\n",
        "        v[\"db\" + str(l)] = np.zeros(parameters[\"b\" + str(l)].shape)\n",
        "        s[\"dW\" + str(l)] = np.zeros(parameters[\"W\" + str(l)].shape)\n",
        "        s[\"db\" + str(l)] = np.zeros(parameters[\"b\" + str(l)].shape)\n",
        "    return v , s"
      ],
      "metadata": {
        "id": "Zfbn5h_6llNH"
      },
      "execution_count": null,
      "outputs": []
    },
    {
      "cell_type": "code",
      "execution_count": null,
      "metadata": {
        "deletable": false,
        "nbgrader": {
          "cell_type": "code",
          "checksum": "8eb19ce4b30a9c2af428853c24d8b80a",
          "grade": false,
          "grade_id": "cell-f985b4ecf2e3b4b1",
          "locked": false,
          "schema_version": 3,
          "solution": true,
          "task": false
        },
        "id": "wpL6bqyamxny"
      },
      "outputs": [],
      "source": [
        "# GRADED FUNCTION: initialize_adam\n",
        "\n",
        "def initialize_adam(parameters) :\n",
        "    \"\"\"\n",
        "    Initializes v and s as two python dictionaries with:\n",
        "                - keys: \"dW1\", \"db1\", ..., \"dWL\", \"dbL\"\n",
        "                - values: numpy arrays of zeros of the same shape as the corresponding gradients/parameters.\n",
        "\n",
        "    Arguments:\n",
        "    parameters -- python dictionary containing your parameters.\n",
        "                    parameters[\"W\" + str(l)] = Wl\n",
        "                    parameters[\"b\" + str(l)] = bl\n",
        "\n",
        "    Returns:\n",
        "    v -- python dictionary that will contain the exponentially weighted average of the gradient. Initialized with zeros.\n",
        "                    v[\"dW\" + str(l)] = ...\n",
        "                    v[\"db\" + str(l)] = ...\n",
        "    s -- python dictionary that will contain the exponentially weighted average of the squared gradient. Initialized with zeros.\n",
        "                    s[\"dW\" + str(l)] = ...\n",
        "                    s[\"db\" + str(l)] = ...\n",
        "\n",
        "    \"\"\"\n",
        "\n",
        "    L = len(parameters) // 2 # number of layers in the neural networks\n",
        "    v = {}\n",
        "    s = {}\n",
        "\n",
        "    # Initialize v, s. Input: \"parameters\". Outputs: \"v, s\".\n",
        "    for l in range(1, L + 1):\n",
        "    # (approx. 4 lines)\n",
        "        # v[\"dW\" + str(l)] = ...\n",
        "        # v[\"db\" + str(l)] = ...\n",
        "        # s[\"dW\" + str(l)] = ...\n",
        "        # s[\"db\" + str(l)] = ...\n",
        "    # YOUR CODE STARTS HERE\n",
        "\n",
        "\n",
        "    # YOUR CODE ENDS HERE\n",
        "\n",
        "    return v, s"
      ]
    },
    {
      "cell_type": "code",
      "execution_count": null,
      "metadata": {
        "deletable": false,
        "editable": false,
        "nbgrader": {
          "cell_type": "code",
          "checksum": "63c23c13e1cfb6e1c04b62541ea07cae",
          "grade": true,
          "grade_id": "cell-66f5f68aa23508d7",
          "locked": true,
          "points": 10,
          "schema_version": 3,
          "solution": false,
          "task": false
        },
        "id": "T-B-km6-mxnz",
        "colab": {
          "base_uri": "https://localhost:8080/"
        },
        "outputId": "26b8c7fb-ebf3-4219-eb26-f4255b022dac"
      },
      "outputs": [
        {
          "output_type": "stream",
          "name": "stdout",
          "text": [
            "v[\"dW1\"] = \n",
            "[[0. 0. 0.]\n",
            " [0. 0. 0.]]\n",
            "v[\"db1\"] = \n",
            "[[0.]\n",
            " [0.]]\n",
            "v[\"dW2\"] = \n",
            "[[0. 0. 0.]\n",
            " [0. 0. 0.]\n",
            " [0. 0. 0.]]\n",
            "v[\"db2\"] = \n",
            "[[0.]\n",
            " [0.]\n",
            " [0.]]\n",
            "s[\"dW1\"] = \n",
            "[[0. 0. 0.]\n",
            " [0. 0. 0.]]\n",
            "s[\"db1\"] = \n",
            "[[0.]\n",
            " [0.]]\n",
            "s[\"dW2\"] = \n",
            "[[0. 0. 0.]\n",
            " [0. 0. 0.]\n",
            " [0. 0. 0.]]\n",
            "s[\"db2\"] = \n",
            "[[0.]\n",
            " [0.]\n",
            " [0.]]\n",
            "\u001b[92m All tests passed.\n"
          ]
        }
      ],
      "source": [
        "parameters = initialize_adam_test_case()\n",
        "\n",
        "v, s = initialize_adam(parameters)\n",
        "print(\"v[\\\"dW1\\\"] = \\n\" + str(v[\"dW1\"]))\n",
        "print(\"v[\\\"db1\\\"] = \\n\" + str(v[\"db1\"]))\n",
        "print(\"v[\\\"dW2\\\"] = \\n\" + str(v[\"dW2\"]))\n",
        "print(\"v[\\\"db2\\\"] = \\n\" + str(v[\"db2\"]))\n",
        "print(\"s[\\\"dW1\\\"] = \\n\" + str(s[\"dW1\"]))\n",
        "print(\"s[\\\"db1\\\"] = \\n\" + str(s[\"db1\"]))\n",
        "print(\"s[\\\"dW2\\\"] = \\n\" + str(s[\"dW2\"]))\n",
        "print(\"s[\\\"db2\\\"] = \\n\" + str(s[\"db2\"]))\n",
        "\n",
        "initialize_adam_test(initialize_adam)"
      ]
    },
    {
      "cell_type": "markdown",
      "metadata": {
        "id": "dOEDc0DDmxnz"
      },
      "source": [
        "<a name='ex-6'></a>   \n",
        "### Exercise 6 - update_parameters_with_adam\n",
        "\n",
        "Now, implement the parameters update with Adam. Recall the general update rule is, for $l = 1, ..., L$:\n",
        "\n",
        "$$\\begin{cases}\n",
        "v_{dW^{[l]}} = \\beta_1 v_{dW^{[l]}} + (1 - \\beta_1) \\frac{\\partial \\mathcal{J} }{ \\partial W^{[l]} } \\\\\n",
        "v^{corrected}_{dW^{[l]}} = \\frac{v_{dW^{[l]}}}{1 - (\\beta_1)^t} \\\\\n",
        "s_{dW^{[l]}} = \\beta_2 s_{dW^{[l]}} + (1 - \\beta_2) (\\frac{\\partial \\mathcal{J} }{\\partial W^{[l]} })^2 \\\\\n",
        "s^{corrected}_{dW^{[l]}} = \\frac{s_{dW^{[l]}}}{1 - (\\beta_2)^t} \\\\\n",
        "W^{[l]} = W^{[l]} - \\alpha \\frac{v^{corrected}_{dW^{[l]}}}{\\sqrt{s^{corrected}_{dW^{[l]}}} + \\varepsilon}\n",
        "\\end{cases}$$\n",
        "\n",
        "\n",
        "**Note** that the iterator `l` starts at 1 in the `for` loop as the first parameters are $W^{[1]}$ and $b^{[1]}$."
      ]
    },
    {
      "cell_type": "code",
      "source": [
        "a= np.arange(8).reshape(2,4)\n",
        "b = np.arange(4).reshape(1,4)\n",
        "a\n",
        "b\n",
        "print((a))\n",
        "print(b)\n",
        "a *a"
      ],
      "metadata": {
        "colab": {
          "base_uri": "https://localhost:8080/"
        },
        "id": "MstUVYLIvfOi",
        "outputId": "66112647-5a27-4925-e5b7-5d1e24ee6a5a"
      },
      "execution_count": null,
      "outputs": [
        {
          "output_type": "stream",
          "name": "stdout",
          "text": [
            "[[0 1 2 3]\n",
            " [4 5 6 7]]\n",
            "[[0 1 2 3]]\n"
          ]
        },
        {
          "output_type": "execute_result",
          "data": {
            "text/plain": [
              "array([[ 0,  1,  4,  9],\n",
              "       [16, 25, 36, 49]])"
            ]
          },
          "metadata": {},
          "execution_count": 50
        }
      ]
    },
    {
      "cell_type": "code",
      "source": [
        "# GRADED FUNCTION: update_parameters_with_adam\n",
        "\n",
        "def update_parameters_with_adam(parameters, grads, v, s, t, learning_rate = 0.01,\n",
        "                                beta1 = 0.9, beta2 = 0.999,  epsilon = 1e-8):\n",
        "    \"\"\"\n",
        "    Update parameters using Adam\n",
        "\n",
        "    Arguments:\n",
        "    parameters -- python dictionary containing your parameters:\n",
        "                    parameters['W' + str(l)] = Wl\n",
        "                    parameters['b' + str(l)] = bl\n",
        "    grads -- python dictionary containing your gradients for each parameters:\n",
        "                    grads['dW' + str(l)] = dWl\n",
        "                    grads['db' + str(l)] = dbl\n",
        "    v -- Adam variable, moving average of the first gradient, python dictionary\n",
        "    s -- Adam variable, moving average of the squared gradient, python dictionary\n",
        "    t -- Adam variable, counts the number of taken steps\n",
        "    learning_rate -- the learning rate, scalar.\n",
        "    beta1 -- Exponential decay hyperparameter for the first moment estimates\n",
        "    beta2 -- Exponential decay hyperparameter for the second moment estimates\n",
        "    epsilon -- hyperparameter preventing division by zero in Adam updates\n",
        "\n",
        "    Returns:\n",
        "    parameters -- python dictionary containing your updated parameters\n",
        "    v -- Adam variable, moving average of the first gradient, python dictionary\n",
        "    s -- Adam variable, moving average of the squared gradient, python dictionary\n",
        "    v_corrected = {}                         # Initializing first moment estimate, python dictionary\n",
        "    s_corrected = {}                           # Initializing second moment estimate, python dictionary\n",
        "    \"\"\"\n",
        "    corrected_v={}\n",
        "    corrected_s={}\n",
        "    for l in range(1, len(parameters)//2 + 1 ) :\n",
        "\n",
        "        v['dW' + str(l)] = beta1 * v['dW'+str(l)] + (1-beta1) * grads['dW'+str(l)]\n",
        "        v['db' + str(l)] = beta1 * v['db' + str(l)] + (1-beta1)  * grads['db' + str(l)]\n",
        "        corrected_v['dW'+str(l)] = v['dW'+str(l)] / (1 - math.pow(beta1 , t))\n",
        "        corrected_v['db'+ str(l)] = v['db' + str(l)]  / (1 - math.pow(beta1,t))\n",
        "\n",
        "\n",
        "        s['dW' + str(l)]  = beta2 * s['dW' + str(l)] + (1-beta2) * (grads['dW' +str(l)]) * (grads['dW' +str(l)])\n",
        "        s['db' + str(l)]  =beta2 * s['db' + str(l)] + (1-beta2) * (grads['db' + str(l)]) * (grads['db' +str(l)])\n",
        "\n",
        "\n",
        "        corrected_s['dW'+str(l)] =  s['dW' + str(l)] / (1-math.pow(beta2,t))\n",
        "        corrected_s['db' + str(l)]  = s['db' + str(l)] / (1-math.pow(beta2,t))\n",
        "\n",
        "        parameters['W' + str(l)] -= learning_rate * corrected_v['dW' + str(l)] \\\n",
        "                              /( np.sqrt(corrected_s['dW' + str(l)]   ) +epsilon )\n",
        "        parameters['b' + str(l)] -= learning_rate * corrected_v['db' + str(l)] \\\n",
        "                            /( np.sqrt(corrected_s['db' + str(l)] ) + epsilon )\n",
        "    return parameters , v, s , corrected_v  , corrected_s"
      ],
      "metadata": {
        "id": "qKRpvRyumpnu"
      },
      "execution_count": null,
      "outputs": []
    },
    {
      "cell_type": "code",
      "execution_count": null,
      "metadata": {
        "deletable": false,
        "nbgrader": {
          "cell_type": "code",
          "checksum": "db9c45f6bfd6b1395c2662f6f127d12b",
          "grade": false,
          "grade_id": "cell-d72b0d5fd3ac5c42",
          "locked": false,
          "schema_version": 3,
          "solution": true,
          "task": false
        },
        "id": "P7HrL6b9mxn0"
      },
      "outputs": [],
      "source": [
        "# GRADED FUNCTION: update_parameters_with_adam\n",
        "\n",
        "def update_parameters_with_adam(parameters, grads, v, s, t, learning_rate = 0.01,\n",
        "                                beta1 = 0.9, beta2 = 0.999,  epsilon = 1e-8):\n",
        "    \"\"\"\n",
        "    Update parameters using Adam\n",
        "\n",
        "    Arguments:\n",
        "    parameters -- python dictionary containing your parameters:\n",
        "                    parameters['W' + str(l)] = Wl\n",
        "                    parameters['b' + str(l)] = bl\n",
        "    grads -- python dictionary containing your gradients for each parameters:\n",
        "                    grads['dW' + str(l)] = dWl\n",
        "                    grads['db' + str(l)] = dbl\n",
        "    v -- Adam variable, moving average of the first gradient, python dictionary\n",
        "    s -- Adam variable, moving average of the squared gradient, python dictionary\n",
        "    t -- Adam variable, counts the number of taken steps\n",
        "    learning_rate -- the learning rate, scalar.\n",
        "    beta1 -- Exponential decay hyperparameter for the first moment estimates\n",
        "    beta2 -- Exponential decay hyperparameter for the second moment estimates\n",
        "    epsilon -- hyperparameter preventing division by zero in Adam updates\n",
        "\n",
        "    Returns:\n",
        "    parameters -- python dictionary containing your updated parameters\n",
        "    v -- Adam variable, moving average of the first gradient, python dictionary\n",
        "    s -- Adam variable, moving average of the squared gradient, python dictionary\n",
        "    v_corrected = {}                         # Initializing first moment estimate, python dictionary\n",
        "    s_corrected = {}                           # Initializing second moment estimate, python dictionary\n",
        "    \"\"\"\n",
        "\n",
        "    L = len(parameters) // 2                 # number of layers in the neural networks\n",
        "    v_corrected = {}                         # Initializing first moment estimate, python dictionary\n",
        "    s_corrected = {}                         # Initializing second moment estimate, python dictionary\n",
        "\n",
        "    # Perform Adam update on all parameters\n",
        "    for l in range(1, L + 1):\n",
        "        # Moving average of the gradients. Inputs: \"v, grads, beta1\". Output: \"v\".\n",
        "        # (approx. 2 lines)\n",
        "        # v[\"dW\" + str(l)] = ...\n",
        "        # v[\"db\" + str(l)] = ...\n",
        "        # YOUR CODE STARTS HERE\n",
        "\n",
        "\n",
        "        # YOUR CODE ENDS HERE\n",
        "\n",
        "        # Compute bias-corrected first moment estimate. Inputs: \"v, beta1, t\". Output: \"v_corrected\".\n",
        "        # (approx. 2 lines)\n",
        "        # v_corrected[\"dW\" + str(l)] = ...\n",
        "        # v_corrected[\"db\" + str(l)] = ...\n",
        "        # YOUR CODE STARTS HERE\n",
        "\n",
        "\n",
        "        # YOUR CODE ENDS HERE\n",
        "\n",
        "        # Moving average of the squared gradients. Inputs: \"s, grads, beta2\". Output: \"s\".\n",
        "        #(approx. 2 lines)\n",
        "        # s[\"dW\" + str(l)] = ...\n",
        "        # s[\"db\" + str(l)] = ...\n",
        "        # YOUR CODE STARTS HERE\n",
        "\n",
        "\n",
        "        # YOUR CODE ENDS HERE\n",
        "\n",
        "        # Compute bias-corrected second raw moment estimate. Inputs: \"s, beta2, t\". Output: \"s_corrected\".\n",
        "        # (approx. 2 lines)\n",
        "        # s_corrected[\"dW\" + str(l)] = ...\n",
        "        # s_corrected[\"db\" + str(l)] = ...\n",
        "        # YOUR CODE STARTS HERE\n",
        "\n",
        "\n",
        "        # YOUR CODE ENDS HERE\n",
        "\n",
        "        # Update parameters. Inputs: \"parameters, learning_rate, v_corrected, s_corrected, epsilon\". Output: \"parameters\".\n",
        "        # (approx. 2 lines)\n",
        "        # parameters[\"W\" + str(l)] = ...\n",
        "        # parameters[\"b\" + str(l)] = ...\n",
        "        # YOUR CODE STARTS HERE\n",
        "\n",
        "\n",
        "        # YOUR CODE ENDS HERE\n",
        "\n",
        "    return parameters, v, s, v_corrected, s_corrected"
      ]
    },
    {
      "cell_type": "code",
      "execution_count": null,
      "metadata": {
        "deletable": false,
        "editable": false,
        "nbgrader": {
          "cell_type": "code",
          "checksum": "a3fe7eb303d8942f4e51a1f6afe587bb",
          "grade": true,
          "grade_id": "cell-c2a35a4cdbfa242c",
          "locked": true,
          "points": 10,
          "schema_version": 3,
          "solution": false,
          "task": false
        },
        "id": "VZzqelHTmxn1",
        "colab": {
          "base_uri": "https://localhost:8080/"
        },
        "outputId": "0d0737bc-b060-47ac-811a-1569e3496856"
      },
      "outputs": [
        {
          "output_type": "stream",
          "name": "stdout",
          "text": [
            "W1 = \n",
            "[[ 1.63942428 -0.6268425  -0.54320974]\n",
            " [-1.08782943  0.85036983 -2.2865723 ]]\n",
            "W2 = \n",
            "[[ 0.33356139 -0.26425199  1.47707772]\n",
            " [-2.04538458 -0.30744933 -0.36903141]\n",
            " [ 1.14873036 -1.09256871 -0.15734651]]\n",
            "b1 = \n",
            "[[ 1.75854357]\n",
            " [-0.74616067]]\n",
            "b2 = \n",
            "[[-0.89228024]\n",
            " [ 0.02707193]\n",
            " [ 0.56782561]]\n",
            "\u001b[92mAll test passed\n"
          ]
        }
      ],
      "source": [
        "parametersi, grads, vi, si = update_parameters_with_adam_test_case()\n",
        "\n",
        "t = 2\n",
        "learning_rate = 0.02\n",
        "beta1 = 0.8\n",
        "beta2 = 0.888\n",
        "epsilon = 1e-2\n",
        "\n",
        "parameters, v, s, vc, sc  = update_parameters_with_adam(parametersi, grads, vi, si, t, learning_rate, beta1, beta2, epsilon)\n",
        "print(f\"W1 = \\n{parameters['W1']}\")\n",
        "print(f\"W2 = \\n{parameters['W2']}\")\n",
        "print(f\"b1 = \\n{parameters['b1']}\")\n",
        "print(f\"b2 = \\n{parameters['b2']}\")\n",
        "\n",
        "update_parameters_with_adam_test(update_parameters_with_adam)\n"
      ]
    },
    {
      "cell_type": "markdown",
      "metadata": {
        "id": "xkP-tILymxn1"
      },
      "source": [
        "**Expected values:**\n",
        "    \n",
        "```\n",
        "W1 =\n",
        "[[ 1.63942428 -0.6268425  -0.54320974]\n",
        " [-1.08782943  0.85036983 -2.2865723 ]]\n",
        "W2 =\n",
        "[[ 0.33356139 -0.26425199  1.47707772]\n",
        " [-2.04538458 -0.30744933 -0.36903141]\n",
        " [ 1.14873036 -1.09256871 -0.15734651]]\n",
        "b1 =\n",
        "[[ 1.75854357]\n",
        " [-0.74616067]]\n",
        "b2 =\n",
        "[[-0.89228024]\n",
        " [ 0.02707193]\n",
        " [ 0.56782561]]\n",
        "```"
      ]
    },
    {
      "cell_type": "markdown",
      "metadata": {
        "id": "oINSTw5Emxn1"
      },
      "source": [
        "You now have three working optimization algorithms (mini-batch gradient descent, Momentum, Adam). Let's implement a model with each of these optimizers and observe the difference."
      ]
    },
    {
      "cell_type": "markdown",
      "metadata": {
        "id": "DcG3FacOmxn2"
      },
      "source": [
        "<a name='6'></a>  \n",
        "## 6 - Model with different Optimization algorithms\n",
        "\n",
        "Below, you'll use the following \"moons\" dataset to test the different optimization methods. (The dataset is named \"moons\" because the data from each of the two classes looks a bit like a crescent-shaped moon.)"
      ]
    },
    {
      "cell_type": "code",
      "execution_count": null,
      "metadata": {
        "id": "6326EC73mxn2",
        "colab": {
          "base_uri": "https://localhost:8080/",
          "height": 269
        },
        "outputId": "31f2b3f1-ca4d-44b3-dea3-561b36304b55"
      },
      "outputs": [
        {
          "output_type": "display_data",
          "data": {
            "image/png": "[encoded data removed]",
            "text/plain": [
              "<Figure size 504x288 with 1 Axes>"
            ]
          },
          "metadata": {
            "needs_background": "light"
          }
        }
      ],
      "source": [
        "train_X, train_Y = load_dataset()"
      ]
    },
    {
      "cell_type": "markdown",
      "metadata": {
        "id": "rT7sfhK7mxn2"
      },
      "source": [
        "A 3-layer neural network has already been implemented for you! You'll train it with:\n",
        "- Mini-batch **Gradient Descent**: it will call your function:\n",
        "    - `update_parameters_with_gd()`\n",
        "- Mini-batch **Momentum**: it will call your functions:\n",
        "    - `initialize_velocity()` and `update_parameters_with_momentum()`\n",
        "- Mini-batch **Adam**: it will call your functions:\n",
        "    - `initialize_adam()` and `update_parameters_with_adam()`"
      ]
    },
    {
      "cell_type": "markdown",
      "source": [
        "Q . 아래와 같은 출력물을 만드시오"
      ],
      "metadata": {
        "id": "kN8XhshyygAn"
      }
    },
    {
      "cell_type": "markdown",
      "source": [
        "Cost after epoch 0: 0.702405  \n",
        "Cost after epoch 1000: 0.668101  \n",
        "Cost after epoch 2000: 0.635288  \n",
        "Cost after epoch 3000: 0.600491  \n",
        "Cost after epoch 4000: 0.573367  \n",
        "\n",
        "Accuracy: 0.7166666666666667  \n"
      ],
      "metadata": {
        "id": "x4CLV_h1yS5D"
      }
    },
    {
      "cell_type": "markdown",
      "source": [
        "![image.png](data:image/png;base64,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)\n",
        "\n",
        "![image.png](data:image/png;base64,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)"
      ],
      "metadata": {
        "id": "ubQM_JC3yZEg"
      }
    },
    {
      "cell_type": "code",
      "source": [
        "def model(X, Y, layers_dims, optimizer, learning_rate = 0.0007, mini_batch_size = 64, beta = 0.9,\n",
        "          beta1 = 0.9, beta2 = 0.999,  epsilon = 1e-8, num_epochs = 5000, print_cost = True):\n",
        "    \"\"\"\n",
        "    3-layer neural network model which can be run in different optimizer modes.\n",
        "\n",
        "    Arguments:\n",
        "    X -- input data, of shape (2, number of examples)\n",
        "    Y -- true \"label\" vector (1 for blue dot / 0 for red dot), of shape (1, number of examples)\n",
        "    layers_dims -- python list, containing the size of each layer\n",
        "    learning_rate -- the learning rate, scalar.\n",
        "    mini_batch_size -- the size of a mini batch\n",
        "    beta -- Momentum hyperparameter\n",
        "    beta1 -- Exponential decay hyperparameter for the past gradients estimates\n",
        "    beta2 -- Exponential decay hyperparameter for the past squared gradients estimates\n",
        "    epsilon -- hyperparameter preventing division by zero in Adam updates\n",
        "    num_epochs -- number of epochs\n",
        "    print_cost -- True to print the cost every 1000 epochs\n",
        "\n",
        "    Returns:\n",
        "    parameters -- python dictionary containing your updated parameters\n",
        "    \"\"\""
      ],
      "metadata": {
        "id": "FvyulserxaQt"
      },
      "execution_count": null,
      "outputs": []
    },
    {
      "cell_type": "code",
      "execution_count": null,
      "metadata": {
        "id": "0Cu_6nvhmxn2"
      },
      "outputs": [],
      "source": [
        "def model(X, Y, layers_dims, optimizer, learning_rate = 0.0007, mini_batch_size = 64, beta = 0.9,\n",
        "          beta1 = 0.9, beta2 = 0.999,  epsilon = 1e-8, num_epochs = 5000, print_cost = True):\n",
        "    \"\"\"\n",
        "    3-layer neural network model which can be run in different optimizer modes.\n",
        "\n",
        "    Arguments:\n",
        "    X -- input data, of shape (2, number of examples)\n",
        "    Y -- true \"label\" vector (1 for blue dot / 0 for red dot), of shape (1, number of examples)\n",
        "    layers_dims -- python list, containing the size of each layer\n",
        "    learning_rate -- the learning rate, scalar.\n",
        "    mini_batch_size -- the size of a mini batch\n",
        "    beta -- Momentum hyperparameter\n",
        "    beta1 -- Exponential decay hyperparameter for the past gradients estimates\n",
        "    beta2 -- Exponential decay hyperparameter for the past squared gradients estimates\n",
        "    epsilon -- hyperparameter preventing division by zero in Adam updates\n",
        "    num_epochs -- number of epochs\n",
        "    print_cost -- True to print the cost every 1000 epochs\n",
        "\n",
        "    Returns:\n",
        "    parameters -- python dictionary containing your updated parameters\n",
        "    \"\"\"\n",
        "\n",
        "    L = len(layers_dims)             # number of layers in the neural networks\n",
        "    costs = []                       # to keep track of the cost\n",
        "    t = 0                            # initializing the counter required for Adam update\n",
        "    seed = 10                        # For grading purposes, so that your \"random\" minibatches are the same as ours\n",
        "    m = X.shape[1]                   # number of training examples\n",
        "\n",
        "    # Initialize parameters\n",
        "    parameters = initialize_parameters(layers_dims)\n",
        "\n",
        "    # Initialize the optimizer\n",
        "    if optimizer == \"gd\":\n",
        "        pass # no initialization required for gradient descent\n",
        "    elif optimizer == \"momentum\":\n",
        "        v = initialize_velocity(parameters)\n",
        "    elif optimizer == \"adam\":\n",
        "        v, s = initialize_adam(parameters)\n",
        "\n",
        "    # Optimization loop\n",
        "    for i in range(num_epochs):\n",
        "\n",
        "        # Define the random minibatches. We increment the seed to reshuffle differently the dataset after each epoch\n",
        "        seed = seed + 1\n",
        "        minibatches = random_mini_batches(X, Y, mini_batch_size, seed)\n",
        "        cost_total = 0\n",
        "\n",
        "        for minibatch in minibatches:\n",
        "\n",
        "            # Select a minibatch\n",
        "            (minibatch_X, minibatch_Y) = minibatch\n",
        "\n",
        "            # Forward propagation\n",
        "            a3, caches = forward_propagation(minibatch_X, parameters)\n",
        "\n",
        "            # Compute cost and add to the cost total\n",
        "            cost_total += compute_cost(a3, minibatch_Y)\n",
        "\n",
        "            # Backward propagation\n",
        "            grads = backward_propagation(minibatch_X, minibatch_Y, caches)\n",
        "\n",
        "            # Update parameters\n",
        "            if optimizer == \"gd\":\n",
        "                parameters = update_parameters_with_gd(parameters, grads, learning_rate)\n",
        "            elif optimizer == \"momentum\":\n",
        "                parameters, v = update_parameters_with_momentum(parameters, grads, v, beta, learning_rate)\n",
        "            elif optimizer == \"adam\":\n",
        "                t = t + 1 # Adam counter\n",
        "                parameters, v, s, _, _ = update_parameters_with_adam(parameters, grads, v, s,\n",
        "                                                               t, learning_rate, beta1, beta2,  epsilon)\n",
        "        cost_avg = cost_total / m\n",
        "\n",
        "        # Print the cost every 1000 epoch\n",
        "        if print_cost and i % 1000 == 0:\n",
        "            print (\"Cost after epoch %i: %f\" %(i, cost_avg))\n",
        "        if print_cost and i % 100 == 0:\n",
        "            costs.append(cost_avg)\n",
        "\n",
        "    # plot the cost\n",
        "    plt.plot(costs)\n",
        "    plt.ylabel('cost')\n",
        "    plt.xlabel('epochs (per 100)')\n",
        "    plt.title(\"Learning rate = \" + str(learning_rate))\n",
        "    plt.show()\n",
        "\n",
        "    return parameters"
      ]
    },
    {
      "cell_type": "markdown",
      "metadata": {
        "id": "IuTVdtspmxn3"
      },
      "source": [
        "Now, run this 3 layer neural network with each of the 3 optimization methods.\n",
        "\n",
        "<a name='6-1'></a>  \n",
        "### 6.1 - Mini-Batch Gradient Descent\n",
        "\n",
        "Run the following code to see how the model does with mini-batch gradient descent."
      ]
    },
    {
      "cell_type": "code",
      "execution_count": null,
      "metadata": {
        "id": "DqgEun7Jmxn4",
        "colab": {
          "base_uri": "https://localhost:8080/",
          "height": 682
        },
        "outputId": "74a4985c-d5ce-40bc-b6d5-332f300c65c0"
      },
      "outputs": [
        {
          "output_type": "stream",
          "name": "stdout",
          "text": [
            "Cost after epoch 0: 0.702405\n",
            "Cost after epoch 1000: 0.668101\n",
            "Cost after epoch 2000: 0.635288\n",
            "Cost after epoch 3000: 0.600491\n",
            "Cost after epoch 4000: 0.573367\n"
          ]
        },
        {
          "output_type": "display_data",
          "data": {
            "image/png": "[encoded data removed]",
            "text/plain": [
              "<Figure size 504x288 with 1 Axes>"
            ]
          },
          "metadata": {
            "needs_background": "light"
          }
        },
        {
          "output_type": "stream",
          "name": "stdout",
          "text": [
            "Accuracy: 0.7166666666666667\n"
          ]
        },
        {
          "output_type": "display_data",
          "data": {
            "image/png": "[encoded data removed]",
            "text/plain": [
              "<Figure size 504x288 with 1 Axes>"
            ]
          },
          "metadata": {
            "needs_background": "light"
          }
        }
      ],
      "source": [
        "# train 3-layer model\n",
        "layers_dims = [train_X.shape[0], 5, 2, 1]\n",
        "parameters = model(train_X, train_Y, layers_dims, optimizer = \"gd\")\n",
        "\n",
        "# Predict\n",
        "predictions = predict(train_X, train_Y, parameters)\n",
        "\n",
        "# Plot decision boundary\n",
        "plt.title(\"Model with Gradient Descent optimization\")\n",
        "axes = plt.gca()\n",
        "axes.set_xlim([-1.5,2.5])\n",
        "axes.set_ylim([-1,1.5])\n",
        "plot_decision_boundary(lambda x: predict_dec(parameters, x.T), train_X, train_Y)"
      ]
    },
    {
      "cell_type": "markdown",
      "metadata": {
        "id": "KCdkeUsbmxn4"
      },
      "source": [
        "<a name='6-2'></a>  \n",
        "### 6.2 - Mini-Batch Gradient Descent with Momentum\n",
        "\n",
        "Next, run the following code to see how the model does with momentum. Because this example is relatively simple, the gains from using momemtum are small - but for more complex problems you might see bigger gains."
      ]
    },
    {
      "cell_type": "code",
      "execution_count": null,
      "metadata": {
        "id": "5uEVgvtemxn4",
        "colab": {
          "base_uri": "https://localhost:8080/",
          "height": 682
        },
        "outputId": "133d6980-4701-47df-829e-f888b9c1f8b6"
      },
      "outputs": [
        {
          "output_type": "stream",
          "name": "stdout",
          "text": [
            "Cost after epoch 0: 0.702413\n",
            "Cost after epoch 1000: 0.668167\n",
            "Cost after epoch 2000: 0.635388\n",
            "Cost after epoch 3000: 0.600591\n",
            "Cost after epoch 4000: 0.573444\n"
          ]
        },
        {
          "output_type": "display_data",
          "data": {
            "image/png": "[encoded data removed]",
            "text/plain": [
              "<Figure size 504x288 with 1 Axes>"
            ]
          },
          "metadata": {
            "needs_background": "light"
          }
        },
        {
          "output_type": "stream",
          "name": "stdout",
          "text": [
            "Accuracy: 0.7166666666666667\n"
          ]
        },
        {
          "output_type": "display_data",
          "data": {
            "image/png": "[encoded data removed]",
            "text/plain": [
              "<Figure size 504x288 with 1 Axes>"
            ]
          },
          "metadata": {
            "needs_background": "light"
          }
        }
      ],
      "source": [
        "# train 3-layer model\n",
        "layers_dims = [train_X.shape[0], 5, 2, 1]\n",
        "parameters = model(train_X, train_Y, layers_dims, beta = 0.9, optimizer = \"momentum\")\n",
        "\n",
        "# Predict\n",
        "predictions = predict(train_X, train_Y, parameters)\n",
        "\n",
        "# Plot decision boundary\n",
        "plt.title(\"Model with Momentum optimization\")\n",
        "axes = plt.gca()\n",
        "axes.set_xlim([-1.5,2.5])\n",
        "axes.set_ylim([-1,1.5])\n",
        "plot_decision_boundary(lambda x: predict_dec(parameters, x.T), train_X, train_Y)"
      ]
    },
    {
      "cell_type": "markdown",
      "metadata": {
        "id": "TqvDCYxNmxn5"
      },
      "source": [
        "<a name='6-3'></a>  \n",
        "### 6.3 - Mini-Batch with Adam\n",
        "\n",
        "Finally, run the following code to see how the model does with Adam."
      ]
    },
    {
      "cell_type": "code",
      "execution_count": null,
      "metadata": {
        "id": "w7GxW3pfmxn5",
        "colab": {
          "base_uri": "https://localhost:8080/",
          "height": 682
        },
        "outputId": "0a95b418-52be-4cbf-f061-b3fece25c903"
      },
      "outputs": [
        {
          "output_type": "stream",
          "name": "stdout",
          "text": [
            "Cost after epoch 0: 0.702166\n",
            "Cost after epoch 1000: 0.167966\n",
            "Cost after epoch 2000: 0.141320\n",
            "Cost after epoch 3000: 0.138782\n",
            "Cost after epoch 4000: 0.136111\n"
          ]
        },
        {
          "output_type": "display_data",
          "data": {
            "image/png": "[encoded data removed]",
            "text/plain": [
              "<Figure size 504x288 with 1 Axes>"
            ]
          },
          "metadata": {
            "needs_background": "light"
          }
        },
        {
          "output_type": "stream",
          "name": "stdout",
          "text": [
            "Accuracy: 0.9433333333333334\n"
          ]
        },
        {
          "output_type": "display_data",
          "data": {
            "image/png": "[encoded data removed]",
            "text/plain": [
              "<Figure size 504x288 with 1 Axes>"
            ]
          },
          "metadata": {
            "needs_background": "light"
          }
        }
      ],
      "source": [
        "# train 3-layer model\n",
        "layers_dims = [train_X.shape[0], 5, 2, 1]\n",
        "parameters = model(train_X, train_Y, layers_dims, optimizer = \"adam\")\n",
        "\n",
        "# Predict\n",
        "predictions = predict(train_X, train_Y, parameters)\n",
        "\n",
        "# Plot decision boundary\n",
        "plt.title(\"Model with Adam optimization\")\n",
        "axes = plt.gca()\n",
        "axes.set_xlim([-1.5,2.5])\n",
        "axes.set_ylim([-1,1.5])\n",
        "plot_decision_boundary(lambda x: predict_dec(parameters, x.T), train_X, train_Y)"
      ]
    },
    {
      "cell_type": "markdown",
      "metadata": {
        "id": "tyqTOdEKmxn5"
      },
      "source": [
        "<a name='6-4'></a>  \n",
        "### 6.4 - Summary\n",
        "\n",
        "<table>\n",
        "    <tr>\n",
        "        <td>\n",
        "        <b>optimization method</b>\n",
        "        </td>\n",
        "        <td>\n",
        "        <b>accuracy</b>\n",
        "        </td>\n",
        "        <td>\n",
        "        <b>cost shape</b>\n",
        "        </td>\n",
        "    </tr>\n",
        "        <td>\n",
        "        Gradient descent\n",
        "        </td>\n",
        "        <td>\n",
        "        >71%\n",
        "        </td>\n",
        "        <td>\n",
        "        smooth\n",
        "        </td>\n",
        "    <tr>\n",
        "        <td>\n",
        "        Momentum\n",
        "        </td>\n",
        "        <td>\n",
        "        >71%\n",
        "        </td>\n",
        "        <td>\n",
        "        smooth\n",
        "        </td>\n",
        "    </tr>\n",
        "    <tr>\n",
        "        <td>\n",
        "        Adam\n",
        "        </td>\n",
        "        <td>\n",
        "        >94%\n",
        "        </td>\n",
        "        <td>\n",
        "        smoother\n",
        "        </td>\n",
        "    </tr>\n",
        "</table>\n",
        "\n",
        "Momentum usually helps, but given the small learning rate and the simplistic dataset, its impact is almost negligible.\n",
        "\n",
        "On the other hand, Adam clearly outperforms mini-batch gradient descent and Momentum. If you run the model for more epochs on this simple dataset, all three methods will lead to very good results. However, you've seen that Adam converges a lot faster.\n",
        "\n",
        "Some advantages of Adam include:\n",
        "\n",
        "- Relatively low memory requirements (though higher than gradient descent and gradient descent with momentum)\n",
        "- Usually works well even with little tuning of hyperparameters (except $\\alpha$)"
      ]
    },
    {
      "cell_type": "markdown",
      "metadata": {
        "id": "rRr4PReKmxn6"
      },
      "source": [
        "**References**:\n",
        "\n",
        "- Adam paper: https://arxiv.org/pdf/1412.6980.pdf"
      ]
    },
    {
      "cell_type": "markdown",
      "metadata": {
        "id": "h0KvnMqjmxn6"
      },
      "source": [
        "<a name='7'></a>  \n",
        "## 7 - Learning Rate Decay and Scheduling\n",
        "\n",
        "Lastly, the learning rate is another hyperparameter that can help you speed up learning.\n",
        "\n",
        "During the first part of training, your model can get away with taking large steps, but over time, using a fixed value for the learning rate alpha can cause your model to get stuck in a wide oscillation that never quite converges. But if you were to slowly reduce your learning rate alpha over time, you could then take smaller, slower steps that bring you closer to the minimum. This is the idea behind learning rate decay.\n",
        "\n",
        "Learning rate decay can be achieved by using either adaptive methods or pre-defined learning rate schedules.\n",
        "\n",
        "Now, you'll apply scheduled learning rate decay to a 3-layer neural network in three different optimizer modes and see how each one differs, as well as the effect of scheduling at different epochs.\n",
        "\n",
        "This model is essentially the same as the one you used before, except in this one you'll be able to include learning rate decay. It includes two new parameters, decay and decay_rate."
      ]
    },
    {
      "cell_type": "code",
      "execution_count": null,
      "metadata": {
        "id": "nqSoG4PUmxn7"
      },
      "outputs": [],
      "source": [
        "def model(X, Y, layers_dims, optimizer, learning_rate = 0.0007, mini_batch_size = 64, beta = 0.9,\n",
        "          beta1 = 0.9, beta2 = 0.999,  epsilon = 1e-8, num_epochs = 5000, print_cost = True, decay=None, decay_rate=1):\n",
        "    \"\"\"\n",
        "    3-layer neural network model which can be run in different optimizer modes.\n",
        "\n",
        "    Arguments:\n",
        "    X -- input data, of shape (2, number of examples)\n",
        "    Y -- true \"label\" vector (1 for blue dot / 0 for red dot), of shape (1, number of examples)\n",
        "    layers_dims -- python list, containing the size of each layer\n",
        "    learning_rate -- the learning rate, scalar.\n",
        "    mini_batch_size -- the size of a mini batch\n",
        "    beta -- Momentum hyperparameter\n",
        "    beta1 -- Exponential decay hyperparameter for the past gradients estimates\n",
        "    beta2 -- Exponential decay hyperparameter for the past squared gradients estimates\n",
        "    epsilon -- hyperparameter preventing division by zero in Adam updates\n",
        "    num_epochs -- number of epochs\n",
        "    print_cost -- True to print the cost every 1000 epochs\n",
        "\n",
        "    Returns:\n",
        "    parameters -- python dictionary containing your updated parameters\n",
        "    \"\"\"\n",
        "\n",
        "    L = len(layers_dims)             # number of layers in the neural networks\n",
        "    costs = []                       # to keep track of the cost\n",
        "    t = 0                            # initializing the counter required for Adam update\n",
        "    seed = 10                        # For grading purposes, so that your \"random\" minibatches are the same as ours\n",
        "    m = X.shape[1]                   # number of training examples\n",
        "    lr_rates = []\n",
        "    learning_rate0 = learning_rate   # the original learning rate\n",
        "\n",
        "    # Initialize parameters\n",
        "    parameters = initialize_parameters(layers_dims)\n",
        "\n",
        "    # Initialize the optimizer\n",
        "    if optimizer == \"gd\":\n",
        "        pass # no initialization required for gradient descent\n",
        "    elif optimizer == \"momentum\":\n",
        "        v = initialize_velocity(parameters)\n",
        "    elif optimizer == \"adam\":\n",
        "        v, s = initialize_adam(parameters)\n",
        "\n",
        "    # Optimization loop\n",
        "    for i in range(num_epochs):\n",
        "\n",
        "        # Define the random minibatches. We increment the seed to reshuffle differently the dataset after each epoch\n",
        "        seed = seed + 1\n",
        "        minibatches = random_mini_batches(X, Y, mini_batch_size, seed)\n",
        "        cost_total = 0\n",
        "\n",
        "        for minibatch in minibatches:\n",
        "\n",
        "            # Select a minibatch\n",
        "            (minibatch_X, minibatch_Y) = minibatch\n",
        "\n",
        "            # Forward propagation\n",
        "            a3, caches = forward_propagation(minibatch_X, parameters)\n",
        "\n",
        "            # Compute cost and add to the cost total\n",
        "            cost_total += compute_cost(a3, minibatch_Y)\n",
        "\n",
        "            # Backward propagation\n",
        "            grads = backward_propagation(minibatch_X, minibatch_Y, caches)\n",
        "\n",
        "            # Update parameters\n",
        "            if optimizer == \"gd\":\n",
        "                parameters = update_parameters_with_gd(parameters, grads, learning_rate)\n",
        "            elif optimizer == \"momentum\":\n",
        "                parameters, v = update_parameters_with_momentum(parameters, grads, v, beta, learning_rate)\n",
        "            elif optimizer == \"adam\":\n",
        "                t = t + 1 # Adam counter\n",
        "                parameters, v, s, _, _ = update_parameters_with_adam(parameters, grads, v, s,\n",
        "                                                               t, learning_rate, beta1, beta2,  epsilon)\n",
        "        cost_avg = cost_total / m\n",
        "        if decay:\n",
        "            learning_rate = decay(learning_rate0, i, decay_rate)\n",
        "        # Print the cost every 1000 epoch\n",
        "        if print_cost and i % 1000 == 0:\n",
        "            print (\"Cost after epoch %i: %f\" %(i, cost_avg))\n",
        "            if decay:\n",
        "                print(\"learning rate after epoch %i: %f\"%(i, learning_rate))\n",
        "        if print_cost and i % 100 == 0:\n",
        "            costs.append(cost_avg)\n",
        "\n",
        "    # plot the cost\n",
        "    plt.plot(costs)\n",
        "    plt.ylabel('cost')\n",
        "    plt.xlabel('epochs (per 100)')\n",
        "    plt.title(\"Learning rate = \" + str(learning_rate))\n",
        "    plt.show()\n",
        "\n",
        "    return parameters"
      ]
    },
    {
      "cell_type": "markdown",
      "metadata": {
        "id": "3nEJRqD1mxn8"
      },
      "source": [
        "<a name='7-1'></a>  \n",
        "### 7.1 - Decay on every iteration  \n",
        "\n",
        "For this portion of the assignment, you'll try one of the pre-defined schedules for learning rate decay, called exponential learning rate decay. It takes this mathematical form:\n",
        "\n",
        "$$\\alpha = \\frac{1}{1 + decayRate \\times epochNumber} \\alpha_{0}$$\n",
        "\n",
        "<a name='ex-7'></a>  \n",
        "### Exercise 7 - update_lr\n",
        "\n",
        "Calculate the new learning rate using exponential weight decay."
      ]
    },
    {
      "cell_type": "code",
      "execution_count": null,
      "metadata": {
        "deletable": false,
        "nbgrader": {
          "cell_type": "code",
          "checksum": "68d0f6e5b2a1a462ee981bf6c4ac6414",
          "grade": false,
          "grade_id": "cell-1f75dd71cfae785a",
          "locked": false,
          "schema_version": 3,
          "solution": true,
          "task": false
        },
        "id": "x02wRtYTmxn9"
      },
      "outputs": [],
      "source": [
        "# GRADED FUNCTION: update_lr\n",
        "\n",
        "def update_lr(learning_rate0, epoch_num, decay_rate):\n",
        "    \"\"\"\n",
        "    Calculates updated the learning rate using exponential weight decay.\n",
        "\n",
        "    Arguments:\n",
        "    learning_rate0 -- Original learning rate. Scalar\n",
        "    epoch_num -- Epoch number. Integer\n",
        "    decay_rate -- Decay rate. Scalar\n",
        "\n",
        "    Returns:\n",
        "    learning_rate -- Updated learning rate. Scalar\n",
        "    \"\"\"\n",
        "    #(approx. 1 line)\n",
        "    # learning_rate =\n",
        "    # YOUR CODE STARTS HERE\n",
        "\n",
        "\n",
        "    # YOUR CODE ENDS HERE\n",
        "    return learning_rate"
      ]
    },
    {
      "cell_type": "code",
      "execution_count": null,
      "metadata": {
        "deletable": false,
        "editable": false,
        "nbgrader": {
          "cell_type": "code",
          "checksum": "e94cc1e45ead743ed2c013bea09a2170",
          "grade": true,
          "grade_id": "cell-84c8bdb20bc64216",
          "locked": true,
          "points": 10,
          "schema_version": 3,
          "solution": false,
          "task": false
        },
        "id": "s4t5DdrYmxn-"
      },
      "outputs": [],
      "source": [
        "learning_rate = 0.5\n",
        "print(\"Original learning rate: \", learning_rate)\n",
        "epoch_num = 2\n",
        "decay_rate = 1\n",
        "learning_rate_2 = update_lr(learning_rate, epoch_num, decay_rate)\n",
        "\n",
        "print(\"Updated learning rate: \", learning_rate_2)\n",
        "\n",
        "update_lr_test(update_lr)"
      ]
    },
    {
      "cell_type": "code",
      "execution_count": null,
      "metadata": {
        "id": "_EOxY2S7mxn-"
      },
      "outputs": [],
      "source": [
        "# train 3-layer model\n",
        "layers_dims = [train_X.shape[0], 5, 2, 1]\n",
        "parameters = model(train_X, train_Y, layers_dims, optimizer = \"gd\", learning_rate = 0.1, num_epochs=5000, decay=update_lr)\n",
        "\n",
        "# Predict\n",
        "predictions = predict(train_X, train_Y, parameters)\n",
        "\n",
        "# Plot decision boundary\n",
        "plt.title(\"Model with Gradient Descent optimization\")\n",
        "axes = plt.gca()\n",
        "axes.set_xlim([-1.5,2.5])\n",
        "axes.set_ylim([-1,1.5])\n",
        "plot_decision_boundary(lambda x: predict_dec(parameters, x.T), train_X, train_Y)"
      ]
    },
    {
      "cell_type": "markdown",
      "metadata": {
        "id": "TioQwcOSmxn_"
      },
      "source": [
        "Notice that if you set the decay to occur at every iteration, the learning rate goes to zero too quickly - even if you start with a higher learning rate.\n",
        "<table>\n",
        "    <tr>\n",
        "        <td>\n",
        "        <b>Epoch Number</b>\n",
        "        </td>\n",
        "        <td>\n",
        "        <b>Learning Rate</b>\n",
        "        </td>\n",
        "        <td>\n",
        "        <b>Cost</b>\n",
        "        </td>\n",
        "    </tr>\n",
        "    <tr>\n",
        "        <td>\n",
        "        0\n",
        "        </td>\n",
        "        <td>\n",
        "        0.100000\n",
        "        </td>\n",
        "        <td>\n",
        "        0.701091\n",
        "        </td>\n",
        "    </tr>\n",
        "    <tr>\n",
        "        <td>\n",
        "        1000\n",
        "        </td>\n",
        "        <td>\n",
        "        0.000100\n",
        "        </td>\n",
        "        <td>\n",
        "        0.661884\n",
        "        </td>\n",
        "    </tr>\n",
        "    <tr>\n",
        "        <td>\n",
        "        2000\n",
        "        </td>\n",
        "        <td>\n",
        "        0.000050\n",
        "        </td>\n",
        "        <td>\n",
        "        0.658620\n",
        "        </td>\n",
        "    </tr>\n",
        "    <tr>\n",
        "        <td>\n",
        "        3000\n",
        "        </td>\n",
        "        <td>\n",
        "        0.000033\n",
        "        </td>\n",
        "        <td>\n",
        "        0.656765\n",
        "        </td>\n",
        "    </tr>\n",
        "    <tr>\n",
        "        <td>\n",
        "        4000\n",
        "        </td>\n",
        "        <td>\n",
        "        0.000025\n",
        "        </td>\n",
        "        <td>\n",
        "        0.655486\n",
        "        </td>\n",
        "    </tr>\n",
        "    <tr>\n",
        "        <td>\n",
        "        5000\n",
        "        </td>\n",
        "        <td>\n",
        "        0.000020\n",
        "        </td>\n",
        "        <td>\n",
        "        0.654514\n",
        "        </td>\n",
        "    </tr>\n",
        "</table>\n",
        "\n",
        "When you're training for a few epoch this doesn't cause a lot of troubles, but when the number of epochs is large the optimization algorithm will stop updating. One common fix to this issue is to decay the learning rate every few steps. This is called fixed interval scheduling."
      ]
    },
    {
      "cell_type": "markdown",
      "metadata": {
        "id": "P7MUCRZHmxoA"
      },
      "source": [
        "<a name='7-2'></a>\n",
        "### 7.2 - Fixed Interval Scheduling\n",
        "\n",
        "You can help prevent the learning rate speeding to zero too quickly by scheduling the exponential learning rate decay at a fixed time interval, for example 1000. You can either number the intervals, or divide the epoch by the time interval, which is the size of window with the constant learning rate.\n",
        "\n",
        "<img src=\"images/lr.png\" style=\"width:400px;height:250px;\">"
      ]
    },
    {
      "cell_type": "markdown",
      "metadata": {
        "id": "y7P-pLhemxoA"
      },
      "source": [
        "<a name='ex-8'></a>\n",
        "### Exercise 8 - schedule_lr_decay\n",
        "\n",
        "Calculate the new learning rate using exponential weight decay with fixed interval scheduling.\n",
        "\n",
        "**Instructions**: Implement the learning rate scheduling such that it only changes when the epochNum is a multiple of the timeInterval.\n",
        "\n",
        "**Note:** The fraction in the denominator uses the floor operation.\n",
        "\n",
        "$$\\alpha = \\frac{1}{1 + decayRate \\times \\lfloor\\frac{epochNum}{timeInterval}\\rfloor} \\alpha_{0}$$\n",
        "\n",
        "**Hint:** [numpy.floor](https://numpy.org/doc/stable/reference/generated/numpy.floor.html)"
      ]
    },
    {
      "cell_type": "code",
      "execution_count": null,
      "metadata": {
        "deletable": false,
        "nbgrader": {
          "cell_type": "code",
          "checksum": "6684151ebcddc6e4aaad1040b9e3d80a",
          "grade": false,
          "grade_id": "cell-e5b733253d9006fc",
          "locked": false,
          "schema_version": 3,
          "solution": true,
          "task": false
        },
        "id": "OMBTjTcEmxoB"
      },
      "outputs": [],
      "source": [
        "# GRADED FUNCTION: schedule_lr_decay\n",
        "\n",
        "def schedule_lr_decay(learning_rate0, epoch_num, decay_rate, time_interval=1000):\n",
        "    \"\"\"\n",
        "    Calculates updated the learning rate using exponential weight decay.\n",
        "\n",
        "    Arguments:\n",
        "    learning_rate0 -- Original learning rate. Scalar\n",
        "    epoch_num -- Epoch number. Integer.\n",
        "    decay_rate -- Decay rate. Scalar.\n",
        "    time_interval -- Number of epochs where you update the learning rate.\n",
        "\n",
        "    Returns:\n",
        "    learning_rate -- Updated learning rate. Scalar\n",
        "    \"\"\"\n",
        "    # (approx. 1 lines)\n",
        "    # learning_rate = ...\n",
        "    # YOUR CODE STARTS HERE\n",
        "\n",
        "\n",
        "    # YOUR CODE ENDS HERE\n",
        "    return learning_rate"
      ]
    },
    {
      "cell_type": "code",
      "execution_count": null,
      "metadata": {
        "deletable": false,
        "editable": false,
        "nbgrader": {
          "cell_type": "code",
          "checksum": "221cccee108f8b2db6ff3c6c76ee3db9",
          "grade": true,
          "grade_id": "cell-03cd771ef9f3be85",
          "locked": true,
          "points": 10,
          "schema_version": 3,
          "solution": false,
          "task": false
        },
        "id": "4Ln-9ekVmxoB"
      },
      "outputs": [],
      "source": [
        "learning_rate = 0.5\n",
        "print(\"Original learning rate: \", learning_rate)\n",
        "\n",
        "epoch_num_1 = 10\n",
        "epoch_num_2 = 100\n",
        "decay_rate = 0.3\n",
        "time_interval = 100\n",
        "learning_rate_1 = schedule_lr_decay(learning_rate, epoch_num_1, decay_rate, time_interval)\n",
        "learning_rate_2 = schedule_lr_decay(learning_rate, epoch_num_2, decay_rate, time_interval)\n",
        "print(\"Updated learning rate after {} epochs: \".format(epoch_num_1), learning_rate_1)\n",
        "print(\"Updated learning rate after {} epochs: \".format(epoch_num_2), learning_rate_2)\n",
        "\n",
        "schedule_lr_decay_test(schedule_lr_decay)"
      ]
    },
    {
      "cell_type": "markdown",
      "metadata": {
        "id": "aqxlOjdcmxoC"
      },
      "source": [
        "**Expected output**\n",
        "```\n",
        "Original learning rate:  0.5\n",
        "Updated learning rate after 10 epochs:  0.5\n",
        "Updated learning rate after 100 epochs:  0.3846153846153846\n",
        "```"
      ]
    },
    {
      "cell_type": "markdown",
      "metadata": {
        "id": "93a07fXNmxoD"
      },
      "source": [
        "<a name='7-3'></a>\n",
        "### 7.3 - Using Learning Rate Decay for each Optimization Method\n",
        "\n",
        "Below, you'll use the following \"moons\" dataset to test the different optimization methods. (The dataset is named \"moons\" because the data from each of the two classes looks a bit like a crescent-shaped moon.)"
      ]
    },
    {
      "cell_type": "markdown",
      "metadata": {
        "id": "KwTOCx4ymxoE"
      },
      "source": [
        "<a name='7-3-1'></a>\n",
        "#### 7.3.1 - Gradient Descent with Learning Rate Decay\n",
        "\n",
        "Run the following code to see how the model does gradient descent and weight decay."
      ]
    },
    {
      "cell_type": "code",
      "execution_count": null,
      "metadata": {
        "id": "9XEU6mj8mxoE"
      },
      "outputs": [],
      "source": [
        "# train 3-layer model\n",
        "layers_dims = [train_X.shape[0], 5, 2, 1]\n",
        "parameters = model(train_X, train_Y, layers_dims, optimizer = \"gd\", learning_rate = 0.1, num_epochs=5000, decay=schedule_lr_decay)\n",
        "\n",
        "# Predict\n",
        "predictions = predict(train_X, train_Y, parameters)\n",
        "\n",
        "# Plot decision boundary\n",
        "plt.title(\"Model with Gradient Descent optimization\")\n",
        "axes = plt.gca()\n",
        "axes.set_xlim([-1.5,2.5])\n",
        "axes.set_ylim([-1,1.5])\n",
        "plot_decision_boundary(lambda x: predict_dec(parameters, x.T), train_X, train_Y)"
      ]
    },
    {
      "cell_type": "markdown",
      "metadata": {
        "id": "YsdNIBBdmxoF"
      },
      "source": [
        "<a name='7-3-2'></a>\n",
        "#### 7.3.2 - Gradient Descent with Momentum and Learning Rate Decay\n",
        "\n",
        "Run the following code to see how the model does gradient descent with momentum and weight decay."
      ]
    },
    {
      "cell_type": "code",
      "execution_count": null,
      "metadata": {
        "id": "QnJs1cDYmxoF"
      },
      "outputs": [],
      "source": [
        "# train 3-layer model\n",
        "layers_dims = [train_X.shape[0], 5, 2, 1]\n",
        "parameters = model(train_X, train_Y, layers_dims, optimizer = \"momentum\", learning_rate = 0.1, num_epochs=5000, decay=schedule_lr_decay)\n",
        "\n",
        "# Predict\n",
        "predictions = predict(train_X, train_Y, parameters)\n",
        "\n",
        "# Plot decision boundary\n",
        "plt.title(\"Model with Gradient Descent with momentum optimization\")\n",
        "axes = plt.gca()\n",
        "axes.set_xlim([-1.5,2.5])\n",
        "axes.set_ylim([-1,1.5])\n",
        "plot_decision_boundary(lambda x: predict_dec(parameters, x.T), train_X, train_Y)"
      ]
    },
    {
      "cell_type": "markdown",
      "metadata": {
        "id": "JfK6FlnymxoG"
      },
      "source": [
        "<a name='7-3-3'></a>\n",
        "#### 7.3.3 - Adam with Learning Rate Decay\n",
        "\n",
        "Run the following code to see how the model does Adam and weight decay."
      ]
    },
    {
      "cell_type": "code",
      "execution_count": null,
      "metadata": {
        "id": "utShhrutmxoG"
      },
      "outputs": [],
      "source": [
        "# train 3-layer model\n",
        "layers_dims = [train_X.shape[0], 5, 2, 1]\n",
        "parameters = model(train_X, train_Y, layers_dims, optimizer = \"adam\", learning_rate = 0.01, num_epochs=5000, decay=schedule_lr_decay)\n",
        "\n",
        "# Predict\n",
        "predictions = predict(train_X, train_Y, parameters)\n",
        "\n",
        "# Plot decision boundary\n",
        "plt.title(\"Model with Adam optimization\")\n",
        "axes = plt.gca()\n",
        "axes.set_xlim([-1.5,2.5])\n",
        "axes.set_ylim([-1,1.5])\n",
        "plot_decision_boundary(lambda x: predict_dec(parameters, x.T), train_X, train_Y)"
      ]
    },
    {
      "cell_type": "markdown",
      "metadata": {
        "id": "Er1028oQmxoH"
      },
      "source": [
        "<a name='7-4'></a>\n",
        "### 7.4 - Achieving similar performance with different methods\n",
        "\n",
        "With Mini-batch GD or Mini-batch GD with Momentum, the accuracy is significantly lower than Adam, but when learning rate decay is added on top, either can achieve performance at a speed and accuracy score that's similar to Adam.\n",
        "\n",
        "In the case of Adam, notice that the learning curve achieves a similar accuracy but faster.\n",
        "\n",
        "<table>\n",
        "    <tr>\n",
        "        <td>\n",
        "        <b>optimization method</b>\n",
        "        </td>\n",
        "        <td>\n",
        "        <b>accuracy</b>\n",
        "        </td>\n",
        "    </tr>\n",
        "        <td>\n",
        "        Gradient descent\n",
        "        </td>\n",
        "        <td>\n",
        "        >94.6%\n",
        "        </td>\n",
        "    <tr>\n",
        "        <td>\n",
        "        Momentum\n",
        "        </td>\n",
        "        <td>\n",
        "        >95.6%\n",
        "        </td>\n",
        "    </tr>\n",
        "    <tr>\n",
        "        <td>\n",
        "        Adam\n",
        "        </td>\n",
        "        <td>\n",
        "        94%\n",
        "        </td>\n",
        "    </tr>\n",
        "</table>"
      ]
    },
    {
      "cell_type": "markdown",
      "metadata": {
        "id": "1lqbF37amxoH"
      },
      "source": [
        "**Congratulations**! You've made it to the end of the Optimization methods notebook. Here's a quick recap of everything you're now able to do:\n",
        "\n",
        "* Apply three different optimization methods to your models\n",
        "* Build mini-batches for your training set\n",
        "* Use learning rate decay scheduling to speed up your training\n",
        "\n",
        "Great work!"
      ]
    }
  ],
  "metadata": {
    "coursera": {
      "course_slug": "deep-neural-network",
      "graded_item_id": "Ckiv2",
      "launcher_item_id": "eNLYh"
    },
    "kernelspec": {
      "display_name": "Python 3",
      "language": "python",
      "name": "python3"
    },
    "language_info": {
      "codemirror_mode": {
        "name": "ipython",
        "version": 3
      },
      "file_extension": ".py",
      "mimetype": "text/x-python",
      "name": "python",
      "nbconvert_exporter": "python",
      "pygments_lexer": "ipython3",
      "version": "3.7.6"
    },
    "colab": {
      "provenance": [],
      "include_colab_link": true
    }
  },
  "nbformat": 4,
  "nbformat_minor": 0
}